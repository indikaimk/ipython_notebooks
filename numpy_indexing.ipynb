{
 "cells": [
  {
   "cell_type": "code",
   "execution_count": 1,
   "metadata": {
    "collapsed": true
   },
   "outputs": [],
   "source": [
    "import numpy as np"
   ]
  },
  {
   "cell_type": "code",
   "execution_count": 11,
   "metadata": {},
   "outputs": [
    {
     "name": "stdout",
     "output_type": "stream",
     "text": [
      "v1 [[ 0  1  2  3  4  5]\n",
      " [ 6  7  8  9 10 11]\n",
      " [12 13 14 15 16 17]\n",
      " [18 19 20 21 22 23]\n",
      " [24 25 26 27 28 29]\n",
      " [30 31 32 33 34 35]\n",
      " [36 37 38 39 40 41]]\n",
      "v2 [[ 6  7  8  9 10 11]\n",
      " [18 19 20 21 22 23]\n",
      " [30 31 32 33 34 35]]\n",
      "[ 7 21 35]\n"
     ]
    }
   ],
   "source": [
    "v1 = np.reshape(np.arange(42), (7,6))\n",
    "print(\"v1\", v1)\n",
    "#v2 = v1%2\n",
    "#print(v2)\n",
    "#print(v1[(1,2,3),])\n",
    "#v1[v1/2==0]\n",
    "#v2=v1/2==0\n",
    "#v1[True]\n",
    "v2=np.array([1,3,5])\n",
    "print(\"v2\", v1[v2])\n",
    "#y[np.array([0,2,4]), np.array([0,1,2])]\n",
    "v3=v1[np.array([1,3,5]), np.array([1,3,5])]\n",
    "print(v3)"
   ]
  },
  {
   "cell_type": "code",
   "execution_count": 13,
   "metadata": {},
   "outputs": [
    {
     "data": {
      "text/plain": [
       "array([21, 22, 23, 24, 25, 26, 27, 28, 29, 30, 31, 32, 33, 34, 35, 36, 37,\n",
       "       38, 39, 40, 41])"
      ]
     },
     "execution_count": 13,
     "metadata": {},
     "output_type": "execute_result"
    }
   ],
   "source": [
    "v1>20\n",
    "v1[v1>20]"
   ]
  },
  {
   "cell_type": "code",
   "execution_count": 29,
   "metadata": {},
   "outputs": [
    {
     "name": "stdout",
     "output_type": "stream",
     "text": [
      "[[12 13 14 15 16 17]\n",
      " [24 25 26 27 28 29]\n",
      " [30 31 32 33 34 35]]\n",
      "[[12 13 14 15 16 17]\n",
      " [24 25 26 27 28 29]\n",
      " [30 31 32 33 34 35]]\n",
      "[[12 13 14 15 16 17]\n",
      " [24 25 26 27 28 29]\n",
      " [30 31 32 33 34 35]]\n",
      "[14 28 35]\n"
     ]
    }
   ],
   "source": [
    "w1 = np.array([False, False, True, False, True, True, False])\n",
    "print(v1[w1])\n",
    "print(v1[np.array([2,4,5])])\n",
    "print(v1[[2,4,5]])\n",
    "print(v1[[2,4,5],[2,4,5]])"
   ]
  },
  {
   "cell_type": "code",
   "execution_count": null,
   "metadata": {
    "collapsed": true
   },
   "outputs": [],
   "source": []
  }
 ],
 "metadata": {
  "kernelspec": {
   "display_name": "Python 3",
   "language": "python",
   "name": "python3"
  },
  "language_info": {
   "codemirror_mode": {
    "name": "ipython",
    "version": 3
   },
   "file_extension": ".py",
   "mimetype": "text/x-python",
   "name": "python",
   "nbconvert_exporter": "python",
   "pygments_lexer": "ipython3",
   "version": "3.6.3"
  }
 },
 "nbformat": 4,
 "nbformat_minor": 2
}
