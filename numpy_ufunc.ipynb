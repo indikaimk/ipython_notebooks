{
 "cells": [
  {
   "cell_type": "code",
   "execution_count": 1,
   "metadata": {
    "collapsed": true
   },
   "outputs": [],
   "source": [
    "import numpy as np"
   ]
  },
  {
   "cell_type": "code",
   "execution_count": 2,
   "metadata": {},
   "outputs": [
    {
     "name": "stdout",
     "output_type": "stream",
     "text": [
      "-0.988031624093\n",
      "0.523598775598\n",
      "57.2957795131\n",
      "1.5707963267948966\n",
      "1.0\n",
      "[ 0.84147098  0.90929743  0.14112001 -0.7568025 ]\n"
     ]
    }
   ],
   "source": [
    "print(np.sin(30))\n",
    "print(np.deg2rad(30))\n",
    "print(np.rad2deg(1))\n",
    "print(np.pi/2)\n",
    "print(np.sin(np.pi/2))\n",
    "print(np.sin([1,2,3,4])) #universal function"
   ]
  },
  {
   "cell_type": "code",
   "execution_count": 18,
   "metadata": {
    "collapsed": true
   },
   "outputs": [],
   "source": [
    "def no_neg(n):\n",
    "    if not np.nan and n<0:\n",
    "        return 0\n",
    "    else:\n",
    "        return n\n",
    "no_neg = np.vectorize(no_neg) #convert to ufunc"
   ]
  },
  {
   "cell_type": "code",
   "execution_count": 10,
   "metadata": {},
   "outputs": [
    {
     "name": "stdout",
     "output_type": "stream",
     "text": [
      "0\n",
      "2\n",
      "[2]\n",
      "[0 0 0 0 1 2]\n"
     ]
    }
   ],
   "source": [
    "print(no_neg(-2))\n",
    "print(no_neg(2))\n",
    "print(no_neg([2]))\n",
    "a = np.arange(-3,3)\n",
    "print(no_neg(a))"
   ]
  },
  {
   "cell_type": "code",
   "execution_count": 11,
   "metadata": {},
   "outputs": [
    {
     "data": {
      "text/plain": [
       "array(3)"
      ]
     },
     "execution_count": 11,
     "metadata": {},
     "output_type": "execute_result"
    }
   ],
   "source": [
    "no_neg(3)"
   ]
  },
  {
   "cell_type": "code",
   "execution_count": 12,
   "metadata": {},
   "outputs": [
    {
     "data": {
      "text/plain": [
       "()"
      ]
     },
     "execution_count": 12,
     "metadata": {},
     "output_type": "execute_result"
    }
   ],
   "source": [
    "no_neg(2).shape #no_neg return value is equivalent to a scalar"
   ]
  },
  {
   "cell_type": "code",
   "execution_count": 19,
   "metadata": {},
   "outputs": [
    {
     "data": {
      "text/plain": [
       "array([ -4.,   0.,  nan,   7.])"
      ]
     },
     "execution_count": 19,
     "metadata": {},
     "output_type": "execute_result"
    }
   ],
   "source": [
    "a = [-4, 0, np.nan, 7]\n",
    "no_neg(a)"
   ]
  },
  {
   "cell_type": "code",
   "execution_count": 20,
   "metadata": {
    "collapsed": true
   },
   "outputs": [],
   "source": [
    "np.__class__?"
   ]
  },
  {
   "cell_type": "code",
   "execution_count": 35,
   "metadata": {},
   "outputs": [
    {
     "name": "stdout",
     "output_type": "stream",
     "text": [
      "2.0\n",
      "[ 0.          3.31662479  4.69041576  5.74456265  6.63324958  7.41619849\n",
      "  8.1240384   8.77496439  9.38083152  9.94987437]\n"
     ]
    }
   ],
   "source": [
    "    print(np.sqrt(4))\n",
    "    a = np.arange(0,100, 11)\n",
    "    print(np.sqrt(a))"
   ]
  },
  {
   "cell_type": "code",
   "execution_count": 47,
   "metadata": {},
   "outputs": [
    {
     "name": "stdout",
     "output_type": "stream",
     "text": [
      "False\n",
      "True\n",
      "[False  True False  True False  True False  True False]\n",
      "[False  True False  True False]\n"
     ]
    }
   ],
   "source": [
    "def is_even(n):\n",
    "    if n%2==0:\n",
    "        return True\n",
    "    else:\n",
    "        return False\n",
    "print(is_even(1))\n",
    "print(is_even(2))\n",
    "#print(is_even(np.arange(1,10)))\n",
    "is_even = np.vectorize(is_even)\n",
    "print(is_even(np.arange(1,10)))\n",
    "print(is_even([1,2,3,4, np.nan]))"
   ]
  },
  {
   "cell_type": "code",
   "execution_count": 40,
   "metadata": {
    "collapsed": true
   },
   "outputs": [],
   "source": [
    "np.e"
   ]
  },
  {
   "cell_type": "code",
   "execution_count": null,
   "metadata": {
    "collapsed": true
   },
   "outputs": [],
   "source": []
  }
 ],
 "metadata": {
  "kernelspec": {
   "display_name": "Python 3",
   "language": "python",
   "name": "python3"
  },
  "language_info": {
   "codemirror_mode": {
    "name": "ipython",
    "version": 3
   },
   "file_extension": ".py",
   "mimetype": "text/x-python",
   "name": "python",
   "nbconvert_exporter": "python",
   "pygments_lexer": "ipython3",
   "version": "3.6.3"
  }
 },
 "nbformat": 4,
 "nbformat_minor": 2
}
