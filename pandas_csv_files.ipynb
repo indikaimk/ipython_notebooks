{
 "cells": [
  {
   "cell_type": "code",
   "execution_count": 1,
   "metadata": {
    "collapsed": true
   },
   "outputs": [],
   "source": [
    "import pandas as pd"
   ]
  },
  {
   "cell_type": "code",
   "execution_count": 2,
   "metadata": {
    "collapsed": true
   },
   "outputs": [],
   "source": [
    "from os import path\n",
    "fname = path.expanduser('~/Documents/data_science/track.csv')"
   ]
  },
  {
   "cell_type": "code",
   "execution_count": 3,
   "metadata": {},
   "outputs": [
    {
     "data": {
      "text/plain": [
       "'/home/indika/Documents/data_science/track.csv'"
      ]
     },
     "execution_count": 3,
     "metadata": {},
     "output_type": "execute_result"
    }
   ],
   "source": [
    "fname"
   ]
  },
  {
   "cell_type": "code",
   "execution_count": 4,
   "metadata": {},
   "outputs": [
    {
     "name": "stdout",
     "output_type": "stream",
     "text": [
      "-rwxrwxrwx. 1 indika indika 43K Apr  8  2017 /home/indika/Documents/data_science/track.csv\r\n"
     ]
    }
   ],
   "source": [
    "!ls -lh \"$fname\""
   ]
  },
  {
   "cell_type": "code",
   "execution_count": 5,
   "metadata": {},
   "outputs": [
    {
     "data": {
      "text/plain": [
       "42.81640625"
      ]
     },
     "execution_count": 5,
     "metadata": {},
     "output_type": "execute_result"
    }
   ],
   "source": [
    "path.getsize(fname)/1024 #KB"
   ]
  },
  {
   "cell_type": "code",
   "execution_count": 6,
   "metadata": {},
   "outputs": [
    {
     "name": "stdout",
     "output_type": "stream",
     "text": [
      "time,lat,lng,height\r\n",
      "2015-08-20 03:48:07.235,35.015021,32.519585,136.1999969482422\r\n",
      "2015-08-20 03:48:24.734,35.014954,32.519606,126.5999984741211\r\n",
      "2015-08-20 03:48:25.660,35.014871,32.519612,123.0\r\n",
      "2015-08-20 03:48:26.819,35.014824,32.519654,120.5\r\n",
      "2015-08-20 03:48:27.828,35.014776,32.519689,118.9000015258789\r\n",
      "2015-08-20 03:48:29.720,35.014704,32.519691,119.9000015258789\r\n",
      "2015-08-20 03:48:30.669,35.014657,32.519734,120.9000015258789\r\n",
      "2015-08-20 03:48:33.793,35.014563,32.519719,121.69999694824219\r\n",
      "2015-08-20 03:48:34.869,35.014549,32.519694,121.19999694824219\r\n"
     ]
    }
   ],
   "source": [
    "!head \"$fname\""
   ]
  },
  {
   "cell_type": "code",
   "execution_count": 7,
   "metadata": {},
   "outputs": [
    {
     "name": "stdout",
     "output_type": "stream",
     "text": [
      "time,lat,lng,height\n",
      "\n",
      "2015-08-20 03:48:07.235,35.015021,32.519585,136.1999969482422\n",
      "\n",
      "2015-08-20 03:48:24.734,35.014954,32.519606,126.5999984741211\n",
      "\n",
      "2015-08-20 03:48:25.660,35.014871,32.519612,123.0\n",
      "\n",
      "2015-08-20 03:48:26.819,35.014824,32.519654,120.5\n",
      "\n",
      "2015-08-20 03:48:27.828,35.014776,32.519689,118.9000015258789\n",
      "\n",
      "2015-08-20 03:48:29.720,35.014704,32.519691,119.9000015258789\n",
      "\n",
      "2015-08-20 03:48:30.669,35.014657,32.519734,120.9000015258789\n",
      "\n",
      "2015-08-20 03:48:33.793,35.014563,32.519719,121.69999694824219\n",
      "\n",
      "2015-08-20 03:48:34.869,35.014549,32.519694,121.19999694824219\n",
      "\n",
      "2015-08-20 03:48:37.708,35.014515,32.519625,121.69999694824219\n",
      "\n"
     ]
    }
   ],
   "source": [
    "with open(fname) as fp:\n",
    "    for lnum, line in enumerate(fp):\n",
    "        if lnum > 10:\n",
    "            break\n",
    "        else:\n",
    "            print(line)"
   ]
  },
  {
   "cell_type": "code",
   "execution_count": 8,
   "metadata": {},
   "outputs": [
    {
     "name": "stdout",
     "output_type": "stream",
     "text": [
      "741 /home/indika/Documents/data_science/track.csv\r\n"
     ]
    }
   ],
   "source": [
    "!wc -l \"$fname\""
   ]
  },
  {
   "cell_type": "code",
   "execution_count": 9,
   "metadata": {},
   "outputs": [
    {
     "name": "stdout",
     "output_type": "stream",
     "text": [
      "741\n"
     ]
    }
   ],
   "source": [
    "with open(fname) as fp:\n",
    "    print(sum(1 for line in fp))"
   ]
  },
  {
   "cell_type": "code",
   "execution_count": 10,
   "metadata": {
    "collapsed": true
   },
   "outputs": [],
   "source": [
    "df = pd.read_csv(fname)"
   ]
  },
  {
   "cell_type": "code",
   "execution_count": 11,
   "metadata": {},
   "outputs": [
    {
     "data": {
      "text/plain": [
       "740"
      ]
     },
     "execution_count": 11,
     "metadata": {},
     "output_type": "execute_result"
    }
   ],
   "source": [
    "len(df) #First row column names"
   ]
  },
  {
   "cell_type": "code",
   "execution_count": 12,
   "metadata": {},
   "outputs": [
    {
     "data": {
      "text/plain": [
       "Index(['time', 'lat', 'lng', 'height'], dtype='object')"
      ]
     },
     "execution_count": 12,
     "metadata": {},
     "output_type": "execute_result"
    }
   ],
   "source": [
    "df.columns"
   ]
  },
  {
   "cell_type": "code",
   "execution_count": 13,
   "metadata": {},
   "outputs": [
    {
     "data": {
      "text/html": [
       "<div>\n",
       "<style>\n",
       "    .dataframe thead tr:only-child th {\n",
       "        text-align: right;\n",
       "    }\n",
       "\n",
       "    .dataframe thead th {\n",
       "        text-align: left;\n",
       "    }\n",
       "\n",
       "    .dataframe tbody tr th {\n",
       "        vertical-align: top;\n",
       "    }\n",
       "</style>\n",
       "<table border=\"1\" class=\"dataframe\">\n",
       "  <thead>\n",
       "    <tr style=\"text-align: right;\">\n",
       "      <th></th>\n",
       "      <th>time</th>\n",
       "      <th>lat</th>\n",
       "      <th>lng</th>\n",
       "      <th>height</th>\n",
       "    </tr>\n",
       "  </thead>\n",
       "  <tbody>\n",
       "    <tr>\n",
       "      <th>0</th>\n",
       "      <td>2015-08-20 03:48:07.235</td>\n",
       "      <td>35.015021</td>\n",
       "      <td>32.519585</td>\n",
       "      <td>136.199997</td>\n",
       "    </tr>\n",
       "    <tr>\n",
       "      <th>1</th>\n",
       "      <td>2015-08-20 03:48:24.734</td>\n",
       "      <td>35.014954</td>\n",
       "      <td>32.519606</td>\n",
       "      <td>126.599998</td>\n",
       "    </tr>\n",
       "    <tr>\n",
       "      <th>2</th>\n",
       "      <td>2015-08-20 03:48:25.660</td>\n",
       "      <td>35.014871</td>\n",
       "      <td>32.519612</td>\n",
       "      <td>123.000000</td>\n",
       "    </tr>\n",
       "    <tr>\n",
       "      <th>3</th>\n",
       "      <td>2015-08-20 03:48:26.819</td>\n",
       "      <td>35.014824</td>\n",
       "      <td>32.519654</td>\n",
       "      <td>120.500000</td>\n",
       "    </tr>\n",
       "    <tr>\n",
       "      <th>4</th>\n",
       "      <td>2015-08-20 03:48:27.828</td>\n",
       "      <td>35.014776</td>\n",
       "      <td>32.519689</td>\n",
       "      <td>118.900002</td>\n",
       "    </tr>\n",
       "  </tbody>\n",
       "</table>\n",
       "</div>"
      ],
      "text/plain": [
       "                      time        lat        lng      height\n",
       "0  2015-08-20 03:48:07.235  35.015021  32.519585  136.199997\n",
       "1  2015-08-20 03:48:24.734  35.014954  32.519606  126.599998\n",
       "2  2015-08-20 03:48:25.660  35.014871  32.519612  123.000000\n",
       "3  2015-08-20 03:48:26.819  35.014824  32.519654  120.500000\n",
       "4  2015-08-20 03:48:27.828  35.014776  32.519689  118.900002"
      ]
     },
     "execution_count": 13,
     "metadata": {},
     "output_type": "execute_result"
    }
   ],
   "source": [
    "df.head()"
   ]
  },
  {
   "cell_type": "code",
   "execution_count": 14,
   "metadata": {},
   "outputs": [
    {
     "name": "stdout",
     "output_type": "stream",
     "text": [
      "<class 'pandas.core.frame.DataFrame'>\n",
      "RangeIndex: 740 entries, 0 to 739\n",
      "Data columns (total 4 columns):\n",
      "time      740 non-null object\n",
      "lat       740 non-null float64\n",
      "lng       740 non-null float64\n",
      "height    740 non-null float64\n",
      "dtypes: float64(3), object(1)\n",
      "memory usage: 20.3+ KB\n"
     ]
    }
   ],
   "source": [
    "df.info()"
   ]
  },
  {
   "cell_type": "code",
   "execution_count": 15,
   "metadata": {},
   "outputs": [
    {
     "data": {
      "text/plain": [
       "time       object\n",
       "lat       float64\n",
       "lng       float64\n",
       "height    float64\n",
       "dtype: object"
      ]
     },
     "execution_count": 15,
     "metadata": {},
     "output_type": "execute_result"
    }
   ],
   "source": [
    "df.dtypes"
   ]
  },
  {
   "cell_type": "code",
   "execution_count": 16,
   "metadata": {
    "collapsed": true
   },
   "outputs": [],
   "source": [
    "df = pd.read_csv(fname, parse_dates=[\"time\"])"
   ]
  },
  {
   "cell_type": "code",
   "execution_count": 17,
   "metadata": {},
   "outputs": [
    {
     "data": {
      "text/html": [
       "<div>\n",
       "<style>\n",
       "    .dataframe thead tr:only-child th {\n",
       "        text-align: right;\n",
       "    }\n",
       "\n",
       "    .dataframe thead th {\n",
       "        text-align: left;\n",
       "    }\n",
       "\n",
       "    .dataframe tbody tr th {\n",
       "        vertical-align: top;\n",
       "    }\n",
       "</style>\n",
       "<table border=\"1\" class=\"dataframe\">\n",
       "  <thead>\n",
       "    <tr style=\"text-align: right;\">\n",
       "      <th></th>\n",
       "      <th>time</th>\n",
       "      <th>lat</th>\n",
       "      <th>lng</th>\n",
       "      <th>height</th>\n",
       "    </tr>\n",
       "  </thead>\n",
       "  <tbody>\n",
       "    <tr>\n",
       "      <th>0</th>\n",
       "      <td>2015-08-20 03:48:07.235</td>\n",
       "      <td>35.015021</td>\n",
       "      <td>32.519585</td>\n",
       "      <td>136.199997</td>\n",
       "    </tr>\n",
       "    <tr>\n",
       "      <th>1</th>\n",
       "      <td>2015-08-20 03:48:24.734</td>\n",
       "      <td>35.014954</td>\n",
       "      <td>32.519606</td>\n",
       "      <td>126.599998</td>\n",
       "    </tr>\n",
       "    <tr>\n",
       "      <th>2</th>\n",
       "      <td>2015-08-20 03:48:25.660</td>\n",
       "      <td>35.014871</td>\n",
       "      <td>32.519612</td>\n",
       "      <td>123.000000</td>\n",
       "    </tr>\n",
       "    <tr>\n",
       "      <th>3</th>\n",
       "      <td>2015-08-20 03:48:26.819</td>\n",
       "      <td>35.014824</td>\n",
       "      <td>32.519654</td>\n",
       "      <td>120.500000</td>\n",
       "    </tr>\n",
       "    <tr>\n",
       "      <th>4</th>\n",
       "      <td>2015-08-20 03:48:27.828</td>\n",
       "      <td>35.014776</td>\n",
       "      <td>32.519689</td>\n",
       "      <td>118.900002</td>\n",
       "    </tr>\n",
       "  </tbody>\n",
       "</table>\n",
       "</div>"
      ],
      "text/plain": [
       "                     time        lat        lng      height\n",
       "0 2015-08-20 03:48:07.235  35.015021  32.519585  136.199997\n",
       "1 2015-08-20 03:48:24.734  35.014954  32.519606  126.599998\n",
       "2 2015-08-20 03:48:25.660  35.014871  32.519612  123.000000\n",
       "3 2015-08-20 03:48:26.819  35.014824  32.519654  120.500000\n",
       "4 2015-08-20 03:48:27.828  35.014776  32.519689  118.900002"
      ]
     },
     "execution_count": 17,
     "metadata": {},
     "output_type": "execute_result"
    }
   ],
   "source": [
    "df.head()"
   ]
  },
  {
   "cell_type": "code",
   "execution_count": 18,
   "metadata": {},
   "outputs": [
    {
     "data": {
      "text/plain": [
       "time      datetime64[ns]\n",
       "lat              float64\n",
       "lng              float64\n",
       "height           float64\n",
       "dtype: object"
      ]
     },
     "execution_count": 18,
     "metadata": {},
     "output_type": "execute_result"
    }
   ],
   "source": [
    "df.dtypes"
   ]
  },
  {
   "cell_type": "code",
   "execution_count": 19,
   "metadata": {},
   "outputs": [
    {
     "data": {
      "text/plain": [
       "0   2015-08-20 03:48:07.235\n",
       "1   2015-08-20 03:48:24.734\n",
       "2   2015-08-20 03:48:25.660\n",
       "3   2015-08-20 03:48:26.819\n",
       "4   2015-08-20 03:48:27.828\n",
       "5   2015-08-20 03:48:29.720\n",
       "6   2015-08-20 03:48:30.669\n",
       "7   2015-08-20 03:48:33.793\n",
       "8   2015-08-20 03:48:34.869\n",
       "9   2015-08-20 03:48:37.708\n",
       "Name: time, dtype: datetime64[ns]"
      ]
     },
     "execution_count": 19,
     "metadata": {},
     "output_type": "execute_result"
    }
   ],
   "source": [
    "df[\"time\"][0:10]"
   ]
  },
  {
   "cell_type": "code",
   "execution_count": 20,
   "metadata": {},
   "outputs": [
    {
     "data": {
      "text/plain": [
       "time      2015-08-20 03:48:07.235000\n",
       "lat                           35.015\n",
       "lng                          32.5196\n",
       "height                         136.2\n",
       "Name: 0, dtype: object"
      ]
     },
     "execution_count": 20,
     "metadata": {},
     "output_type": "execute_result"
    }
   ],
   "source": [
    "df.loc[0]"
   ]
  },
  {
   "cell_type": "code",
   "execution_count": 21,
   "metadata": {},
   "outputs": [
    {
     "data": {
      "text/html": [
       "<div>\n",
       "<style>\n",
       "    .dataframe thead tr:only-child th {\n",
       "        text-align: right;\n",
       "    }\n",
       "\n",
       "    .dataframe thead th {\n",
       "        text-align: left;\n",
       "    }\n",
       "\n",
       "    .dataframe tbody tr th {\n",
       "        vertical-align: top;\n",
       "    }\n",
       "</style>\n",
       "<table border=\"1\" class=\"dataframe\">\n",
       "  <thead>\n",
       "    <tr style=\"text-align: right;\">\n",
       "      <th></th>\n",
       "      <th>time</th>\n",
       "      <th>lat</th>\n",
       "      <th>lng</th>\n",
       "      <th>height</th>\n",
       "    </tr>\n",
       "  </thead>\n",
       "  <tbody>\n",
       "    <tr>\n",
       "      <th>20</th>\n",
       "      <td>2015-08-20 03:48:59.663</td>\n",
       "      <td>35.014331</td>\n",
       "      <td>32.519084</td>\n",
       "      <td>121.800003</td>\n",
       "    </tr>\n",
       "    <tr>\n",
       "      <th>21</th>\n",
       "      <td>2015-08-20 03:49:03.861</td>\n",
       "      <td>35.014303</td>\n",
       "      <td>32.519009</td>\n",
       "      <td>122.900002</td>\n",
       "    </tr>\n",
       "    <tr>\n",
       "      <th>22</th>\n",
       "      <td>2015-08-20 03:49:04.663</td>\n",
       "      <td>35.014306</td>\n",
       "      <td>32.518989</td>\n",
       "      <td>122.900002</td>\n",
       "    </tr>\n",
       "    <tr>\n",
       "      <th>23</th>\n",
       "      <td>2015-08-20 03:49:07.742</td>\n",
       "      <td>35.014340</td>\n",
       "      <td>32.518916</td>\n",
       "      <td>123.099998</td>\n",
       "    </tr>\n",
       "    <tr>\n",
       "      <th>24</th>\n",
       "      <td>2015-08-20 03:50:13.679</td>\n",
       "      <td>35.013531</td>\n",
       "      <td>32.517636</td>\n",
       "      <td>115.199997</td>\n",
       "    </tr>\n",
       "    <tr>\n",
       "      <th>25</th>\n",
       "      <td>2015-08-20 03:50:16.767</td>\n",
       "      <td>35.013606</td>\n",
       "      <td>32.517589</td>\n",
       "      <td>114.300003</td>\n",
       "    </tr>\n",
       "  </tbody>\n",
       "</table>\n",
       "</div>"
      ],
      "text/plain": [
       "                      time        lat        lng      height\n",
       "20 2015-08-20 03:48:59.663  35.014331  32.519084  121.800003\n",
       "21 2015-08-20 03:49:03.861  35.014303  32.519009  122.900002\n",
       "22 2015-08-20 03:49:04.663  35.014306  32.518989  122.900002\n",
       "23 2015-08-20 03:49:07.742  35.014340  32.518916  123.099998\n",
       "24 2015-08-20 03:50:13.679  35.013531  32.517636  115.199997\n",
       "25 2015-08-20 03:50:16.767  35.013606  32.517589  114.300003"
      ]
     },
     "execution_count": 21,
     "metadata": {},
     "output_type": "execute_result"
    }
   ],
   "source": [
    "df.loc[20:25]"
   ]
  },
  {
   "cell_type": "code",
   "execution_count": 22,
   "metadata": {},
   "outputs": [
    {
     "data": {
      "text/html": [
       "<div>\n",
       "<style>\n",
       "    .dataframe thead tr:only-child th {\n",
       "        text-align: right;\n",
       "    }\n",
       "\n",
       "    .dataframe thead th {\n",
       "        text-align: left;\n",
       "    }\n",
       "\n",
       "    .dataframe tbody tr th {\n",
       "        vertical-align: top;\n",
       "    }\n",
       "</style>\n",
       "<table border=\"1\" class=\"dataframe\">\n",
       "  <thead>\n",
       "    <tr style=\"text-align: right;\">\n",
       "      <th></th>\n",
       "      <th>lat</th>\n",
       "      <th>lng</th>\n",
       "    </tr>\n",
       "  </thead>\n",
       "  <tbody>\n",
       "    <tr>\n",
       "      <th>0</th>\n",
       "      <td>35.015021</td>\n",
       "      <td>32.519585</td>\n",
       "    </tr>\n",
       "    <tr>\n",
       "      <th>1</th>\n",
       "      <td>35.014954</td>\n",
       "      <td>32.519606</td>\n",
       "    </tr>\n",
       "    <tr>\n",
       "      <th>2</th>\n",
       "      <td>35.014871</td>\n",
       "      <td>32.519612</td>\n",
       "    </tr>\n",
       "    <tr>\n",
       "      <th>3</th>\n",
       "      <td>35.014824</td>\n",
       "      <td>32.519654</td>\n",
       "    </tr>\n",
       "    <tr>\n",
       "      <th>4</th>\n",
       "      <td>35.014776</td>\n",
       "      <td>32.519689</td>\n",
       "    </tr>\n",
       "  </tbody>\n",
       "</table>\n",
       "</div>"
      ],
      "text/plain": [
       "         lat        lng\n",
       "0  35.015021  32.519585\n",
       "1  35.014954  32.519606\n",
       "2  35.014871  32.519612\n",
       "3  35.014824  32.519654\n",
       "4  35.014776  32.519689"
      ]
     },
     "execution_count": 22,
     "metadata": {},
     "output_type": "execute_result"
    }
   ],
   "source": [
    "df[[\"lat\", \"lng\"]][0:5]"
   ]
  },
  {
   "cell_type": "code",
   "execution_count": 23,
   "metadata": {},
   "outputs": [
    {
     "data": {
      "text/plain": [
       "RangeIndex(start=0, stop=740, step=1)"
      ]
     },
     "execution_count": 23,
     "metadata": {},
     "output_type": "execute_result"
    }
   ],
   "source": [
    "df.index"
   ]
  },
  {
   "cell_type": "code",
   "execution_count": 24,
   "metadata": {},
   "outputs": [
    {
     "data": {
      "text/html": [
       "<div>\n",
       "<style>\n",
       "    .dataframe thead tr:only-child th {\n",
       "        text-align: right;\n",
       "    }\n",
       "\n",
       "    .dataframe thead th {\n",
       "        text-align: left;\n",
       "    }\n",
       "\n",
       "    .dataframe tbody tr th {\n",
       "        vertical-align: top;\n",
       "    }\n",
       "</style>\n",
       "<table border=\"1\" class=\"dataframe\">\n",
       "  <thead>\n",
       "    <tr style=\"text-align: right;\">\n",
       "      <th></th>\n",
       "      <th>w</th>\n",
       "      <th>x</th>\n",
       "      <th>y</th>\n",
       "      <th>z</th>\n",
       "    </tr>\n",
       "  </thead>\n",
       "  <tbody>\n",
       "    <tr>\n",
       "      <th>a</th>\n",
       "      <td>0</td>\n",
       "      <td>1</td>\n",
       "      <td>2</td>\n",
       "      <td>3</td>\n",
       "    </tr>\n",
       "    <tr>\n",
       "      <th>b</th>\n",
       "      <td>4</td>\n",
       "      <td>5</td>\n",
       "      <td>6</td>\n",
       "      <td>7</td>\n",
       "    </tr>\n",
       "    <tr>\n",
       "      <th>c</th>\n",
       "      <td>8</td>\n",
       "      <td>9</td>\n",
       "      <td>10</td>\n",
       "      <td>11</td>\n",
       "    </tr>\n",
       "  </tbody>\n",
       "</table>\n",
       "</div>"
      ],
      "text/plain": [
       "   w  x   y   z\n",
       "a  0  1   2   3\n",
       "b  4  5   6   7\n",
       "c  8  9  10  11"
      ]
     },
     "execution_count": 24,
     "metadata": {},
     "output_type": "execute_result"
    }
   ],
   "source": [
    "import numpy as np\n",
    "df1 = pd.DataFrame(np.arange(12).reshape(3,4), columns=[\"w\", \"x\", \"y\", \"z\"], index=[\"a\", \"b\", \"c\"])\n",
    "df1"
   ]
  },
  {
   "cell_type": "code",
   "execution_count": 25,
   "metadata": {},
   "outputs": [
    {
     "data": {
      "text/html": [
       "<div>\n",
       "<style>\n",
       "    .dataframe thead tr:only-child th {\n",
       "        text-align: right;\n",
       "    }\n",
       "\n",
       "    .dataframe thead th {\n",
       "        text-align: left;\n",
       "    }\n",
       "\n",
       "    .dataframe tbody tr th {\n",
       "        vertical-align: top;\n",
       "    }\n",
       "</style>\n",
       "<table border=\"1\" class=\"dataframe\">\n",
       "  <thead>\n",
       "    <tr style=\"text-align: right;\">\n",
       "      <th></th>\n",
       "      <th>w</th>\n",
       "      <th>x</th>\n",
       "      <th>y</th>\n",
       "      <th>z</th>\n",
       "    </tr>\n",
       "  </thead>\n",
       "  <tbody>\n",
       "    <tr>\n",
       "      <th>a</th>\n",
       "      <td>0</td>\n",
       "      <td>1</td>\n",
       "      <td>2</td>\n",
       "      <td>3</td>\n",
       "    </tr>\n",
       "    <tr>\n",
       "      <th>b</th>\n",
       "      <td>4</td>\n",
       "      <td>5</td>\n",
       "      <td>6</td>\n",
       "      <td>7</td>\n",
       "    </tr>\n",
       "    <tr>\n",
       "      <th>c</th>\n",
       "      <td>8</td>\n",
       "      <td>9</td>\n",
       "      <td>10</td>\n",
       "      <td>11</td>\n",
       "    </tr>\n",
       "  </tbody>\n",
       "</table>\n",
       "</div>"
      ],
      "text/plain": [
       "   w  x   y   z\n",
       "a  0  1   2   3\n",
       "b  4  5   6   7\n",
       "c  8  9  10  11"
      ]
     },
     "execution_count": 25,
     "metadata": {},
     "output_type": "execute_result"
    }
   ],
   "source": [
    "df1.loc[\"a\":\"c\"]"
   ]
  },
  {
   "cell_type": "code",
   "execution_count": 26,
   "metadata": {},
   "outputs": [
    {
     "data": {
      "text/plain": [
       "DatetimeIndex(['2015-08-20 03:48:07.235000', '2015-08-20 03:48:24.734000',\n",
       "               '2015-08-20 03:48:25.660000', '2015-08-20 03:48:26.819000',\n",
       "               '2015-08-20 03:48:27.828000', '2015-08-20 03:48:29.720000',\n",
       "               '2015-08-20 03:48:30.669000', '2015-08-20 03:48:33.793000',\n",
       "               '2015-08-20 03:48:34.869000', '2015-08-20 03:48:37.708000',\n",
       "               ...\n",
       "               '2015-08-20 04:20:18.844000', '2015-08-20 04:20:21.996000',\n",
       "               '2015-08-20 04:20:22.897000', '2015-08-20 04:20:24.905000',\n",
       "               '2015-08-20 04:20:25.835000', '2015-08-20 04:20:28.982000',\n",
       "               '2015-08-20 04:20:29.923000', '2015-08-20 04:20:32.863000',\n",
       "               '2015-08-20 04:20:33.994000', '2015-08-20 04:20:42.329000'],\n",
       "              dtype='datetime64[ns]', name='time', length=740, freq=None)"
      ]
     },
     "execution_count": 26,
     "metadata": {},
     "output_type": "execute_result"
    }
   ],
   "source": [
    "df.index = df.time\n",
    "df.index"
   ]
  },
  {
   "cell_type": "code",
   "execution_count": 27,
   "metadata": {},
   "outputs": [
    {
     "data": {
      "text/plain": [
       "time      2015-08-20 04:20:18.844000\n",
       "lat                          35.0147\n",
       "lng                          32.5169\n",
       "height                         106.4\n",
       "Name: 2015-08-20 04:20:18.844000, dtype: object"
      ]
     },
     "execution_count": 27,
     "metadata": {},
     "output_type": "execute_result"
    }
   ],
   "source": [
    "df.loc[\"2015-08-20 04:20:18.844000\"]"
   ]
  },
  {
   "cell_type": "code",
   "execution_count": 28,
   "metadata": {},
   "outputs": [
    {
     "data": {
      "text/html": [
       "<div>\n",
       "<style>\n",
       "    .dataframe thead tr:only-child th {\n",
       "        text-align: right;\n",
       "    }\n",
       "\n",
       "    .dataframe thead th {\n",
       "        text-align: left;\n",
       "    }\n",
       "\n",
       "    .dataframe tbody tr th {\n",
       "        vertical-align: top;\n",
       "    }\n",
       "</style>\n",
       "<table border=\"1\" class=\"dataframe\">\n",
       "  <thead>\n",
       "    <tr style=\"text-align: right;\">\n",
       "      <th></th>\n",
       "      <th>time</th>\n",
       "      <th>lat</th>\n",
       "      <th>lng</th>\n",
       "      <th>height</th>\n",
       "    </tr>\n",
       "    <tr>\n",
       "      <th>time</th>\n",
       "      <th></th>\n",
       "      <th></th>\n",
       "      <th></th>\n",
       "      <th></th>\n",
       "    </tr>\n",
       "  </thead>\n",
       "  <tbody>\n",
       "  </tbody>\n",
       "</table>\n",
       "</div>"
      ],
      "text/plain": [
       "Empty DataFrame\n",
       "Columns: [time, lat, lng, height]\n",
       "Index: []"
      ]
     },
     "execution_count": 28,
     "metadata": {},
     "output_type": "execute_result"
    }
   ],
   "source": [
    "df.loc[\"2015-08-20 03:48:20\"]"
   ]
  },
  {
   "cell_type": "code",
   "execution_count": 29,
   "metadata": {
    "collapsed": true
   },
   "outputs": [],
   "source": [
    "import pytz"
   ]
  },
  {
   "cell_type": "code",
   "execution_count": 30,
   "metadata": {},
   "outputs": [
    {
     "name": "stdout",
     "output_type": "stream",
     "text": [
      "2015-08-20 03:48:07.235000\n"
     ]
    },
    {
     "data": {
      "text/plain": [
       "Timestamp('2015-08-20 03:48:07.235000+0000', tz='UTC')"
      ]
     },
     "execution_count": 30,
     "metadata": {},
     "output_type": "execute_result"
    }
   ],
   "source": [
    "ts = df.index[0]\n",
    "print(ts)\n",
    "ts.tz_localize(pytz.UTC)"
   ]
  },
  {
   "cell_type": "code",
   "execution_count": 31,
   "metadata": {},
   "outputs": [
    {
     "data": {
      "text/plain": [
       "Timestamp('2015-08-20 06:48:07.235000+0300', tz='Asia/Jerusalem')"
      ]
     },
     "execution_count": 31,
     "metadata": {},
     "output_type": "execute_result"
    }
   ],
   "source": [
    "ts.tz_localize(pytz.UTC).tz_convert(pytz.timezone(\"Asia/Jerusalem\"))"
   ]
  },
  {
   "cell_type": "code",
   "execution_count": 32,
   "metadata": {},
   "outputs": [
    {
     "data": {
      "text/plain": [
       "'Sat Mar 17 20:55:28 2018'"
      ]
     },
     "execution_count": 32,
     "metadata": {},
     "output_type": "execute_result"
    }
   ],
   "source": [
    "import time\n",
    "time.asctime(time.localtime(time.time()))"
   ]
  },
  {
   "cell_type": "code",
   "execution_count": 33,
   "metadata": {},
   "outputs": [
    {
     "data": {
      "text/plain": [
       "<function time.localtime>"
      ]
     },
     "execution_count": 33,
     "metadata": {},
     "output_type": "execute_result"
    }
   ],
   "source": [
    "time.localtime"
   ]
  },
  {
   "cell_type": "code",
   "execution_count": 34,
   "metadata": {
    "collapsed": true
   },
   "outputs": [],
   "source": [
    "df.index = df.index.tz_localize(pytz.UTC).tz_convert(pytz.timezone(\"Asia/Jerusalem\"))"
   ]
  },
  {
   "cell_type": "code",
   "execution_count": 35,
   "metadata": {},
   "outputs": [
    {
     "name": "stdout",
     "output_type": "stream",
     "text": [
      "/home/indika/Documents/data_science/ipython_notebooks\r\n"
     ]
    }
   ],
   "source": [
    "!pwd"
   ]
  },
  {
   "cell_type": "code",
   "execution_count": 36,
   "metadata": {
    "collapsed": true
   },
   "outputs": [],
   "source": [
    "import geo"
   ]
  },
  {
   "cell_type": "code",
   "execution_count": 37,
   "metadata": {},
   "outputs": [
    {
     "data": {
      "text/plain": [
       "time      2015-08-20 03:48:07.235000\n",
       "lat                           35.015\n",
       "lng                          32.5196\n",
       "height                         136.2\n",
       "Name: 2015-08-20 06:48:07.235000+03:00, dtype: object"
      ]
     },
     "execution_count": 37,
     "metadata": {},
     "output_type": "execute_result"
    }
   ],
   "source": [
    "df.iloc[0]"
   ]
  },
  {
   "cell_type": "code",
   "execution_count": 38,
   "metadata": {},
   "outputs": [
    {
     "data": {
      "text/plain": [
       "0.007693931535344109"
      ]
     },
     "execution_count": 38,
     "metadata": {},
     "output_type": "execute_result"
    }
   ],
   "source": [
    "geo.circle_dist(df.iloc[0].lat, df.iloc[0].lng, df.iloc[1].lat, df.iloc[1].lng)"
   ]
  },
  {
   "cell_type": "code",
   "execution_count": 39,
   "metadata": {
    "collapsed": true
   },
   "outputs": [],
   "source": [
    "import numpy as np\n",
    "s = pd.Series(np.arange(10))"
   ]
  },
  {
   "cell_type": "code",
   "execution_count": 40,
   "metadata": {},
   "outputs": [
    {
     "data": {
      "text/plain": [
       "0    1.0\n",
       "1    2.0\n",
       "2    3.0\n",
       "3    4.0\n",
       "4    5.0\n",
       "5    6.0\n",
       "6    7.0\n",
       "7    8.0\n",
       "8    9.0\n",
       "9    NaN\n",
       "dtype: float64"
      ]
     },
     "execution_count": 40,
     "metadata": {},
     "output_type": "execute_result"
    }
   ],
   "source": [
    "s.shift(-1)"
   ]
  },
  {
   "cell_type": "code",
   "execution_count": 41,
   "metadata": {
    "collapsed": true
   },
   "outputs": [],
   "source": [
    "dist = geo.circle_dist(df['lat'], df['lng'], df['lat'].shift(), df['lng'].shift())"
   ]
  },
  {
   "cell_type": "code",
   "execution_count": 42,
   "metadata": {},
   "outputs": [
    {
     "data": {
      "text/plain": [
       "time\n",
       "2015-08-20 06:48:07.235000+03:00         NaN\n",
       "2015-08-20 06:48:24.734000+03:00    0.007694\n",
       "2015-08-20 06:48:25.660000+03:00    0.009248\n",
       "2015-08-20 06:48:26.819000+03:00    0.006479\n",
       "2015-08-20 06:48:27.828000+03:00    0.006219\n",
       "dtype: float64"
      ]
     },
     "execution_count": 42,
     "metadata": {},
     "output_type": "execute_result"
    }
   ],
   "source": [
    "dist[:5]"
   ]
  },
  {
   "cell_type": "code",
   "execution_count": 43,
   "metadata": {},
   "outputs": [
    {
     "data": {
      "text/plain": [
       "4.688079492432745"
      ]
     },
     "execution_count": 43,
     "metadata": {},
     "output_type": "execute_result"
    }
   ],
   "source": [
    "dist.sum()"
   ]
  },
  {
   "cell_type": "code",
   "execution_count": 44,
   "metadata": {
    "collapsed": true
   },
   "outputs": [],
   "source": [
    "dt = df['time'] - df['time'].shift()"
   ]
  },
  {
   "cell_type": "code",
   "execution_count": 45,
   "metadata": {},
   "outputs": [
    {
     "data": {
      "text/plain": [
       "Timedelta('0 days 00:32:35.094000')"
      ]
     },
     "execution_count": 45,
     "metadata": {},
     "output_type": "execute_result"
    }
   ],
   "source": [
    "dt.sum()"
   ]
  },
  {
   "cell_type": "code",
   "execution_count": 46,
   "metadata": {},
   "outputs": [
    {
     "data": {
      "text/plain": [
       "0.004860833333333333"
      ]
     },
     "execution_count": 46,
     "metadata": {},
     "output_type": "execute_result"
    }
   ],
   "source": [
    "dt[1] / np.timedelta64(1, 'h')"
   ]
  },
  {
   "cell_type": "code",
   "execution_count": 47,
   "metadata": {},
   "outputs": [
    {
     "data": {
      "text/plain": [
       "0.004860833333333334"
      ]
     },
     "execution_count": 47,
     "metadata": {},
     "output_type": "execute_result"
    }
   ],
   "source": [
    "dt[1].total_seconds()/3600"
   ]
  },
  {
   "cell_type": "code",
   "execution_count": 48,
   "metadata": {},
   "outputs": [
    {
     "data": {
      "text/plain": [
       "time\n",
       "2015-08-20 06:48:07.235000+03:00          NaN\n",
       "2015-08-20 06:48:24.734000+03:00     1.582842\n",
       "2015-08-20 06:48:25.660000+03:00    35.952444\n",
       "2015-08-20 06:48:26.819000+03:00    20.123165\n",
       "2015-08-20 06:48:27.828000+03:00    22.187213\n",
       "dtype: float64"
      ]
     },
     "execution_count": 48,
     "metadata": {},
     "output_type": "execute_result"
    }
   ],
   "source": [
    "speed = dist / (dt/np.timedelta64(1, 'h'))\n",
    "speed[:5]"
   ]
  },
  {
   "cell_type": "code",
   "execution_count": 49,
   "metadata": {},
   "outputs": [
    {
     "data": {
      "text/html": [
       "<div>\n",
       "<style>\n",
       "    .dataframe thead tr:only-child th {\n",
       "        text-align: right;\n",
       "    }\n",
       "\n",
       "    .dataframe thead th {\n",
       "        text-align: left;\n",
       "    }\n",
       "\n",
       "    .dataframe tbody tr th {\n",
       "        vertical-align: top;\n",
       "    }\n",
       "</style>\n",
       "<table border=\"1\" class=\"dataframe\">\n",
       "  <thead>\n",
       "    <tr style=\"text-align: right;\">\n",
       "      <th></th>\n",
       "      <th>time</th>\n",
       "      <th>lat</th>\n",
       "      <th>lng</th>\n",
       "      <th>height</th>\n",
       "      <th>dist</th>\n",
       "      <th>dt</th>\n",
       "    </tr>\n",
       "    <tr>\n",
       "      <th>time</th>\n",
       "      <th></th>\n",
       "      <th></th>\n",
       "      <th></th>\n",
       "      <th></th>\n",
       "      <th></th>\n",
       "      <th></th>\n",
       "    </tr>\n",
       "  </thead>\n",
       "  <tbody>\n",
       "    <tr>\n",
       "      <th>2015-08-20 06:48:07.235000+03:00</th>\n",
       "      <td>2015-08-20 03:48:07.235</td>\n",
       "      <td>35.015021</td>\n",
       "      <td>32.519585</td>\n",
       "      <td>136.199997</td>\n",
       "      <td>NaN</td>\n",
       "      <td>NaT</td>\n",
       "    </tr>\n",
       "    <tr>\n",
       "      <th>2015-08-20 06:48:24.734000+03:00</th>\n",
       "      <td>2015-08-20 03:48:24.734</td>\n",
       "      <td>35.014954</td>\n",
       "      <td>32.519606</td>\n",
       "      <td>126.599998</td>\n",
       "      <td>0.007694</td>\n",
       "      <td>00:00:17.499000</td>\n",
       "    </tr>\n",
       "    <tr>\n",
       "      <th>2015-08-20 06:48:25.660000+03:00</th>\n",
       "      <td>2015-08-20 03:48:25.660</td>\n",
       "      <td>35.014871</td>\n",
       "      <td>32.519612</td>\n",
       "      <td>123.000000</td>\n",
       "      <td>0.009248</td>\n",
       "      <td>00:00:00.926000</td>\n",
       "    </tr>\n",
       "    <tr>\n",
       "      <th>2015-08-20 06:48:26.819000+03:00</th>\n",
       "      <td>2015-08-20 03:48:26.819</td>\n",
       "      <td>35.014824</td>\n",
       "      <td>32.519654</td>\n",
       "      <td>120.500000</td>\n",
       "      <td>0.006479</td>\n",
       "      <td>00:00:01.159000</td>\n",
       "    </tr>\n",
       "    <tr>\n",
       "      <th>2015-08-20 06:48:27.828000+03:00</th>\n",
       "      <td>2015-08-20 03:48:27.828</td>\n",
       "      <td>35.014776</td>\n",
       "      <td>32.519689</td>\n",
       "      <td>118.900002</td>\n",
       "      <td>0.006219</td>\n",
       "      <td>00:00:01.009000</td>\n",
       "    </tr>\n",
       "  </tbody>\n",
       "</table>\n",
       "</div>"
      ],
      "text/plain": [
       "                                                    time        lat  \\\n",
       "time                                                                  \n",
       "2015-08-20 06:48:07.235000+03:00 2015-08-20 03:48:07.235  35.015021   \n",
       "2015-08-20 06:48:24.734000+03:00 2015-08-20 03:48:24.734  35.014954   \n",
       "2015-08-20 06:48:25.660000+03:00 2015-08-20 03:48:25.660  35.014871   \n",
       "2015-08-20 06:48:26.819000+03:00 2015-08-20 03:48:26.819  35.014824   \n",
       "2015-08-20 06:48:27.828000+03:00 2015-08-20 03:48:27.828  35.014776   \n",
       "\n",
       "                                        lng      height      dist  \\\n",
       "time                                                                \n",
       "2015-08-20 06:48:07.235000+03:00  32.519585  136.199997       NaN   \n",
       "2015-08-20 06:48:24.734000+03:00  32.519606  126.599998  0.007694   \n",
       "2015-08-20 06:48:25.660000+03:00  32.519612  123.000000  0.009248   \n",
       "2015-08-20 06:48:26.819000+03:00  32.519654  120.500000  0.006479   \n",
       "2015-08-20 06:48:27.828000+03:00  32.519689  118.900002  0.006219   \n",
       "\n",
       "                                              dt  \n",
       "time                                              \n",
       "2015-08-20 06:48:07.235000+03:00             NaT  \n",
       "2015-08-20 06:48:24.734000+03:00 00:00:17.499000  \n",
       "2015-08-20 06:48:25.660000+03:00 00:00:00.926000  \n",
       "2015-08-20 06:48:26.819000+03:00 00:00:01.159000  \n",
       "2015-08-20 06:48:27.828000+03:00 00:00:01.009000  "
      ]
     },
     "execution_count": 49,
     "metadata": {},
     "output_type": "execute_result"
    }
   ],
   "source": [
    "df[\"dist\"] = dist\n",
    "df[\"dt\"] = dt\n",
    "df[:5]"
   ]
  },
  {
   "cell_type": "code",
   "execution_count": 50,
   "metadata": {},
   "outputs": [
    {
     "data": {
      "text/html": [
       "<div>\n",
       "<style>\n",
       "    .dataframe thead tr:only-child th {\n",
       "        text-align: right;\n",
       "    }\n",
       "\n",
       "    .dataframe thead th {\n",
       "        text-align: left;\n",
       "    }\n",
       "\n",
       "    .dataframe tbody tr th {\n",
       "        vertical-align: top;\n",
       "    }\n",
       "</style>\n",
       "<table border=\"1\" class=\"dataframe\">\n",
       "  <thead>\n",
       "    <tr style=\"text-align: right;\">\n",
       "      <th></th>\n",
       "      <th>lat</th>\n",
       "      <th>lng</th>\n",
       "      <th>height</th>\n",
       "      <th>dist</th>\n",
       "    </tr>\n",
       "    <tr>\n",
       "      <th>time</th>\n",
       "      <th></th>\n",
       "      <th></th>\n",
       "      <th></th>\n",
       "      <th></th>\n",
       "    </tr>\n",
       "  </thead>\n",
       "  <tbody>\n",
       "    <tr>\n",
       "      <th>2015-08-20 06:48:00+03:00</th>\n",
       "      <td>735.305982</td>\n",
       "      <td>682.909176</td>\n",
       "      <td>2578.099991</td>\n",
       "      <td>0.118354</td>\n",
       "    </tr>\n",
       "    <tr>\n",
       "      <th>2015-08-20 06:49:00+03:00</th>\n",
       "      <td>105.042949</td>\n",
       "      <td>97.556914</td>\n",
       "      <td>368.900002</td>\n",
       "      <td>0.017011</td>\n",
       "    </tr>\n",
       "    <tr>\n",
       "      <th>2015-08-20 06:50:00+03:00</th>\n",
       "      <td>805.323270</td>\n",
       "      <td>747.896930</td>\n",
       "      <td>2635.199989</td>\n",
       "      <td>0.278878</td>\n",
       "    </tr>\n",
       "    <tr>\n",
       "      <th>2015-08-20 06:51:00+03:00</th>\n",
       "      <td>1050.415915</td>\n",
       "      <td>975.487935</td>\n",
       "      <td>3199.600014</td>\n",
       "      <td>0.170446</td>\n",
       "    </tr>\n",
       "    <tr>\n",
       "      <th>2015-08-20 06:52:00+03:00</th>\n",
       "      <td>1050.382332</td>\n",
       "      <td>975.454219</td>\n",
       "      <td>2931.299995</td>\n",
       "      <td>0.171138</td>\n",
       "    </tr>\n",
       "  </tbody>\n",
       "</table>\n",
       "</div>"
      ],
      "text/plain": [
       "                                   lat         lng       height      dist\n",
       "time                                                                     \n",
       "2015-08-20 06:48:00+03:00   735.305982  682.909176  2578.099991  0.118354\n",
       "2015-08-20 06:49:00+03:00   105.042949   97.556914   368.900002  0.017011\n",
       "2015-08-20 06:50:00+03:00   805.323270  747.896930  2635.199989  0.278878\n",
       "2015-08-20 06:51:00+03:00  1050.415915  975.487935  3199.600014  0.170446\n",
       "2015-08-20 06:52:00+03:00  1050.382332  975.454219  2931.299995  0.171138"
      ]
     },
     "execution_count": 50,
     "metadata": {},
     "output_type": "execute_result"
    }
   ],
   "source": [
    "df1m = df.resample(\"1min\").sum()\n",
    "df1m[:5]"
   ]
  },
  {
   "cell_type": "code",
   "execution_count": 51,
   "metadata": {},
   "outputs": [
    {
     "data": {
      "text/plain": [
       "Index(['lat', 'lng', 'height', 'dist'], dtype='object')"
      ]
     },
     "execution_count": 51,
     "metadata": {},
     "output_type": "execute_result"
    }
   ],
   "source": [
    "df1m.columns"
   ]
  },
  {
   "cell_type": "code",
   "execution_count": 52,
   "metadata": {},
   "outputs": [
    {
     "data": {
      "text/html": [
       "<div>\n",
       "<style>\n",
       "    .dataframe thead tr:only-child th {\n",
       "        text-align: right;\n",
       "    }\n",
       "\n",
       "    .dataframe thead th {\n",
       "        text-align: left;\n",
       "    }\n",
       "\n",
       "    .dataframe tbody tr th {\n",
       "        vertical-align: top;\n",
       "    }\n",
       "</style>\n",
       "<table border=\"1\" class=\"dataframe\">\n",
       "  <thead>\n",
       "    <tr style=\"text-align: right;\">\n",
       "      <th></th>\n",
       "      <th>lat</th>\n",
       "      <th>lng</th>\n",
       "      <th>height</th>\n",
       "      <th>dist</th>\n",
       "      <th>dt</th>\n",
       "    </tr>\n",
       "    <tr>\n",
       "      <th>time</th>\n",
       "      <th></th>\n",
       "      <th></th>\n",
       "      <th></th>\n",
       "      <th></th>\n",
       "      <th></th>\n",
       "    </tr>\n",
       "  </thead>\n",
       "  <tbody>\n",
       "    <tr>\n",
       "      <th>2015-08-20 06:48:00+03:00</th>\n",
       "      <td>735.305982</td>\n",
       "      <td>682.909176</td>\n",
       "      <td>2578.099991</td>\n",
       "      <td>0.118354</td>\n",
       "      <td>0.014563</td>\n",
       "    </tr>\n",
       "    <tr>\n",
       "      <th>2015-08-20 06:49:00+03:00</th>\n",
       "      <td>105.042949</td>\n",
       "      <td>97.556914</td>\n",
       "      <td>368.900002</td>\n",
       "      <td>0.017011</td>\n",
       "      <td>0.002244</td>\n",
       "    </tr>\n",
       "    <tr>\n",
       "      <th>2015-08-20 06:50:00+03:00</th>\n",
       "      <td>805.323270</td>\n",
       "      <td>747.896930</td>\n",
       "      <td>2635.199989</td>\n",
       "      <td>0.278878</td>\n",
       "      <td>0.030552</td>\n",
       "    </tr>\n",
       "    <tr>\n",
       "      <th>2015-08-20 06:51:00+03:00</th>\n",
       "      <td>1050.415915</td>\n",
       "      <td>975.487935</td>\n",
       "      <td>3199.600014</td>\n",
       "      <td>0.170446</td>\n",
       "      <td>0.016677</td>\n",
       "    </tr>\n",
       "    <tr>\n",
       "      <th>2015-08-20 06:52:00+03:00</th>\n",
       "      <td>1050.382332</td>\n",
       "      <td>975.454219</td>\n",
       "      <td>2931.299995</td>\n",
       "      <td>0.171138</td>\n",
       "      <td>0.016921</td>\n",
       "    </tr>\n",
       "  </tbody>\n",
       "</table>\n",
       "</div>"
      ],
      "text/plain": [
       "                                   lat         lng       height      dist  \\\n",
       "time                                                                        \n",
       "2015-08-20 06:48:00+03:00   735.305982  682.909176  2578.099991  0.118354   \n",
       "2015-08-20 06:49:00+03:00   105.042949   97.556914   368.900002  0.017011   \n",
       "2015-08-20 06:50:00+03:00   805.323270  747.896930  2635.199989  0.278878   \n",
       "2015-08-20 06:51:00+03:00  1050.415915  975.487935  3199.600014  0.170446   \n",
       "2015-08-20 06:52:00+03:00  1050.382332  975.454219  2931.299995  0.171138   \n",
       "\n",
       "                                 dt  \n",
       "time                                 \n",
       "2015-08-20 06:48:00+03:00  0.014563  \n",
       "2015-08-20 06:49:00+03:00  0.002244  \n",
       "2015-08-20 06:50:00+03:00  0.030552  \n",
       "2015-08-20 06:51:00+03:00  0.016677  \n",
       "2015-08-20 06:52:00+03:00  0.016921  "
      ]
     },
     "execution_count": 52,
     "metadata": {},
     "output_type": "execute_result"
    }
   ],
   "source": [
    "df['dt']=dt/np.timedelta64(1, 'h')\n",
    "df1m = df.resample(\"1min\").sum()\n",
    "df1m[:5]"
   ]
  },
  {
   "cell_type": "code",
   "execution_count": 53,
   "metadata": {},
   "outputs": [
    {
     "data": {
      "text/plain": [
       "time\n",
       "2015-08-20 06:48:00+03:00     8.126814\n",
       "2015-08-20 06:49:00+03:00     7.579874\n",
       "2015-08-20 06:50:00+03:00     9.127843\n",
       "2015-08-20 06:51:00+03:00    10.220637\n",
       "2015-08-20 06:52:00+03:00    10.114019\n",
       "Freq: T, dtype: float64"
      ]
     },
     "execution_count": 53,
     "metadata": {},
     "output_type": "execute_result"
    }
   ],
   "source": [
    "speed1m = df1m['dist']/df1m['dt']\n",
    "speed1m[:5]"
   ]
  },
  {
   "cell_type": "code",
   "execution_count": 54,
   "metadata": {},
   "outputs": [
    {
     "data": {
      "text/plain": [
       "count    33.000000\n",
       "mean      8.658112\n",
       "std       1.543221\n",
       "min       5.286079\n",
       "25%       7.542930\n",
       "50%       8.538270\n",
       "75%      10.220637\n",
       "max      10.892045\n",
       "dtype: float64"
      ]
     },
     "execution_count": 54,
     "metadata": {},
     "output_type": "execute_result"
    }
   ],
   "source": [
    "speed1m.describe()"
   ]
  },
  {
   "cell_type": "code",
   "execution_count": 55,
   "metadata": {
    "collapsed": true
   },
   "outputs": [],
   "source": [
    "%matplotlib inline"
   ]
  },
  {
   "cell_type": "code",
   "execution_count": 56,
   "metadata": {},
   "outputs": [
    {
     "data": {
      "text/plain": [
       "<matplotlib.axes._subplots.AxesSubplot at 0xa9b1dfcc>"
      ]
     },
     "execution_count": 56,
     "metadata": {},
     "output_type": "execute_result"
    },
    {
     "data": {
      "image/png": "[encoded data removed]",
      "text/plain": [
       "<matplotlib.figure.Figure at 0xa9b1d48c>"
      ]
     },
     "metadata": {},
     "output_type": "display_data"
    }
   ],
   "source": [
    "speed1m.plot()"
   ]
  },
  {
   "cell_type": "code",
   "execution_count": 57,
   "metadata": {
    "collapsed": true
   },
   "outputs": [],
   "source": [
    "import matplotlib.pyplot as plt"
   ]
  },
  {
   "cell_type": "code",
   "execution_count": 58,
   "metadata": {
    "collapsed": true
   },
   "outputs": [],
   "source": [
    "plt.rcParams[\"figure.figsize\"] = (10,6)"
   ]
  },
  {
   "cell_type": "code",
   "execution_count": 59,
   "metadata": {
    "collapsed": true
   },
   "outputs": [],
   "source": [
    "plt.style.use(\"seaborn-whitegrid\")"
   ]
  },
  {
   "cell_type": "code",
   "execution_count": 60,
   "metadata": {},
   "outputs": [
    {
     "data": {
      "text/plain": [
       "<matplotlib.axes._subplots.AxesSubplot at 0xa9b1d9ec>"
      ]
     },
     "execution_count": 60,
     "metadata": {},
     "output_type": "execute_result"
    },
    {
     "data": {
      "image/png": "[encoded data removed]",
      "text/plain": [
       "<matplotlib.figure.Figure at 0xa9a9424c>"
      ]
     },
     "metadata": {},
     "output_type": "display_data"
    }
   ],
   "source": [
    "speed1m.plot()"
   ]
  },
  {
   "cell_type": "code",
   "execution_count": 61,
   "metadata": {},
   "outputs": [
    {
     "data": {
      "text/plain": [
       "<matplotlib.axes._subplots.AxesSubplot at 0xa7b9056c>"
      ]
     },
     "execution_count": 61,
     "metadata": {},
     "output_type": "execute_result"
    },
    {
     "data": {
      "image/png": "[encoded data removed]",
      "text/plain": [
       "<matplotlib.figure.Figure at 0xa7b8934c>"
      ]
     },
     "metadata": {},
     "output_type": "display_data"
    }
   ],
   "source": [
    "speed1m.plot.box()"
   ]
  },
  {
   "cell_type": "code",
   "execution_count": 62,
   "metadata": {},
   "outputs": [
    {
     "data": {
      "text/plain": [
       "<matplotlib.axes._subplots.AxesSubplot at 0xa7a48d0c>"
      ]
     },
     "execution_count": 62,
     "metadata": {},
     "output_type": "execute_result"
    },
    {
     "data": {
      "image/png": "[encoded data removed]",
      "text/plain": [
       "<matplotlib.figure.Figure at 0xa7a1ab8c>"
      ]
     },
     "metadata": {},
     "output_type": "display_data"
    }
   ],
   "source": [
    "speed1m.plot.kde()"
   ]
  },
  {
   "cell_type": "code",
   "execution_count": 63,
   "metadata": {
    "collapsed": true
   },
   "outputs": [],
   "source": [
    "import folium"
   ]
  },
  {
   "cell_type": "code",
   "execution_count": 64,
   "metadata": {},
   "outputs": [
    {
     "data": {
      "text/html": [
       "<div style=\"width:100%;\"><div style=\"position:relative;width:100%;height:0;padding-bottom:60%;\"><iframe src=\"data:text/html;charset=utf-8;base64,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\" style=\"position:absolute;width:100%;height:100%;left:0;top:0;border:none !important;\" allowfullscreen webkitallowfullscreen mozallowfullscreen></iframe></div></div>"
      ],
      "text/plain": [
       "<folium.folium.Map at 0xa5a1106c>"
      ]
     },
     "execution_count": 64,
     "metadata": {},
     "output_type": "execute_result"
    }
   ],
   "source": [
    "m = folium.Map(location=[df['lng'].mean(), df['lat'].mean()], zoom_start=15)\n",
    "mdf = df.resample('T').mean()\n",
    "def add_marker(row):\n",
    "    marker = folium.CircleMarker([row['lng'], row['lat']], radius=5, popup=row.name.strftime('%H:%M'))\n",
    "    #marker = folium.CircleMarker([row['lng'], row['lat']], radius=5)\n",
    "    marker.add_to(m)\n",
    "\n",
    "mdf.apply(add_marker, axis=1)\n",
    "#mdf.apply(add_marker, axis=1)\n",
    "m"
   ]
  },
  {
   "cell_type": "code",
   "execution_count": 65,
   "metadata": {
    "collapsed": true
   },
   "outputs": [],
   "source": [
    "import shapely"
   ]
  },
  {
   "cell_type": "code",
   "execution_count": 66,
   "metadata": {
    "collapsed": true
   },
   "outputs": [],
   "source": [
    "from shapely.geometry import Point, Polygon"
   ]
  },
  {
   "cell_type": "code",
   "execution_count": 67,
   "metadata": {
    "collapsed": true
   },
   "outputs": [],
   "source": [
    "pt = Point(1,2)"
   ]
  },
  {
   "cell_type": "code",
   "execution_count": 68,
   "metadata": {},
   "outputs": [
    {
     "data": {
      "image/svg+xml": [
       "<svg xmlns=\"http://www.w3.org/2000/svg\" xmlns:xlink=\"http://www.w3.org/1999/xlink\" width=\"100.0\" height=\"100.0\" viewBox=\"0.0 1.0 2.0 2.0\" preserveAspectRatio=\"xMinYMin meet\"><g transform=\"matrix(1,0,0,-1,0,4.0)\"><circle cx=\"1.0\" cy=\"2.0\" r=\"0.06\" stroke=\"#555555\" stroke-width=\"0.02\" fill=\"#66cc99\" opacity=\"0.6\" /></g></svg>"
      ],
      "text/plain": [
       "<shapely.geometry.point.Point at 0xa56fdf8c>"
      ]
     },
     "execution_count": 68,
     "metadata": {},
     "output_type": "execute_result"
    }
   ],
   "source": [
    "pt"
   ]
  },
  {
   "cell_type": "code",
   "execution_count": 69,
   "metadata": {},
   "outputs": [
    {
     "data": {
      "text/plain": [
       "1.0"
      ]
     },
     "execution_count": 69,
     "metadata": {},
     "output_type": "execute_result"
    }
   ],
   "source": [
    "pt.x"
   ]
  },
  {
   "cell_type": "code",
   "execution_count": 70,
   "metadata": {
    "collapsed": true
   },
   "outputs": [],
   "source": [
    "poly1 = Polygon([[0,0], [0,10], [10,10], [10,0]])"
   ]
  },
  {
   "cell_type": "code",
   "execution_count": 71,
   "metadata": {},
   "outputs": [
    {
     "data": {
      "text/plain": [
       "100.0"
      ]
     },
     "execution_count": 71,
     "metadata": {},
     "output_type": "execute_result"
    }
   ],
   "source": [
    "poly1.area"
   ]
  },
  {
   "cell_type": "code",
   "execution_count": 72,
   "metadata": {},
   "outputs": [
    {
     "data": {
      "image/svg+xml": [
       "<svg xmlns=\"http://www.w3.org/2000/svg\" xmlns:xlink=\"http://www.w3.org/1999/xlink\" width=\"100.0\" height=\"100.0\" viewBox=\"-0.4 -0.4 10.8 10.8\" preserveAspectRatio=\"xMinYMin meet\"><g transform=\"matrix(1,0,0,-1,0,10.0)\"><path fill-rule=\"evenodd\" fill=\"#66cc99\" stroke=\"#555555\" stroke-width=\"0.21600000000000003\" opacity=\"0.6\" d=\"M 0.0,0.0 L 0.0,10.0 L 10.0,10.0 L 10.0,0.0 L 0.0,0.0 z\" /></g></svg>"
      ],
      "text/plain": [
       "<shapely.geometry.polygon.Polygon at 0xa5705b2c>"
      ]
     },
     "execution_count": 72,
     "metadata": {},
     "output_type": "execute_result"
    }
   ],
   "source": [
    "poly1"
   ]
  },
  {
   "cell_type": "code",
   "execution_count": 73,
   "metadata": {},
   "outputs": [
    {
     "data": {
      "text/plain": [
       "(array('d', [5.0]), array('d', [5.0]))"
      ]
     },
     "execution_count": 73,
     "metadata": {},
     "output_type": "execute_result"
    }
   ],
   "source": [
    "poly1.centroid.xy"
   ]
  },
  {
   "cell_type": "code",
   "execution_count": 74,
   "metadata": {},
   "outputs": [
    {
     "data": {
      "text/plain": [
       "(array('d', [0.0, 0.0, 10.0, 10.0, 0.0]),\n",
       " array('d', [0.0, 10.0, 10.0, 0.0, 0.0]))"
      ]
     },
     "execution_count": 74,
     "metadata": {},
     "output_type": "execute_result"
    }
   ],
   "source": [
    "poly1.exterior.xy"
   ]
  },
  {
   "cell_type": "code",
   "execution_count": 75,
   "metadata": {},
   "outputs": [
    {
     "data": {
      "text/plain": [
       "False"
      ]
     },
     "execution_count": 75,
     "metadata": {},
     "output_type": "execute_result"
    }
   ],
   "source": [
    "poly1.intersects(Point(10,20))"
   ]
  },
  {
   "cell_type": "code",
   "execution_count": 76,
   "metadata": {},
   "outputs": [
    {
     "data": {
      "text/html": [
       "<div>\n",
       "<style>\n",
       "    .dataframe thead tr:only-child th {\n",
       "        text-align: right;\n",
       "    }\n",
       "\n",
       "    .dataframe thead th {\n",
       "        text-align: left;\n",
       "    }\n",
       "\n",
       "    .dataframe tbody tr th {\n",
       "        vertical-align: top;\n",
       "    }\n",
       "</style>\n",
       "<table border=\"1\" class=\"dataframe\">\n",
       "  <thead>\n",
       "    <tr style=\"text-align: right;\">\n",
       "      <th></th>\n",
       "      <th>lat</th>\n",
       "      <th>lng</th>\n",
       "      <th>height</th>\n",
       "      <th>dist</th>\n",
       "      <th>dt</th>\n",
       "      <th>pt</th>\n",
       "    </tr>\n",
       "    <tr>\n",
       "      <th>time</th>\n",
       "      <th></th>\n",
       "      <th></th>\n",
       "      <th></th>\n",
       "      <th></th>\n",
       "      <th></th>\n",
       "      <th></th>\n",
       "    </tr>\n",
       "  </thead>\n",
       "  <tbody>\n",
       "    <tr>\n",
       "      <th>2015-08-20 06:48:00+03:00</th>\n",
       "      <td>35.014571</td>\n",
       "      <td>32.519485</td>\n",
       "      <td>122.766666</td>\n",
       "      <td>0.005918</td>\n",
       "      <td>0.000728</td>\n",
       "      <td>POINT (32.51948457142857 35.01457057142857)</td>\n",
       "    </tr>\n",
       "    <tr>\n",
       "      <th>2015-08-20 06:49:00+03:00</th>\n",
       "      <td>35.014316</td>\n",
       "      <td>32.518971</td>\n",
       "      <td>122.966667</td>\n",
       "      <td>0.005670</td>\n",
       "      <td>0.000748</td>\n",
       "      <td>POINT (32.51897133333333 35.01431633333333)</td>\n",
       "    </tr>\n",
       "    <tr>\n",
       "      <th>2015-08-20 06:50:00+03:00</th>\n",
       "      <td>35.014055</td>\n",
       "      <td>32.517258</td>\n",
       "      <td>114.573913</td>\n",
       "      <td>0.012125</td>\n",
       "      <td>0.001328</td>\n",
       "      <td>POINT (32.51725782608697 35.0140552173913)</td>\n",
       "    </tr>\n",
       "    <tr>\n",
       "      <th>2015-08-20 06:51:00+03:00</th>\n",
       "      <td>35.013864</td>\n",
       "      <td>32.516264</td>\n",
       "      <td>106.653334</td>\n",
       "      <td>0.005682</td>\n",
       "      <td>0.000556</td>\n",
       "      <td>POINT (32.5162645 35.01386383333332)</td>\n",
       "    </tr>\n",
       "    <tr>\n",
       "      <th>2015-08-20 06:52:00+03:00</th>\n",
       "      <td>35.012744</td>\n",
       "      <td>32.515141</td>\n",
       "      <td>97.710000</td>\n",
       "      <td>0.005705</td>\n",
       "      <td>0.000564</td>\n",
       "      <td>POINT (32.51514063333333 35.0127444)</td>\n",
       "    </tr>\n",
       "  </tbody>\n",
       "</table>\n",
       "</div>"
      ],
      "text/plain": [
       "                                 lat        lng      height      dist  \\\n",
       "time                                                                    \n",
       "2015-08-20 06:48:00+03:00  35.014571  32.519485  122.766666  0.005918   \n",
       "2015-08-20 06:49:00+03:00  35.014316  32.518971  122.966667  0.005670   \n",
       "2015-08-20 06:50:00+03:00  35.014055  32.517258  114.573913  0.012125   \n",
       "2015-08-20 06:51:00+03:00  35.013864  32.516264  106.653334  0.005682   \n",
       "2015-08-20 06:52:00+03:00  35.012744  32.515141   97.710000  0.005705   \n",
       "\n",
       "                                 dt  \\\n",
       "time                                  \n",
       "2015-08-20 06:48:00+03:00  0.000728   \n",
       "2015-08-20 06:49:00+03:00  0.000748   \n",
       "2015-08-20 06:50:00+03:00  0.001328   \n",
       "2015-08-20 06:51:00+03:00  0.000556   \n",
       "2015-08-20 06:52:00+03:00  0.000564   \n",
       "\n",
       "                                                                    pt  \n",
       "time                                                                    \n",
       "2015-08-20 06:48:00+03:00  POINT (32.51948457142857 35.01457057142857)  \n",
       "2015-08-20 06:49:00+03:00  POINT (32.51897133333333 35.01431633333333)  \n",
       "2015-08-20 06:50:00+03:00   POINT (32.51725782608697 35.0140552173913)  \n",
       "2015-08-20 06:51:00+03:00         POINT (32.5162645 35.01386383333332)  \n",
       "2015-08-20 06:52:00+03:00         POINT (32.51514063333333 35.0127444)  "
      ]
     },
     "execution_count": 76,
     "metadata": {},
     "output_type": "execute_result"
    }
   ],
   "source": [
    "mdf['pt'] = mdf[['lng', 'lat']].apply(Point, axis=1)\n",
    "mdf.head()"
   ]
  },
  {
   "cell_type": "code",
   "execution_count": 77,
   "metadata": {
    "collapsed": true
   },
   "outputs": [],
   "source": [
    "mean_lng, max_lng = mdf['lng'].mean(), mdf['lng'].max()\n",
    "mean_lat, max_lat = mdf['lat'].mean(), mdf['lat'].max()"
   ]
  },
  {
   "cell_type": "code",
   "execution_count": 78,
   "metadata": {},
   "outputs": [
    {
     "data": {
      "image/svg+xml": [
       "<svg xmlns=\"http://www.w3.org/2000/svg\" xmlns:xlink=\"http://www.w3.org/1999/xlink\" width=\"100.0\" height=\"100.0\" viewBox=\"32.512032371671836 35.01539144505745 0.007738822824300939 0.007422939914881965\" preserveAspectRatio=\"xMinYMin meet\"><g transform=\"matrix(1,0,0,-1,0,70.0382058300298)\"><path fill-rule=\"evenodd\" fill=\"#66cc99\" stroke=\"#555555\" stroke-width=\"0.0001547764564860188\" opacity=\"0.6\" d=\"M 32.5123189947394,35.01567806812502 L 32.5123189947394,35.02252776190477 L 32.51948457142857,35.02252776190477 L 32.51948457142857,35.01567806812502 L 32.5123189947394,35.01567806812502 z\" /></g></svg>"
      ],
      "text/plain": [
       "<shapely.geometry.polygon.Polygon at 0xa570b68c>"
      ]
     },
     "execution_count": 78,
     "metadata": {},
     "output_type": "execute_result"
    }
   ],
   "source": [
    "poly = Polygon([\n",
    "    [mean_lng, mean_lat], [mean_lng, max_lat], [max_lng, max_lat], [max_lng, mean_lat]\n",
    "])\n",
    "poly"
   ]
  },
  {
   "cell_type": "code",
   "execution_count": 79,
   "metadata": {},
   "outputs": [
    {
     "data": {
      "text/plain": [
       "(array('d', [32.5123189947394, 32.5123189947394, 32.51948457142857, 32.51948457142857, 32.5123189947394]),\n",
       " array('d', [35.01567806812502, 35.02252776190477, 35.02252776190477, 35.01567806812502, 35.01567806812502]))"
      ]
     },
     "execution_count": 79,
     "metadata": {},
     "output_type": "execute_result"
    }
   ],
   "source": [
    "poly.exterior.xy"
   ]
  },
  {
   "cell_type": "code",
   "execution_count": 80,
   "metadata": {
    "collapsed": true
   },
   "outputs": [],
   "source": [
    "import numpy as np"
   ]
  },
  {
   "cell_type": "code",
   "execution_count": 81,
   "metadata": {},
   "outputs": [
    {
     "data": {
      "text/plain": [
       "array([[32.51231899, 35.01567807],\n",
       "       [32.51231899, 35.02252776],\n",
       "       [32.51948457, 35.02252776],\n",
       "       [32.51948457, 35.01567807],\n",
       "       [32.51231899, 35.01567807]])"
      ]
     },
     "execution_count": 81,
     "metadata": {},
     "output_type": "execute_result"
    }
   ],
   "source": [
    "np.stack(poly.exterior.xy).T"
   ]
  },
  {
   "cell_type": "code",
   "execution_count": 82,
   "metadata": {
    "collapsed": true
   },
   "outputs": [],
   "source": [
    "poly_points = [[mean_lng, mean_lat], [mean_lng, max_lat], [max_lng, max_lat], [max_lng, mean_lat], [mean_lng, mean_lat], [mean_lng, max_lat]]"
   ]
  },
  {
   "cell_type": "code",
   "execution_count": 83,
   "metadata": {},
   "outputs": [
    {
     "data": {
      "text/html": [
       "<div style=\"width:100%;\"><div style=\"position:relative;width:100%;height:0;padding-bottom:60%;\"><iframe src=\"data:text/html;charset=utf-8;base64,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\" style=\"position:absolute;width:100%;height:100%;left:0;top:0;border:none !important;\" allowfullscreen webkitallowfullscreen mozallowfullscreen></iframe></div></div>"
      ],
      "text/plain": [
       "<folium.folium.Map at 0xa571c36c>"
      ]
     },
     "execution_count": 83,
     "metadata": {},
     "output_type": "execute_result"
    }
   ],
   "source": [
    "m = folium.Map(location=[df['lng'].mean(), df['lat'].mean()], zoom_start=15)\n",
    "mdf = df.resample('T').mean()\n",
    "mdf['pt'] = mdf[['lng', 'lat']].apply(Point, axis=1)\n",
    "def add_marker(row):\n",
    "    color = 'yellow' if poly.intersects(row['pt']) else 'green'\n",
    "    marker = folium.CircleMarker([row['lng'], row['lat']], radius=5, color='red', popup=row.name.strftime('%H:%M'), \n",
    "                                 fill=True, fill_color=color)\n",
    "    marker.add_to(m)\n",
    "\n",
    "mdf.apply(add_marker, axis=1)\n",
    "#m.add_child(folium.PolyLine(np.stack(poly.exterior.xy).T, color='yellow'))\n",
    "m.add_child(folium.PolyLine(poly_points, color='yellow'))\n",
    "m"
   ]
  },
  {
   "cell_type": "code",
   "execution_count": 84,
   "metadata": {},
   "outputs": [
    {
     "data": {
      "text/plain": [
       "<folium.features.PolyLine at 0xa5700e2c>"
      ]
     },
     "execution_count": 84,
     "metadata": {},
     "output_type": "execute_result"
    }
   ],
   "source": [
    "folium.PolyLine([[mean_lng, mean_lat], [mean_lng, max_lat], [max_lng, max_lat], [max_lng, mean_lat]])"
   ]
  },
  {
   "cell_type": "code",
   "execution_count": 97,
   "metadata": {},
   "outputs": [
    {
     "data": {
      "text/plain": [
       "pandas.core.series.Series"
      ]
     },
     "execution_count": 97,
     "metadata": {},
     "output_type": "execute_result"
    }
   ],
   "source": [
    "a=df.iloc[0]\n",
    "a.__class__"
   ]
  },
  {
   "cell_type": "code",
   "execution_count": null,
   "metadata": {
    "collapsed": true
   },
   "outputs": [],
   "source": []
  }
 ],
 "metadata": {
  "kernelspec": {
   "display_name": "Python 3",
   "language": "python",
   "name": "python3"
  },
  "language_info": {
   "codemirror_mode": {
    "name": "ipython",
    "version": 3
   },
   "file_extension": ".py",
   "mimetype": "text/x-python",
   "name": "python",
   "nbconvert_exporter": "python",
   "pygments_lexer": "ipython3",
   "version": "3.6.3"
  }
 },
 "nbformat": 4,
 "nbformat_minor": 2
}
