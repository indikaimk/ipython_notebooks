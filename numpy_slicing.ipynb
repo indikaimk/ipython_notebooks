{
 "cells": [
  {
   "cell_type": "code",
   "execution_count": 1,
   "metadata": {
    "collapsed": true
   },
   "outputs": [],
   "source": [
    "import numpy as np"
   ]
  },
  {
   "cell_type": "code",
   "execution_count": 17,
   "metadata": {},
   "outputs": [
    {
     "name": "stdout",
     "output_type": "stream",
     "text": [
      "[[ 0  1  2  3]\n",
      " [ 4  5  6  7]\n",
      " [ 8  9 10 11]]\n",
      "row [ 8  9 10 11]\n",
      "column [1 5 9]\n",
      "value 9\n",
      "range_row_2 [ 8  9 10]\n",
      "range_Part_ofrow_2 [[0 1 2]]\n"
     ]
    }
   ],
   "source": [
    "v1 = np.reshape(np.arange(12), (3,4))\n",
    "print(v1)\n",
    "print(\"row\", v1[2])\n",
    "print(\"column\", v1[:,1])\n",
    "print(\"value\", v1[2,1])\n",
    "print(\"range_row_2\", v1[2,0:3])\n",
    "print(\"range_Part_ofrow_2\", v1[0:1,0:3])"
   ]
  },
  {
   "cell_type": "code",
   "execution_count": 30,
   "metadata": {},
   "outputs": [
    {
     "name": "stdout",
     "output_type": "stream",
     "text": [
      "[[  0   1   2   3   4   5   6   7]\n",
      " [  8   9  10  11  12  13  14  15]\n",
      " [ 16  17  18  19  20  21  22  23]\n",
      " [ 24  25  26  27  28  29  30  31]\n",
      " [ 32  33  34  35  36  37  38  39]\n",
      " [ 40  41  42  43  44  45  46  47]\n",
      " [ 48  49  50  51  52  53  54  55]\n",
      " [ 56  57  58  59  60  61  62  63]\n",
      " [ 64  65  66  67  68  69  70  71]\n",
      " [ 72  73  74  75  76  77  78  79]\n",
      " [ 80  81  82  83  84  85  86  87]\n",
      " [ 88  89  90  91  92  93  94  95]\n",
      " [ 96  97  98  99 100 101 102 103]\n",
      " [104 105 106 107 108 109 110 111]\n",
      " [112 113 114 115 116 117 118 119]]\n",
      "row 2 [16 17 18 19 20 21 22 23]\n",
      "subset [[28 29 30 31]\n",
      " [36 37 38 39]\n",
      " [44 45 46 47]\n",
      " [52 53 54 55]\n",
      " [60 61 62 63]]\n"
     ]
    }
   ],
   "source": [
    "v2 = np.reshape(np.arange(120), (15,8))\n",
    "print(v2)\n",
    "print(\"row 2\", v2[2])\n",
    "print(\"subset\", v2[3:8, 4:8])"
   ]
  },
  {
   "cell_type": "code",
   "execution_count": null,
   "metadata": {
    "collapsed": true
   },
   "outputs": [],
   "source": []
  }
 ],
 "metadata": {
  "kernelspec": {
   "display_name": "Python 3",
   "language": "python",
   "name": "python3"
  },
  "language_info": {
   "codemirror_mode": {
    "name": "ipython",
    "version": 3
   },
   "file_extension": ".py",
   "mimetype": "text/x-python",
   "name": "python",
   "nbconvert_exporter": "python",
   "pygments_lexer": "ipython3",
   "version": "3.6.3"
  }
 },
 "nbformat": 4,
 "nbformat_minor": 2
}
