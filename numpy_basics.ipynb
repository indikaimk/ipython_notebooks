{
 "cells": [
  {
   "cell_type": "code",
   "execution_count": 3,
   "metadata": {},
   "outputs": [
    {
     "data": {
      "text/plain": [
       "10715086071862673209484250490600018105614048117055336074437503883703510511249361224931983788156958581275946729175531468251871452856923140435984577574698574803934567774824230985421074605062371141877954182153046474983581941267398767559165543946077062914571196477686542167660429831652624386837205668069376"
      ]
     },
     "execution_count": 3,
     "metadata": {},
     "output_type": "execute_result"
    }
   ],
   "source": [
    "2 ** 1000"
   ]
  },
  {
   "cell_type": "code",
   "execution_count": 4,
   "metadata": {
    "collapsed": true
   },
   "outputs": [],
   "source": [
    "import numpy as np"
   ]
  },
  {
   "cell_type": "code",
   "execution_count": 5,
   "metadata": {},
   "outputs": [
    {
     "data": {
      "text/plain": [
       "0"
      ]
     },
     "execution_count": 5,
     "metadata": {},
     "output_type": "execute_result"
    }
   ],
   "source": [
    "np.int64(2) ** 100"
   ]
  },
  {
   "cell_type": "code",
   "execution_count": 6,
   "metadata": {
    "collapsed": true
   },
   "outputs": [],
   "source": [
    "arr = np.array([1, 2, 3], dtype=np.int64)"
   ]
  },
  {
   "cell_type": "code",
   "execution_count": 7,
   "metadata": {
    "collapsed": true
   },
   "outputs": [],
   "source": [
    "v1 = np.random.rand(1000000)\n",
    "v2 = np.random.rand(1000000)"
   ]
  },
  {
   "cell_type": "code",
   "execution_count": 8,
   "metadata": {},
   "outputs": [
    {
     "name": "stdout",
     "output_type": "stream",
     "text": [
      "CPU times: user 2.88 ms, sys: 3.87 ms, total: 6.75 ms\n",
      "Wall time: 6.44 ms\n"
     ]
    },
    {
     "data": {
      "text/plain": [
       "array([ 0.21768167,  0.16189611,  0.05379049, ...,  0.37285372,\n",
       "        0.13816981,  0.92795428])"
      ]
     },
     "execution_count": 8,
     "metadata": {},
     "output_type": "execute_result"
    }
   ],
   "source": [
    "%time v1 * v2"
   ]
  },
  {
   "cell_type": "code",
   "execution_count": 9,
   "metadata": {},
   "outputs": [
    {
     "name": "stdout",
     "output_type": "stream",
     "text": [
      "[ 5 12 21 32]\n",
      "70\n",
      "70\n"
     ]
    }
   ],
   "source": [
    "v3 = np.array([1,2,3,4])\n",
    "v4 = np.array([5,6,7,8])\n",
    "print (v3 * v4)\n",
    "print (np.dot(v3, v4))\n",
    "print (v3 @ v4)"
   ]
  },
  {
   "cell_type": "code",
   "execution_count": 10,
   "metadata": {},
   "outputs": [
    {
     "name": "stdout",
     "output_type": "stream",
     "text": [
      "[ 2  4  6  8 10 12 14 16 18 20 22 24 26 28 30 32 34 36 38 40 42 44 46 48 50\n",
      " 52 54 56 58 60 62 64 66 68 70 72 74 76 78 80 82 84 86 88 90 92 94 96 98]\n",
      "49\n",
      "[[ 2  4  6  8 10 12 14]\n",
      " [16 18 20 22 24 26 28]\n",
      " [30 32 34 36 38 40 42]\n",
      " [44 46 48 50 52 54 56]\n",
      " [58 60 62 64 66 68 70]\n",
      " [72 74 76 78 80 82 84]\n",
      " [86 88 90 92 94 96 98]]\n",
      "[ 2  4  6  8 20 12 14 16 18 20 22 24 26 28 30 32 34 36 38 40 42 44 46 48 50\n",
      " 52 54 56 58 60 62 64 66 68 70 72 74 76 78 80 82 84 86 88 90 92 94 96 98]\n",
      "[[ 2  4  6  8 20 12 14]\n",
      " [16 18 20 22 24 26 28]\n",
      " [30 32 34 36 38 40 42]\n",
      " [44 46 48 50 52 54 56]\n",
      " [58 60 62 64 66 68 70]\n",
      " [72 74 76 78 80 82 84]\n",
      " [86 88 90 92 94 96 98]]\n"
     ]
    }
   ],
   "source": [
    "v5 = np.arange(2,100,2)\n",
    "#v6 = np.random.rand\n",
    "print (v5)\n",
    "print (v5.size)\n",
    "v6 = np.reshape(v5, (7,7))\n",
    "print(v6)\n",
    "#np.reshape(v6, (7,7))\n",
    "v5[4] = 20\n",
    "print(v5)\n",
    "print(v6)"
   ]
  },
  {
   "cell_type": "code",
   "execution_count": 11,
   "metadata": {},
   "outputs": [
    {
     "data": {
      "text/plain": [
       "array([[ 2, 16, 30, 44, 58, 72, 86],\n",
       "       [ 4, 18, 32, 46, 60, 74, 88],\n",
       "       [ 6, 20, 34, 48, 62, 76, 90],\n",
       "       [ 8, 22, 36, 50, 64, 78, 92],\n",
       "       [20, 24, 38, 52, 66, 80, 94],\n",
       "       [12, 26, 40, 54, 68, 82, 96],\n",
       "       [14, 28, 42, 56, 70, 84, 98]])"
      ]
     },
     "execution_count": 11,
     "metadata": {},
     "output_type": "execute_result"
    }
   ],
   "source": [
    "v6.transpose()"
   ]
  },
  {
   "cell_type": "code",
   "execution_count": 13,
   "metadata": {
    "collapsed": true
   },
   "outputs": [],
   "source": [
    "np.dot?"
   ]
  },
  {
   "cell_type": "code",
   "execution_count": null,
   "metadata": {
    "collapsed": true
   },
   "outputs": [],
   "source": []
  }
 ],
 "metadata": {
  "kernelspec": {
   "display_name": "Python 3",
   "language": "python",
   "name": "python3"
  },
  "language_info": {
   "codemirror_mode": {
    "name": "ipython",
    "version": 3
   },
   "file_extension": ".py",
   "mimetype": "text/x-python",
   "name": "python",
   "nbconvert_exporter": "python",
   "pygments_lexer": "ipython3",
   "version": "3.6.3"
  }
 },
 "nbformat": 4,
 "nbformat_minor": 2
}
