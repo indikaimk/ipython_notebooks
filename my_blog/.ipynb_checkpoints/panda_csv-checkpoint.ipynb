{
 "cells": [
  {
   "cell_type": "code",
   "execution_count": 301,
   "metadata": {},
   "outputs": [],
   "source": [
    "import pandas as pd\n",
    "import numpy as np"
   ]
  },
  {
   "cell_type": "code",
   "execution_count": 302,
   "metadata": {},
   "outputs": [],
   "source": [
    "#fname_temp = 'data/msc_traffic_1.csv'"
   ]
  },
  {
   "cell_type": "code",
   "execution_count": 303,
   "metadata": {},
   "outputs": [],
   "source": [
    "#pd_temp = pd.read_csv(fname_temp, index_col=False)\n",
    "#pd_temp.head()"
   ]
  },
  {
   "cell_type": "code",
   "execution_count": 304,
   "metadata": {},
   "outputs": [],
   "source": [
    "#pd_temp.to_csv(path_or_buf='data/msc_traffic_0110.csv', columns=['Date', 'MSC', 'Call Attempts', 'Call success', 'Call Answer', 'traffic'], index=False)"
   ]
  },
  {
   "cell_type": "code",
   "execution_count": 305,
   "metadata": {},
   "outputs": [
    {
     "name": "stdout",
     "output_type": "stream",
     "text": [
      "Date,MSC,Call Attempts,Call success,Call Answer,traffic\r\n",
      "2015-01-10 00:00:00,MSC_1,1000,922,702,1198.9231583594099\r\n",
      "2015-01-10 01:00:00,MSC_1,993,899,728,775.0900523743599\r\n",
      "2015-01-10 02:00:00,MSC_1,850,779,671,776.3873339593989\r\n",
      "2015-01-10 03:00:00,MSC_1,821,776,675,879.424597408871\r\n",
      "2015-01-10 04:00:00,MSC_1,900,892,795,1424.7282377408899\r\n",
      "2015-01-10 05:00:00,MSC_1,943,886,842,1033.7753995255698\r\n",
      "2015-01-10 06:00:00,MSC_1,1102,1095,886,1346.88400016375\r\n",
      "2015-01-10 07:00:00,MSC_1,1240,1127,919,1059.8172001115402\r\n",
      "2015-01-10 08:00:00,MSC_1,1851,1841,1406,1876.1087102263198\r\n"
     ]
    }
   ],
   "source": [
    "!head \"data/msc_traffic_0110.csv\""
   ]
  },
  {
   "cell_type": "code",
   "execution_count": 306,
   "metadata": {},
   "outputs": [],
   "source": [
    "df = pd.read_csv('data/msc_traffic_0110.csv')"
   ]
  },
  {
   "cell_type": "code",
   "execution_count": 307,
   "metadata": {},
   "outputs": [
    {
     "data": {
      "text/html": [
       "<div>\n",
       "<style scoped>\n",
       "    .dataframe tbody tr th:only-of-type {\n",
       "        vertical-align: middle;\n",
       "    }\n",
       "\n",
       "    .dataframe tbody tr th {\n",
       "        vertical-align: top;\n",
       "    }\n",
       "\n",
       "    .dataframe thead th {\n",
       "        text-align: right;\n",
       "    }\n",
       "</style>\n",
       "<table border=\"1\" class=\"dataframe\">\n",
       "  <thead>\n",
       "    <tr style=\"text-align: right;\">\n",
       "      <th></th>\n",
       "      <th>Date</th>\n",
       "      <th>MSC</th>\n",
       "      <th>Call Attempts</th>\n",
       "      <th>Call success</th>\n",
       "      <th>Call Answer</th>\n",
       "      <th>traffic</th>\n",
       "    </tr>\n",
       "  </thead>\n",
       "  <tbody>\n",
       "    <tr>\n",
       "      <th>0</th>\n",
       "      <td>2015-01-10 00:00:00</td>\n",
       "      <td>MSC_1</td>\n",
       "      <td>1000</td>\n",
       "      <td>922</td>\n",
       "      <td>702</td>\n",
       "      <td>1198.923158</td>\n",
       "    </tr>\n",
       "    <tr>\n",
       "      <th>1</th>\n",
       "      <td>2015-01-10 01:00:00</td>\n",
       "      <td>MSC_1</td>\n",
       "      <td>993</td>\n",
       "      <td>899</td>\n",
       "      <td>728</td>\n",
       "      <td>775.090052</td>\n",
       "    </tr>\n",
       "    <tr>\n",
       "      <th>2</th>\n",
       "      <td>2015-01-10 02:00:00</td>\n",
       "      <td>MSC_1</td>\n",
       "      <td>850</td>\n",
       "      <td>779</td>\n",
       "      <td>671</td>\n",
       "      <td>776.387334</td>\n",
       "    </tr>\n",
       "    <tr>\n",
       "      <th>3</th>\n",
       "      <td>2015-01-10 03:00:00</td>\n",
       "      <td>MSC_1</td>\n",
       "      <td>821</td>\n",
       "      <td>776</td>\n",
       "      <td>675</td>\n",
       "      <td>879.424597</td>\n",
       "    </tr>\n",
       "    <tr>\n",
       "      <th>4</th>\n",
       "      <td>2015-01-10 04:00:00</td>\n",
       "      <td>MSC_1</td>\n",
       "      <td>900</td>\n",
       "      <td>892</td>\n",
       "      <td>795</td>\n",
       "      <td>1424.728238</td>\n",
       "    </tr>\n",
       "  </tbody>\n",
       "</table>\n",
       "</div>"
      ],
      "text/plain": [
       "                  Date    MSC  Call Attempts  Call success  Call Answer  \\\n",
       "0  2015-01-10 00:00:00  MSC_1           1000           922          702   \n",
       "1  2015-01-10 01:00:00  MSC_1            993           899          728   \n",
       "2  2015-01-10 02:00:00  MSC_1            850           779          671   \n",
       "3  2015-01-10 03:00:00  MSC_1            821           776          675   \n",
       "4  2015-01-10 04:00:00  MSC_1            900           892          795   \n",
       "\n",
       "       traffic  \n",
       "0  1198.923158  \n",
       "1   775.090052  \n",
       "2   776.387334  \n",
       "3   879.424597  \n",
       "4  1424.728238  "
      ]
     },
     "execution_count": 307,
     "metadata": {},
     "output_type": "execute_result"
    }
   ],
   "source": [
    "df.head()"
   ]
  },
  {
   "cell_type": "code",
   "execution_count": 308,
   "metadata": {},
   "outputs": [
    {
     "data": {
      "text/plain": [
       "RangeIndex(start=0, stop=48, step=1)"
      ]
     },
     "execution_count": 308,
     "metadata": {},
     "output_type": "execute_result"
    }
   ],
   "source": [
    "df.index"
   ]
  },
  {
   "cell_type": "code",
   "execution_count": 309,
   "metadata": {},
   "outputs": [
    {
     "data": {
      "text/plain": [
       "Index(['Date', 'MSC', 'Call Attempts', 'Call success', 'Call Answer',\n",
       "       'traffic'],\n",
       "      dtype='object')"
      ]
     },
     "execution_count": 309,
     "metadata": {},
     "output_type": "execute_result"
    }
   ],
   "source": [
    "df.columns"
   ]
  },
  {
   "cell_type": "code",
   "execution_count": 310,
   "metadata": {},
   "outputs": [
    {
     "data": {
      "text/html": [
       "<div>\n",
       "<style scoped>\n",
       "    .dataframe tbody tr th:only-of-type {\n",
       "        vertical-align: middle;\n",
       "    }\n",
       "\n",
       "    .dataframe tbody tr th {\n",
       "        vertical-align: top;\n",
       "    }\n",
       "\n",
       "    .dataframe thead th {\n",
       "        text-align: right;\n",
       "    }\n",
       "</style>\n",
       "<table border=\"1\" class=\"dataframe\">\n",
       "  <thead>\n",
       "    <tr style=\"text-align: right;\">\n",
       "      <th></th>\n",
       "      <th>MSC</th>\n",
       "      <th>Call Attempts</th>\n",
       "      <th>Call success</th>\n",
       "      <th>Call Answer</th>\n",
       "      <th>traffic</th>\n",
       "    </tr>\n",
       "    <tr>\n",
       "      <th>Date</th>\n",
       "      <th></th>\n",
       "      <th></th>\n",
       "      <th></th>\n",
       "      <th></th>\n",
       "      <th></th>\n",
       "    </tr>\n",
       "  </thead>\n",
       "  <tbody>\n",
       "    <tr>\n",
       "      <th>2015-01-10 00:00:00</th>\n",
       "      <td>MSC_1</td>\n",
       "      <td>1000</td>\n",
       "      <td>922</td>\n",
       "      <td>702</td>\n",
       "      <td>1198.923158</td>\n",
       "    </tr>\n",
       "    <tr>\n",
       "      <th>2015-01-10 01:00:00</th>\n",
       "      <td>MSC_1</td>\n",
       "      <td>993</td>\n",
       "      <td>899</td>\n",
       "      <td>728</td>\n",
       "      <td>775.090052</td>\n",
       "    </tr>\n",
       "    <tr>\n",
       "      <th>2015-01-10 02:00:00</th>\n",
       "      <td>MSC_1</td>\n",
       "      <td>850</td>\n",
       "      <td>779</td>\n",
       "      <td>671</td>\n",
       "      <td>776.387334</td>\n",
       "    </tr>\n",
       "    <tr>\n",
       "      <th>2015-01-10 03:00:00</th>\n",
       "      <td>MSC_1</td>\n",
       "      <td>821</td>\n",
       "      <td>776</td>\n",
       "      <td>675</td>\n",
       "      <td>879.424597</td>\n",
       "    </tr>\n",
       "    <tr>\n",
       "      <th>2015-01-10 04:00:00</th>\n",
       "      <td>MSC_1</td>\n",
       "      <td>900</td>\n",
       "      <td>892</td>\n",
       "      <td>795</td>\n",
       "      <td>1424.728238</td>\n",
       "    </tr>\n",
       "  </tbody>\n",
       "</table>\n",
       "</div>"
      ],
      "text/plain": [
       "                       MSC  Call Attempts  Call success  Call Answer  \\\n",
       "Date                                                                   \n",
       "2015-01-10 00:00:00  MSC_1           1000           922          702   \n",
       "2015-01-10 01:00:00  MSC_1            993           899          728   \n",
       "2015-01-10 02:00:00  MSC_1            850           779          671   \n",
       "2015-01-10 03:00:00  MSC_1            821           776          675   \n",
       "2015-01-10 04:00:00  MSC_1            900           892          795   \n",
       "\n",
       "                         traffic  \n",
       "Date                              \n",
       "2015-01-10 00:00:00  1198.923158  \n",
       "2015-01-10 01:00:00   775.090052  \n",
       "2015-01-10 02:00:00   776.387334  \n",
       "2015-01-10 03:00:00   879.424597  \n",
       "2015-01-10 04:00:00  1424.728238  "
      ]
     },
     "execution_count": 310,
     "metadata": {},
     "output_type": "execute_result"
    }
   ],
   "source": [
    "df = pd.read_csv('data/msc_traffic_0110', index_col='Date')\n",
    "df.head()"
   ]
  },
  {
   "cell_type": "code",
   "execution_count": 311,
   "metadata": {},
   "outputs": [
    {
     "data": {
      "text/plain": [
       "Index(['MSC', 'Call Attempts', 'Call success', 'Call Answer', 'traffic'], dtype='object')"
      ]
     },
     "execution_count": 311,
     "metadata": {},
     "output_type": "execute_result"
    }
   ],
   "source": [
    "df.columns"
   ]
  },
  {
   "cell_type": "code",
   "execution_count": 312,
   "metadata": {},
   "outputs": [
    {
     "data": {
      "text/plain": [
       "Index(['2015-01-10 00:00:00', '2015-01-10 01:00:00'], dtype='object', name='Date')"
      ]
     },
     "execution_count": 312,
     "metadata": {},
     "output_type": "execute_result"
    }
   ],
   "source": [
    "df.index[0:2]"
   ]
  },
  {
   "cell_type": "code",
   "execution_count": 313,
   "metadata": {},
   "outputs": [
    {
     "data": {
      "text/plain": [
       "MSC               object\n",
       "Call Attempts      int64\n",
       "Call success       int64\n",
       "Call Answer        int64\n",
       "traffic          float64\n",
       "dtype: object"
      ]
     },
     "execution_count": 313,
     "metadata": {},
     "output_type": "execute_result"
    }
   ],
   "source": [
    "df.dtypes"
   ]
  },
  {
   "cell_type": "code",
   "execution_count": 314,
   "metadata": {},
   "outputs": [
    {
     "data": {
      "text/plain": [
       "DatetimeIndex(['2015-01-10 00:00:00', '2015-01-10 01:00:00'], dtype='datetime64[ns]', name='Date', freq=None)"
      ]
     },
     "execution_count": 314,
     "metadata": {},
     "output_type": "execute_result"
    }
   ],
   "source": [
    "df = pd.read_csv('data/msc_traffic_0110', index_col='Date', parse_dates=['Date'])\n",
    "df.index[0:2]"
   ]
  },
  {
   "cell_type": "code",
   "execution_count": 315,
   "metadata": {},
   "outputs": [
    {
     "data": {
      "text/plain": [
       "MSC               object\n",
       "Call Attempts      int64\n",
       "Call success       int64\n",
       "Call Answer        int64\n",
       "traffic          float64\n",
       "dtype: object"
      ]
     },
     "execution_count": 315,
     "metadata": {},
     "output_type": "execute_result"
    }
   ],
   "source": [
    "df.dtypes"
   ]
  },
  {
   "cell_type": "code",
   "execution_count": 316,
   "metadata": {},
   "outputs": [
    {
     "data": {
      "text/plain": [
       "array([datetime.date(2015, 1, 10)], dtype=object)"
      ]
     },
     "execution_count": 316,
     "metadata": {},
     "output_type": "execute_result"
    }
   ],
   "source": [
    "np.unique(df.index.date)"
   ]
  },
  {
   "cell_type": "code",
   "execution_count": 317,
   "metadata": {},
   "outputs": [
    {
     "data": {
      "text/plain": [
       "Int64Index([ 0,  1,  2,  3,  4,  5,  6,  7,  8,  9, 10, 11, 12, 13, 14, 15, 16,\n",
       "            17, 18, 19, 20, 21, 22, 23,  0,  1,  2,  3,  4,  5,  6,  7,  8,  9,\n",
       "            10, 11, 12, 13, 14, 15, 16, 17, 18, 19, 20, 21, 22, 23],\n",
       "           dtype='int64', name='Date')"
      ]
     },
     "execution_count": 317,
     "metadata": {},
     "output_type": "execute_result"
    }
   ],
   "source": [
    "df.index.hour"
   ]
  },
  {
   "cell_type": "code",
   "execution_count": 318,
   "metadata": {},
   "outputs": [
    {
     "data": {
      "text/plain": [
       "Int64Index([0, 0, 0, 0, 0, 0, 0, 0, 0, 0, 0, 0, 0, 0, 0, 0, 0, 0, 0, 0, 0, 0,\n",
       "            0, 0, 0, 0, 0, 0, 0, 0, 0, 0, 0, 0, 0, 0, 0, 0, 0, 0, 0, 0, 0, 0,\n",
       "            0, 0, 0, 0],\n",
       "           dtype='int64', name='Date')"
      ]
     },
     "execution_count": 318,
     "metadata": {},
     "output_type": "execute_result"
    }
   ],
   "source": [
    "df.index.minute"
   ]
  },
  {
   "cell_type": "code",
   "execution_count": 319,
   "metadata": {},
   "outputs": [
    {
     "data": {
      "text/plain": [
       "Int64Index([0, 0, 0, 0, 0, 0, 0, 0, 0, 0, 0, 0, 0, 0, 0, 0, 0, 0, 0, 0, 0, 0,\n",
       "            0, 0, 0, 0, 0, 0, 0, 0, 0, 0, 0, 0, 0, 0, 0, 0, 0, 0, 0, 0, 0, 0,\n",
       "            0, 0, 0, 0],\n",
       "           dtype='int64', name='Date')"
      ]
     },
     "execution_count": 319,
     "metadata": {},
     "output_type": "execute_result"
    }
   ],
   "source": [
    "df.index.second"
   ]
  },
  {
   "cell_type": "code",
   "execution_count": 320,
   "metadata": {},
   "outputs": [
    {
     "data": {
      "text/plain": [
       "count        48\n",
       "unique        2\n",
       "top       MSC_1\n",
       "freq         24\n",
       "Name: MSC, dtype: object"
      ]
     },
     "execution_count": 320,
     "metadata": {},
     "output_type": "execute_result"
    }
   ],
   "source": [
    "df.MSC.describe()"
   ]
  },
  {
   "cell_type": "code",
   "execution_count": 321,
   "metadata": {},
   "outputs": [
    {
     "data": {
      "text/plain": [
       "array(['MSC_1', 'MSC_2'], dtype=object)"
      ]
     },
     "execution_count": 321,
     "metadata": {},
     "output_type": "execute_result"
    }
   ],
   "source": [
    "df.MSC.unique()"
   ]
  },
  {
   "cell_type": "code",
   "execution_count": 322,
   "metadata": {},
   "outputs": [
    {
     "data": {
      "text/plain": [
       "array(['MSC_1', 'MSC_2'], dtype=object)"
      ]
     },
     "execution_count": 322,
     "metadata": {},
     "output_type": "execute_result"
    }
   ],
   "source": [
    "x = df['MSC']\n",
    "np.unique(x.values)"
   ]
  },
  {
   "cell_type": "code",
   "execution_count": 323,
   "metadata": {},
   "outputs": [],
   "source": [
    "gdf=df.groupby(['MSC'])"
   ]
  },
  {
   "cell_type": "code",
   "execution_count": 324,
   "metadata": {},
   "outputs": [
    {
     "data": {
      "text/plain": [
       "pandas.core.groupby.DataFrameGroupBy"
      ]
     },
     "execution_count": 324,
     "metadata": {},
     "output_type": "execute_result"
    }
   ],
   "source": [
    "gdf.__class__"
   ]
  },
  {
   "cell_type": "code",
   "execution_count": 325,
   "metadata": {},
   "outputs": [
    {
     "data": {
      "text/plain": [
       "{'MSC_1': DatetimeIndex(['2015-01-10 00:00:00', '2015-01-10 01:00:00',\n",
       "                '2015-01-10 02:00:00', '2015-01-10 03:00:00',\n",
       "                '2015-01-10 04:00:00', '2015-01-10 05:00:00',\n",
       "                '2015-01-10 06:00:00', '2015-01-10 07:00:00',\n",
       "                '2015-01-10 08:00:00', '2015-01-10 09:00:00',\n",
       "                '2015-01-10 10:00:00', '2015-01-10 11:00:00',\n",
       "                '2015-01-10 12:00:00', '2015-01-10 13:00:00',\n",
       "                '2015-01-10 14:00:00', '2015-01-10 15:00:00',\n",
       "                '2015-01-10 16:00:00', '2015-01-10 17:00:00',\n",
       "                '2015-01-10 18:00:00', '2015-01-10 19:00:00',\n",
       "                '2015-01-10 20:00:00', '2015-01-10 21:00:00',\n",
       "                '2015-01-10 22:00:00', '2015-01-10 23:00:00'],\n",
       "               dtype='datetime64[ns]', name='Date', freq=None),\n",
       " 'MSC_2': DatetimeIndex(['2015-01-10 00:00:00', '2015-01-10 01:00:00',\n",
       "                '2015-01-10 02:00:00', '2015-01-10 03:00:00',\n",
       "                '2015-01-10 04:00:00', '2015-01-10 05:00:00',\n",
       "                '2015-01-10 06:00:00', '2015-01-10 07:00:00',\n",
       "                '2015-01-10 08:00:00', '2015-01-10 09:00:00',\n",
       "                '2015-01-10 10:00:00', '2015-01-10 11:00:00',\n",
       "                '2015-01-10 12:00:00', '2015-01-10 13:00:00',\n",
       "                '2015-01-10 14:00:00', '2015-01-10 15:00:00',\n",
       "                '2015-01-10 16:00:00', '2015-01-10 17:00:00',\n",
       "                '2015-01-10 18:00:00', '2015-01-10 19:00:00',\n",
       "                '2015-01-10 20:00:00', '2015-01-10 21:00:00',\n",
       "                '2015-01-10 22:00:00', '2015-01-10 23:00:00'],\n",
       "               dtype='datetime64[ns]', name='Date', freq=None)}"
      ]
     },
     "execution_count": 325,
     "metadata": {},
     "output_type": "execute_result"
    }
   ],
   "source": [
    "gdf.groups"
   ]
  },
  {
   "cell_type": "code",
   "execution_count": 326,
   "metadata": {},
   "outputs": [
    {
     "data": {
      "text/html": [
       "<div>\n",
       "<style scoped>\n",
       "    .dataframe tbody tr th:only-of-type {\n",
       "        vertical-align: middle;\n",
       "    }\n",
       "\n",
       "    .dataframe tbody tr th {\n",
       "        vertical-align: top;\n",
       "    }\n",
       "\n",
       "    .dataframe thead tr th {\n",
       "        text-align: left;\n",
       "    }\n",
       "\n",
       "    .dataframe thead tr:last-of-type th {\n",
       "        text-align: right;\n",
       "    }\n",
       "</style>\n",
       "<table border=\"1\" class=\"dataframe\">\n",
       "  <thead>\n",
       "    <tr>\n",
       "      <th></th>\n",
       "      <th colspan=\"8\" halign=\"left\">Call Answer</th>\n",
       "      <th colspan=\"2\" halign=\"left\">Call Attempts</th>\n",
       "      <th>...</th>\n",
       "      <th colspan=\"2\" halign=\"left\">Call success</th>\n",
       "      <th colspan=\"8\" halign=\"left\">traffic</th>\n",
       "    </tr>\n",
       "    <tr>\n",
       "      <th></th>\n",
       "      <th>count</th>\n",
       "      <th>mean</th>\n",
       "      <th>std</th>\n",
       "      <th>min</th>\n",
       "      <th>25%</th>\n",
       "      <th>50%</th>\n",
       "      <th>75%</th>\n",
       "      <th>max</th>\n",
       "      <th>count</th>\n",
       "      <th>mean</th>\n",
       "      <th>...</th>\n",
       "      <th>75%</th>\n",
       "      <th>max</th>\n",
       "      <th>count</th>\n",
       "      <th>mean</th>\n",
       "      <th>std</th>\n",
       "      <th>min</th>\n",
       "      <th>25%</th>\n",
       "      <th>50%</th>\n",
       "      <th>75%</th>\n",
       "      <th>max</th>\n",
       "    </tr>\n",
       "    <tr>\n",
       "      <th>MSC</th>\n",
       "      <th></th>\n",
       "      <th></th>\n",
       "      <th></th>\n",
       "      <th></th>\n",
       "      <th></th>\n",
       "      <th></th>\n",
       "      <th></th>\n",
       "      <th></th>\n",
       "      <th></th>\n",
       "      <th></th>\n",
       "      <th></th>\n",
       "      <th></th>\n",
       "      <th></th>\n",
       "      <th></th>\n",
       "      <th></th>\n",
       "      <th></th>\n",
       "      <th></th>\n",
       "      <th></th>\n",
       "      <th></th>\n",
       "      <th></th>\n",
       "      <th></th>\n",
       "    </tr>\n",
       "  </thead>\n",
       "  <tbody>\n",
       "    <tr>\n",
       "      <th>MSC_1</th>\n",
       "      <td>24.0</td>\n",
       "      <td>2335.333333</td>\n",
       "      <td>1360.410989</td>\n",
       "      <td>671.0</td>\n",
       "      <td>875.0</td>\n",
       "      <td>2403.0</td>\n",
       "      <td>3444.75</td>\n",
       "      <td>4597.0</td>\n",
       "      <td>24.0</td>\n",
       "      <td>2915.625</td>\n",
       "      <td>...</td>\n",
       "      <td>4068.00</td>\n",
       "      <td>4986.0</td>\n",
       "      <td>24.0</td>\n",
       "      <td>3554.017889</td>\n",
       "      <td>2321.558275</td>\n",
       "      <td>775.090052</td>\n",
       "      <td>1309.893790</td>\n",
       "      <td>3421.455599</td>\n",
       "      <td>5256.125053</td>\n",
       "      <td>8765.704030</td>\n",
       "    </tr>\n",
       "    <tr>\n",
       "      <th>MSC_2</th>\n",
       "      <td>24.0</td>\n",
       "      <td>1996.416667</td>\n",
       "      <td>899.315194</td>\n",
       "      <td>637.0</td>\n",
       "      <td>1241.5</td>\n",
       "      <td>2087.5</td>\n",
       "      <td>2570.75</td>\n",
       "      <td>3698.0</td>\n",
       "      <td>24.0</td>\n",
       "      <td>2540.500</td>\n",
       "      <td>...</td>\n",
       "      <td>3208.75</td>\n",
       "      <td>4743.0</td>\n",
       "      <td>24.0</td>\n",
       "      <td>3110.197221</td>\n",
       "      <td>1504.411886</td>\n",
       "      <td>694.335806</td>\n",
       "      <td>1844.433643</td>\n",
       "      <td>3115.087700</td>\n",
       "      <td>3966.096253</td>\n",
       "      <td>5943.368089</td>\n",
       "    </tr>\n",
       "  </tbody>\n",
       "</table>\n",
       "<p>2 rows × 32 columns</p>\n",
       "</div>"
      ],
      "text/plain": [
       "      Call Answer                                                            \\\n",
       "            count         mean          std    min     25%     50%      75%   \n",
       "MSC                                                                           \n",
       "MSC_1        24.0  2335.333333  1360.410989  671.0   875.0  2403.0  3444.75   \n",
       "MSC_2        24.0  1996.416667   899.315194  637.0  1241.5  2087.5  2570.75   \n",
       "\n",
       "              Call Attempts               ...      Call success          \\\n",
       "          max         count      mean     ...               75%     max   \n",
       "MSC                                       ...                             \n",
       "MSC_1  4597.0          24.0  2915.625     ...           4068.00  4986.0   \n",
       "MSC_2  3698.0          24.0  2540.500     ...           3208.75  4743.0   \n",
       "\n",
       "      traffic                                                                  \\\n",
       "        count         mean          std         min          25%          50%   \n",
       "MSC                                                                             \n",
       "MSC_1    24.0  3554.017889  2321.558275  775.090052  1309.893790  3421.455599   \n",
       "MSC_2    24.0  3110.197221  1504.411886  694.335806  1844.433643  3115.087700   \n",
       "\n",
       "                                 \n",
       "               75%          max  \n",
       "MSC                              \n",
       "MSC_1  5256.125053  8765.704030  \n",
       "MSC_2  3966.096253  5943.368089  \n",
       "\n",
       "[2 rows x 32 columns]"
      ]
     },
     "execution_count": 326,
     "metadata": {},
     "output_type": "execute_result"
    }
   ],
   "source": [
    "gdf.describe()"
   ]
  },
  {
   "cell_type": "code",
   "execution_count": 327,
   "metadata": {},
   "outputs": [
    {
     "data": {
      "text/plain": [
       "2"
      ]
     },
     "execution_count": 327,
     "metadata": {},
     "output_type": "execute_result"
    }
   ],
   "source": [
    "gdf.ngroups"
   ]
  },
  {
   "cell_type": "code",
   "execution_count": 328,
   "metadata": {},
   "outputs": [
    {
     "data": {
      "text/html": [
       "<div>\n",
       "<style scoped>\n",
       "    .dataframe tbody tr th:only-of-type {\n",
       "        vertical-align: middle;\n",
       "    }\n",
       "\n",
       "    .dataframe tbody tr th {\n",
       "        vertical-align: top;\n",
       "    }\n",
       "\n",
       "    .dataframe thead th {\n",
       "        text-align: right;\n",
       "    }\n",
       "</style>\n",
       "<table border=\"1\" class=\"dataframe\">\n",
       "  <thead>\n",
       "    <tr style=\"text-align: right;\">\n",
       "      <th></th>\n",
       "      <th>Call Answer</th>\n",
       "      <th>Call Attempts</th>\n",
       "      <th>Call success</th>\n",
       "      <th>traffic</th>\n",
       "    </tr>\n",
       "    <tr>\n",
       "      <th>MSC</th>\n",
       "      <th></th>\n",
       "      <th></th>\n",
       "      <th></th>\n",
       "      <th></th>\n",
       "    </tr>\n",
       "  </thead>\n",
       "  <tbody>\n",
       "    <tr>\n",
       "      <th>MSC_1</th>\n",
       "      <td>24</td>\n",
       "      <td>24</td>\n",
       "      <td>24</td>\n",
       "      <td>24</td>\n",
       "    </tr>\n",
       "    <tr>\n",
       "      <th>MSC_2</th>\n",
       "      <td>24</td>\n",
       "      <td>24</td>\n",
       "      <td>24</td>\n",
       "      <td>24</td>\n",
       "    </tr>\n",
       "  </tbody>\n",
       "</table>\n",
       "</div>"
      ],
      "text/plain": [
       "       Call Answer  Call Attempts  Call success  traffic\n",
       "MSC                                                     \n",
       "MSC_1           24             24            24       24\n",
       "MSC_2           24             24            24       24"
      ]
     },
     "execution_count": 328,
     "metadata": {},
     "output_type": "execute_result"
    }
   ],
   "source": [
    "gdf.nunique()"
   ]
  },
  {
   "cell_type": "code",
   "execution_count": 329,
   "metadata": {},
   "outputs": [
    {
     "data": {
      "text/plain": [
       "dict_keys(['MSC_1', 'MSC_2'])"
      ]
     },
     "execution_count": 329,
     "metadata": {},
     "output_type": "execute_result"
    }
   ],
   "source": [
    "gdf.groups.keys()"
   ]
  },
  {
   "cell_type": "code",
   "execution_count": 330,
   "metadata": {},
   "outputs": [
    {
     "data": {
      "text/html": [
       "<div>\n",
       "<style scoped>\n",
       "    .dataframe tbody tr th:only-of-type {\n",
       "        vertical-align: middle;\n",
       "    }\n",
       "\n",
       "    .dataframe tbody tr th {\n",
       "        vertical-align: top;\n",
       "    }\n",
       "\n",
       "    .dataframe thead th {\n",
       "        text-align: right;\n",
       "    }\n",
       "</style>\n",
       "<table border=\"1\" class=\"dataframe\">\n",
       "  <thead>\n",
       "    <tr style=\"text-align: right;\">\n",
       "      <th></th>\n",
       "      <th>Call Attempts</th>\n",
       "      <th>Call success</th>\n",
       "      <th>Call Answer</th>\n",
       "      <th>traffic</th>\n",
       "    </tr>\n",
       "    <tr>\n",
       "      <th>MSC</th>\n",
       "      <th></th>\n",
       "      <th></th>\n",
       "      <th></th>\n",
       "      <th></th>\n",
       "    </tr>\n",
       "  </thead>\n",
       "  <tbody>\n",
       "    <tr>\n",
       "      <th>MSC_1</th>\n",
       "      <td>69975</td>\n",
       "      <td>66854</td>\n",
       "      <td>56048</td>\n",
       "      <td>85296.429342</td>\n",
       "    </tr>\n",
       "    <tr>\n",
       "      <th>MSC_2</th>\n",
       "      <td>60972</td>\n",
       "      <td>58046</td>\n",
       "      <td>47914</td>\n",
       "      <td>74644.733309</td>\n",
       "    </tr>\n",
       "  </tbody>\n",
       "</table>\n",
       "</div>"
      ],
      "text/plain": [
       "       Call Attempts  Call success  Call Answer       traffic\n",
       "MSC                                                          \n",
       "MSC_1          69975         66854        56048  85296.429342\n",
       "MSC_2          60972         58046        47914  74644.733309"
      ]
     },
     "execution_count": 330,
     "metadata": {},
     "output_type": "execute_result"
    }
   ],
   "source": [
    "gdf.agg('sum')"
   ]
  },
  {
   "cell_type": "code",
   "execution_count": 331,
   "metadata": {},
   "outputs": [
    {
     "data": {
      "text/html": [
       "<div>\n",
       "<style scoped>\n",
       "    .dataframe tbody tr th:only-of-type {\n",
       "        vertical-align: middle;\n",
       "    }\n",
       "\n",
       "    .dataframe tbody tr th {\n",
       "        vertical-align: top;\n",
       "    }\n",
       "\n",
       "    .dataframe thead th {\n",
       "        text-align: right;\n",
       "    }\n",
       "</style>\n",
       "<table border=\"1\" class=\"dataframe\">\n",
       "  <thead>\n",
       "    <tr style=\"text-align: right;\">\n",
       "      <th></th>\n",
       "      <th>Call Attempts</th>\n",
       "      <th>Call success</th>\n",
       "      <th>Call Answer</th>\n",
       "      <th>traffic</th>\n",
       "    </tr>\n",
       "    <tr>\n",
       "      <th>MSC</th>\n",
       "      <th></th>\n",
       "      <th></th>\n",
       "      <th></th>\n",
       "      <th></th>\n",
       "    </tr>\n",
       "  </thead>\n",
       "  <tbody>\n",
       "    <tr>\n",
       "      <th>MSC_1</th>\n",
       "      <td>5204</td>\n",
       "      <td>4986</td>\n",
       "      <td>4597</td>\n",
       "      <td>8765.704030</td>\n",
       "    </tr>\n",
       "    <tr>\n",
       "      <th>MSC_2</th>\n",
       "      <td>4856</td>\n",
       "      <td>4743</td>\n",
       "      <td>3698</td>\n",
       "      <td>5943.368089</td>\n",
       "    </tr>\n",
       "  </tbody>\n",
       "</table>\n",
       "</div>"
      ],
      "text/plain": [
       "       Call Attempts  Call success  Call Answer      traffic\n",
       "MSC                                                         \n",
       "MSC_1           5204          4986         4597  8765.704030\n",
       "MSC_2           4856          4743         3698  5943.368089"
      ]
     },
     "execution_count": 331,
     "metadata": {},
     "output_type": "execute_result"
    }
   ],
   "source": [
    "gdf.agg('max')"
   ]
  },
  {
   "cell_type": "code",
   "execution_count": 332,
   "metadata": {},
   "outputs": [
    {
     "data": {
      "text/html": [
       "<div>\n",
       "<style scoped>\n",
       "    .dataframe tbody tr th:only-of-type {\n",
       "        vertical-align: middle;\n",
       "    }\n",
       "\n",
       "    .dataframe tbody tr th {\n",
       "        vertical-align: top;\n",
       "    }\n",
       "\n",
       "    .dataframe thead th {\n",
       "        text-align: right;\n",
       "    }\n",
       "</style>\n",
       "<table border=\"1\" class=\"dataframe\">\n",
       "  <thead>\n",
       "    <tr style=\"text-align: right;\">\n",
       "      <th></th>\n",
       "      <th>MSC</th>\n",
       "      <th>Call Attempts</th>\n",
       "      <th>Call success</th>\n",
       "      <th>Call Answer</th>\n",
       "      <th>traffic</th>\n",
       "      <th>Call Failure</th>\n",
       "    </tr>\n",
       "    <tr>\n",
       "      <th>Date</th>\n",
       "      <th></th>\n",
       "      <th></th>\n",
       "      <th></th>\n",
       "      <th></th>\n",
       "      <th></th>\n",
       "      <th></th>\n",
       "    </tr>\n",
       "  </thead>\n",
       "  <tbody>\n",
       "    <tr>\n",
       "      <th>2015-01-10 00:00:00</th>\n",
       "      <td>MSC_1</td>\n",
       "      <td>1000</td>\n",
       "      <td>922</td>\n",
       "      <td>702</td>\n",
       "      <td>1198.923158</td>\n",
       "      <td>78</td>\n",
       "    </tr>\n",
       "    <tr>\n",
       "      <th>2015-01-10 01:00:00</th>\n",
       "      <td>MSC_1</td>\n",
       "      <td>993</td>\n",
       "      <td>899</td>\n",
       "      <td>728</td>\n",
       "      <td>775.090052</td>\n",
       "      <td>94</td>\n",
       "    </tr>\n",
       "    <tr>\n",
       "      <th>2015-01-10 02:00:00</th>\n",
       "      <td>MSC_1</td>\n",
       "      <td>850</td>\n",
       "      <td>779</td>\n",
       "      <td>671</td>\n",
       "      <td>776.387334</td>\n",
       "      <td>71</td>\n",
       "    </tr>\n",
       "  </tbody>\n",
       "</table>\n",
       "</div>"
      ],
      "text/plain": [
       "                       MSC  Call Attempts  Call success  Call Answer  \\\n",
       "Date                                                                   \n",
       "2015-01-10 00:00:00  MSC_1           1000           922          702   \n",
       "2015-01-10 01:00:00  MSC_1            993           899          728   \n",
       "2015-01-10 02:00:00  MSC_1            850           779          671   \n",
       "\n",
       "                         traffic  Call Failure  \n",
       "Date                                            \n",
       "2015-01-10 00:00:00  1198.923158            78  \n",
       "2015-01-10 01:00:00   775.090052            94  \n",
       "2015-01-10 02:00:00   776.387334            71  "
      ]
     },
     "execution_count": 332,
     "metadata": {},
     "output_type": "execute_result"
    }
   ],
   "source": [
    "df['Call Failure'] = df['Call Attempts'] - df['Call success']\n",
    "df.head(3)"
   ]
  },
  {
   "cell_type": "code",
   "execution_count": 333,
   "metadata": {},
   "outputs": [],
   "source": [
    "gdf=df.groupby(['MSC'])"
   ]
  },
  {
   "cell_type": "code",
   "execution_count": 334,
   "metadata": {},
   "outputs": [
    {
     "data": {
      "text/html": [
       "<div>\n",
       "<style scoped>\n",
       "    .dataframe tbody tr th:only-of-type {\n",
       "        vertical-align: middle;\n",
       "    }\n",
       "\n",
       "    .dataframe tbody tr th {\n",
       "        vertical-align: top;\n",
       "    }\n",
       "\n",
       "    .dataframe thead th {\n",
       "        text-align: right;\n",
       "    }\n",
       "</style>\n",
       "<table border=\"1\" class=\"dataframe\">\n",
       "  <thead>\n",
       "    <tr style=\"text-align: right;\">\n",
       "      <th></th>\n",
       "      <th>Call Failure</th>\n",
       "    </tr>\n",
       "    <tr>\n",
       "      <th>MSC</th>\n",
       "      <th></th>\n",
       "    </tr>\n",
       "  </thead>\n",
       "  <tbody>\n",
       "    <tr>\n",
       "      <th>MSC_1</th>\n",
       "      <td>320</td>\n",
       "    </tr>\n",
       "    <tr>\n",
       "      <th>MSC_2</th>\n",
       "      <td>351</td>\n",
       "    </tr>\n",
       "  </tbody>\n",
       "</table>\n",
       "</div>"
      ],
      "text/plain": [
       "       Call Failure\n",
       "MSC                \n",
       "MSC_1           320\n",
       "MSC_2           351"
      ]
     },
     "execution_count": 334,
     "metadata": {},
     "output_type": "execute_result"
    }
   ],
   "source": [
    "gdf.agg({'Call Failure': 'max'})"
   ]
  },
  {
   "cell_type": "code",
   "execution_count": 335,
   "metadata": {},
   "outputs": [
    {
     "data": {
      "text/html": [
       "<div>\n",
       "<style scoped>\n",
       "    .dataframe tbody tr th:only-of-type {\n",
       "        vertical-align: middle;\n",
       "    }\n",
       "\n",
       "    .dataframe tbody tr th {\n",
       "        vertical-align: top;\n",
       "    }\n",
       "\n",
       "    .dataframe thead th {\n",
       "        text-align: right;\n",
       "    }\n",
       "</style>\n",
       "<table border=\"1\" class=\"dataframe\">\n",
       "  <thead>\n",
       "    <tr style=\"text-align: right;\">\n",
       "      <th></th>\n",
       "      <th>MSC</th>\n",
       "      <th>Call Attempts</th>\n",
       "      <th>Call success</th>\n",
       "      <th>Call Answer</th>\n",
       "      <th>traffic</th>\n",
       "      <th>Call Failure</th>\n",
       "    </tr>\n",
       "    <tr>\n",
       "      <th>Date</th>\n",
       "      <th></th>\n",
       "      <th></th>\n",
       "      <th></th>\n",
       "      <th></th>\n",
       "      <th></th>\n",
       "      <th></th>\n",
       "    </tr>\n",
       "  </thead>\n",
       "  <tbody>\n",
       "    <tr>\n",
       "      <th>2015-01-10 21:00:00</th>\n",
       "      <td>MSC_1</td>\n",
       "      <td>4400</td>\n",
       "      <td>4080</td>\n",
       "      <td>3591</td>\n",
       "      <td>6977.363196</td>\n",
       "      <td>320</td>\n",
       "    </tr>\n",
       "    <tr>\n",
       "      <th>2015-01-10 11:00:00</th>\n",
       "      <td>MSC_1</td>\n",
       "      <td>4010</td>\n",
       "      <td>3710</td>\n",
       "      <td>3194</td>\n",
       "      <td>5708.442983</td>\n",
       "      <td>300</td>\n",
       "    </tr>\n",
       "  </tbody>\n",
       "</table>\n",
       "</div>"
      ],
      "text/plain": [
       "                       MSC  Call Attempts  Call success  Call Answer  \\\n",
       "Date                                                                   \n",
       "2015-01-10 21:00:00  MSC_1           4400          4080         3591   \n",
       "2015-01-10 11:00:00  MSC_1           4010          3710         3194   \n",
       "\n",
       "                         traffic  Call Failure  \n",
       "Date                                            \n",
       "2015-01-10 21:00:00  6977.363196           320  \n",
       "2015-01-10 11:00:00  5708.442983           300  "
      ]
     },
     "execution_count": 335,
     "metadata": {},
     "output_type": "execute_result"
    }
   ],
   "source": [
    "s1=gdf.get_group('MSC_1')\n",
    "s1.nlargest(2, 'Call Failure')"
   ]
  },
  {
   "cell_type": "code",
   "execution_count": 336,
   "metadata": {},
   "outputs": [
    {
     "data": {
      "text/html": [
       "<div>\n",
       "<style scoped>\n",
       "    .dataframe tbody tr th:only-of-type {\n",
       "        vertical-align: middle;\n",
       "    }\n",
       "\n",
       "    .dataframe tbody tr th {\n",
       "        vertical-align: top;\n",
       "    }\n",
       "\n",
       "    .dataframe thead th {\n",
       "        text-align: right;\n",
       "    }\n",
       "</style>\n",
       "<table border=\"1\" class=\"dataframe\">\n",
       "  <thead>\n",
       "    <tr style=\"text-align: right;\">\n",
       "      <th></th>\n",
       "      <th>MSC</th>\n",
       "      <th>Call Attempts</th>\n",
       "      <th>Call success</th>\n",
       "      <th>Call Answer</th>\n",
       "      <th>traffic</th>\n",
       "      <th>Call Failure</th>\n",
       "    </tr>\n",
       "    <tr>\n",
       "      <th>Date</th>\n",
       "      <th></th>\n",
       "      <th></th>\n",
       "      <th></th>\n",
       "      <th></th>\n",
       "      <th></th>\n",
       "      <th></th>\n",
       "    </tr>\n",
       "  </thead>\n",
       "  <tbody>\n",
       "    <tr>\n",
       "      <th>2015-01-10 21:00:00</th>\n",
       "      <td>MSC_2</td>\n",
       "      <td>4021</td>\n",
       "      <td>3670</td>\n",
       "      <td>2995</td>\n",
       "      <td>4400.457962</td>\n",
       "      <td>351</td>\n",
       "    </tr>\n",
       "    <tr>\n",
       "      <th>2015-01-10 13:00:00</th>\n",
       "      <td>MSC_2</td>\n",
       "      <td>3140</td>\n",
       "      <td>2842</td>\n",
       "      <td>2537</td>\n",
       "      <td>3799.822939</td>\n",
       "      <td>298</td>\n",
       "    </tr>\n",
       "  </tbody>\n",
       "</table>\n",
       "</div>"
      ],
      "text/plain": [
       "                       MSC  Call Attempts  Call success  Call Answer  \\\n",
       "Date                                                                   \n",
       "2015-01-10 21:00:00  MSC_2           4021          3670         2995   \n",
       "2015-01-10 13:00:00  MSC_2           3140          2842         2537   \n",
       "\n",
       "                         traffic  Call Failure  \n",
       "Date                                            \n",
       "2015-01-10 21:00:00  4400.457962           351  \n",
       "2015-01-10 13:00:00  3799.822939           298  "
      ]
     },
     "execution_count": 336,
     "metadata": {},
     "output_type": "execute_result"
    }
   ],
   "source": [
    "s1=gdf.get_group('MSC_2')\n",
    "s1.nlargest(2, 'Call Failure')"
   ]
  },
  {
   "cell_type": "code",
   "execution_count": 337,
   "metadata": {},
   "outputs": [
    {
     "name": "stdout",
     "output_type": "stream",
     "text": [
      "                       MSC  Call Attempts  Call success  Call Answer  \\\n",
      "Date                                                                   \n",
      "2015-01-10 21:00:00  MSC_1           4400          4080         3591   \n",
      "\n",
      "                         traffic  Call Failure  \n",
      "Date                                            \n",
      "2015-01-10 21:00:00  6977.363196           320  \n",
      "                       MSC  Call Attempts  Call success  Call Answer  \\\n",
      "Date                                                                   \n",
      "2015-01-10 21:00:00  MSC_2           4021          3670         2995   \n",
      "\n",
      "                         traffic  Call Failure  \n",
      "Date                                            \n",
      "2015-01-10 21:00:00  4400.457962           351  \n"
     ]
    }
   ],
   "source": [
    "for name, group in gdf:\n",
    "    print(group.nlargest(1, 'Call Failure'))"
   ]
  },
  {
   "cell_type": "code",
   "execution_count": 339,
   "metadata": {},
   "outputs": [
    {
     "name": "stdout",
     "output_type": "stream",
     "text": [
      "                       MSC  Call Attempts  Call success  Call Answer  \\\n",
      "Date                                                                   \n",
      "2015-01-10 19:00:00  MSC_1           5204          4986         4597   \n",
      "\n",
      "                        traffic  Call Failure  \n",
      "Date                                           \n",
      "2015-01-10 19:00:00  8765.70403           218  \n",
      "                       MSC  Call Attempts  Call success  Call Answer  \\\n",
      "Date                                                                   \n",
      "2015-01-10 20:00:00  MSC_2           4856          4743         3698   \n",
      "\n",
      "                         traffic  Call Failure  \n",
      "Date                                            \n",
      "2015-01-10 20:00:00  5943.368089           113  \n"
     ]
    }
   ],
   "source": [
    "for name, group in gdf:\n",
    "    print(group.nlargest(1, 'Call Attempts'))"
   ]
  },
  {
   "cell_type": "code",
   "execution_count": null,
   "metadata": {},
   "outputs": [],
   "source": []
  }
 ],
 "metadata": {
  "kernelspec": {
   "display_name": "Python 3",
   "language": "python",
   "name": "python3"
  },
  "language_info": {
   "codemirror_mode": {
    "name": "ipython",
    "version": 3
   },
   "file_extension": ".py",
   "mimetype": "text/x-python",
   "name": "python",
   "nbconvert_exporter": "python",
   "pygments_lexer": "ipython3",
   "version": "3.6.4"
  }
 },
 "nbformat": 4,
 "nbformat_minor": 2
}
