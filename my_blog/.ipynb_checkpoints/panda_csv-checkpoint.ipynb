{
 "cells": [
  {
   "cell_type": "code",
   "execution_count": 30,
   "metadata": {},
   "outputs": [],
   "source": [
    "import pandas as pd\n",
    "import numpy as np\n",
    "#from os import path"
   ]
  },
  {
   "cell_type": "code",
   "execution_count": 2,
   "metadata": {},
   "outputs": [],
   "source": [
    "fname_temp = 'data/msc_traffic_1.csv'"
   ]
  },
  {
   "cell_type": "code",
   "execution_count": 3,
   "metadata": {},
   "outputs": [
    {
     "name": "stdout",
     "output_type": "stream",
     "text": [
      "Date,MSC,Call Attempts,Call success,Call Answer,traffic,success rate,answer rate,mht\r\n",
      "2015-01-10 00:00:00,MSC_1,1000,922,702,1198.92315835941,92.2210051939666,70.2274131211149,1.70786774695073\r\n",
      "2015-01-10 01:00:00,MSC_1,993,899,728,775.09005237436,90.5273810076752,73.354132518539,1.06468413787687\r\n",
      "2015-01-10 02:00:00,MSC_1,850,779,671,776.387333959399,91.6501401827553,78.9629424364571,1.15706011022265\r\n",
      "2015-01-10 03:00:00,MSC_1,821,776,675,879.424597408871,94.4974116160334,82.2001557736036,1.30285125542055\r\n",
      "2015-01-10 04:00:00,MSC_1,900,892,795,1424.72823774089,99.1413728169044,88.3327943083132,1.79211099086905\r\n",
      "2015-01-10 05:00:00,MSC_1,943,886,842,1033.77539952557,93.9567555788461,89.2736079453603,1.22776175715626\r\n",
      "2015-01-10 06:00:00,MSC_1,1102,1095,886,1346.88400016375,99.4022002025181,80.4218233485119,1.52018510176496\r\n",
      "2015-01-10 07:00:00,MSC_1,1240,1127,919,1059.81720011154,90.8936945973918,74.1191410973239,1.15322872699841\r\n",
      "2015-01-10 08:00:00,MSC_1,1851,1841,1406,1876.10871022632,99.4385880671418,75.9440943592534,1.33435896886651\r\n"
     ]
    }
   ],
   "source": [
    "!head \"$fname_temp\""
   ]
  },
  {
   "cell_type": "code",
   "execution_count": 4,
   "metadata": {},
   "outputs": [
    {
     "data": {
      "text/html": [
       "<div>\n",
       "<style scoped>\n",
       "    .dataframe tbody tr th:only-of-type {\n",
       "        vertical-align: middle;\n",
       "    }\n",
       "\n",
       "    .dataframe tbody tr th {\n",
       "        vertical-align: top;\n",
       "    }\n",
       "\n",
       "    .dataframe thead th {\n",
       "        text-align: right;\n",
       "    }\n",
       "</style>\n",
       "<table border=\"1\" class=\"dataframe\">\n",
       "  <thead>\n",
       "    <tr style=\"text-align: right;\">\n",
       "      <th></th>\n",
       "      <th>Date</th>\n",
       "      <th>MSC</th>\n",
       "      <th>Call Attempts</th>\n",
       "      <th>Call success</th>\n",
       "      <th>Call Answer</th>\n",
       "      <th>traffic</th>\n",
       "      <th>success rate</th>\n",
       "      <th>answer rate</th>\n",
       "      <th>mht</th>\n",
       "    </tr>\n",
       "  </thead>\n",
       "  <tbody>\n",
       "    <tr>\n",
       "      <th>0</th>\n",
       "      <td>2015-01-10 00:00:00</td>\n",
       "      <td>MSC_1</td>\n",
       "      <td>1000</td>\n",
       "      <td>922</td>\n",
       "      <td>702</td>\n",
       "      <td>1198.923158</td>\n",
       "      <td>92.221005</td>\n",
       "      <td>70.227413</td>\n",
       "      <td>1.707868</td>\n",
       "    </tr>\n",
       "    <tr>\n",
       "      <th>1</th>\n",
       "      <td>2015-01-10 01:00:00</td>\n",
       "      <td>MSC_1</td>\n",
       "      <td>993</td>\n",
       "      <td>899</td>\n",
       "      <td>728</td>\n",
       "      <td>775.090052</td>\n",
       "      <td>90.527381</td>\n",
       "      <td>73.354133</td>\n",
       "      <td>1.064684</td>\n",
       "    </tr>\n",
       "    <tr>\n",
       "      <th>2</th>\n",
       "      <td>2015-01-10 02:00:00</td>\n",
       "      <td>MSC_1</td>\n",
       "      <td>850</td>\n",
       "      <td>779</td>\n",
       "      <td>671</td>\n",
       "      <td>776.387334</td>\n",
       "      <td>91.650140</td>\n",
       "      <td>78.962942</td>\n",
       "      <td>1.157060</td>\n",
       "    </tr>\n",
       "    <tr>\n",
       "      <th>3</th>\n",
       "      <td>2015-01-10 03:00:00</td>\n",
       "      <td>MSC_1</td>\n",
       "      <td>821</td>\n",
       "      <td>776</td>\n",
       "      <td>675</td>\n",
       "      <td>879.424597</td>\n",
       "      <td>94.497412</td>\n",
       "      <td>82.200156</td>\n",
       "      <td>1.302851</td>\n",
       "    </tr>\n",
       "    <tr>\n",
       "      <th>4</th>\n",
       "      <td>2015-01-10 04:00:00</td>\n",
       "      <td>MSC_1</td>\n",
       "      <td>900</td>\n",
       "      <td>892</td>\n",
       "      <td>795</td>\n",
       "      <td>1424.728238</td>\n",
       "      <td>99.141373</td>\n",
       "      <td>88.332794</td>\n",
       "      <td>1.792111</td>\n",
       "    </tr>\n",
       "  </tbody>\n",
       "</table>\n",
       "</div>"
      ],
      "text/plain": [
       "                  Date    MSC  Call Attempts  Call success  Call Answer  \\\n",
       "0  2015-01-10 00:00:00  MSC_1           1000           922          702   \n",
       "1  2015-01-10 01:00:00  MSC_1            993           899          728   \n",
       "2  2015-01-10 02:00:00  MSC_1            850           779          671   \n",
       "3  2015-01-10 03:00:00  MSC_1            821           776          675   \n",
       "4  2015-01-10 04:00:00  MSC_1            900           892          795   \n",
       "\n",
       "       traffic  success rate  answer rate       mht  \n",
       "0  1198.923158     92.221005    70.227413  1.707868  \n",
       "1   775.090052     90.527381    73.354133  1.064684  \n",
       "2   776.387334     91.650140    78.962942  1.157060  \n",
       "3   879.424597     94.497412    82.200156  1.302851  \n",
       "4  1424.728238     99.141373    88.332794  1.792111  "
      ]
     },
     "execution_count": 4,
     "metadata": {},
     "output_type": "execute_result"
    }
   ],
   "source": [
    "pd_temp = pd.read_csv(fname_temp, index_col=False)\n",
    "pd_temp.head()"
   ]
  },
  {
   "cell_type": "code",
   "execution_count": 5,
   "metadata": {},
   "outputs": [],
   "source": [
    "pd_temp.to_csv(path_or_buf='data/msc_traffic_0110.csv', columns=['Date', 'MSC', 'Call Attempts', 'Call success', 'Call Answer', 'traffic'], index=False)"
   ]
  },
  {
   "cell_type": "code",
   "execution_count": 6,
   "metadata": {},
   "outputs": [],
   "source": [
    "df = pd.read_csv('data/msc_traffic_0110.csv')"
   ]
  },
  {
   "cell_type": "code",
   "execution_count": 7,
   "metadata": {},
   "outputs": [
    {
     "name": "stdout",
     "output_type": "stream",
     "text": [
      "Date,MSC,Call Attempts,Call success,Call Answer,traffic\r\n",
      "2015-01-10 00:00:00,MSC_1,1000,922,702,1198.9231583594099\r\n",
      "2015-01-10 01:00:00,MSC_1,993,899,728,775.0900523743599\r\n",
      "2015-01-10 02:00:00,MSC_1,850,779,671,776.3873339593989\r\n",
      "2015-01-10 03:00:00,MSC_1,821,776,675,879.424597408871\r\n",
      "2015-01-10 04:00:00,MSC_1,900,892,795,1424.7282377408899\r\n",
      "2015-01-10 05:00:00,MSC_1,943,886,842,1033.7753995255698\r\n",
      "2015-01-10 06:00:00,MSC_1,1102,1095,886,1346.88400016375\r\n",
      "2015-01-10 07:00:00,MSC_1,1240,1127,919,1059.8172001115402\r\n",
      "2015-01-10 08:00:00,MSC_1,1851,1841,1406,1876.1087102263198\r\n"
     ]
    }
   ],
   "source": [
    "!head \"data/msc_traffic_0110.csv\""
   ]
  },
  {
   "cell_type": "code",
   "execution_count": 8,
   "metadata": {},
   "outputs": [
    {
     "data": {
      "text/html": [
       "<div>\n",
       "<style scoped>\n",
       "    .dataframe tbody tr th:only-of-type {\n",
       "        vertical-align: middle;\n",
       "    }\n",
       "\n",
       "    .dataframe tbody tr th {\n",
       "        vertical-align: top;\n",
       "    }\n",
       "\n",
       "    .dataframe thead th {\n",
       "        text-align: right;\n",
       "    }\n",
       "</style>\n",
       "<table border=\"1\" class=\"dataframe\">\n",
       "  <thead>\n",
       "    <tr style=\"text-align: right;\">\n",
       "      <th></th>\n",
       "      <th>Date</th>\n",
       "      <th>MSC</th>\n",
       "      <th>Call Attempts</th>\n",
       "      <th>Call success</th>\n",
       "      <th>Call Answer</th>\n",
       "      <th>traffic</th>\n",
       "    </tr>\n",
       "  </thead>\n",
       "  <tbody>\n",
       "    <tr>\n",
       "      <th>0</th>\n",
       "      <td>2015-01-10 00:00:00</td>\n",
       "      <td>MSC_1</td>\n",
       "      <td>1000</td>\n",
       "      <td>922</td>\n",
       "      <td>702</td>\n",
       "      <td>1198.923158</td>\n",
       "    </tr>\n",
       "    <tr>\n",
       "      <th>1</th>\n",
       "      <td>2015-01-10 01:00:00</td>\n",
       "      <td>MSC_1</td>\n",
       "      <td>993</td>\n",
       "      <td>899</td>\n",
       "      <td>728</td>\n",
       "      <td>775.090052</td>\n",
       "    </tr>\n",
       "    <tr>\n",
       "      <th>2</th>\n",
       "      <td>2015-01-10 02:00:00</td>\n",
       "      <td>MSC_1</td>\n",
       "      <td>850</td>\n",
       "      <td>779</td>\n",
       "      <td>671</td>\n",
       "      <td>776.387334</td>\n",
       "    </tr>\n",
       "    <tr>\n",
       "      <th>3</th>\n",
       "      <td>2015-01-10 03:00:00</td>\n",
       "      <td>MSC_1</td>\n",
       "      <td>821</td>\n",
       "      <td>776</td>\n",
       "      <td>675</td>\n",
       "      <td>879.424597</td>\n",
       "    </tr>\n",
       "    <tr>\n",
       "      <th>4</th>\n",
       "      <td>2015-01-10 04:00:00</td>\n",
       "      <td>MSC_1</td>\n",
       "      <td>900</td>\n",
       "      <td>892</td>\n",
       "      <td>795</td>\n",
       "      <td>1424.728238</td>\n",
       "    </tr>\n",
       "  </tbody>\n",
       "</table>\n",
       "</div>"
      ],
      "text/plain": [
       "                  Date    MSC  Call Attempts  Call success  Call Answer  \\\n",
       "0  2015-01-10 00:00:00  MSC_1           1000           922          702   \n",
       "1  2015-01-10 01:00:00  MSC_1            993           899          728   \n",
       "2  2015-01-10 02:00:00  MSC_1            850           779          671   \n",
       "3  2015-01-10 03:00:00  MSC_1            821           776          675   \n",
       "4  2015-01-10 04:00:00  MSC_1            900           892          795   \n",
       "\n",
       "       traffic  \n",
       "0  1198.923158  \n",
       "1   775.090052  \n",
       "2   776.387334  \n",
       "3   879.424597  \n",
       "4  1424.728238  "
      ]
     },
     "execution_count": 8,
     "metadata": {},
     "output_type": "execute_result"
    }
   ],
   "source": [
    "df.head()"
   ]
  },
  {
   "cell_type": "code",
   "execution_count": 9,
   "metadata": {},
   "outputs": [
    {
     "data": {
      "text/plain": [
       "RangeIndex(start=0, stop=48, step=1)"
      ]
     },
     "execution_count": 9,
     "metadata": {},
     "output_type": "execute_result"
    }
   ],
   "source": [
    "df.index"
   ]
  },
  {
   "cell_type": "code",
   "execution_count": 10,
   "metadata": {},
   "outputs": [
    {
     "data": {
      "text/plain": [
       "Index(['Date', 'MSC', 'Call Attempts', 'Call success', 'Call Answer',\n",
       "       'traffic'],\n",
       "      dtype='object')"
      ]
     },
     "execution_count": 10,
     "metadata": {},
     "output_type": "execute_result"
    }
   ],
   "source": [
    "df.columns"
   ]
  },
  {
   "cell_type": "code",
   "execution_count": 11,
   "metadata": {},
   "outputs": [
    {
     "data": {
      "text/html": [
       "<div>\n",
       "<style scoped>\n",
       "    .dataframe tbody tr th:only-of-type {\n",
       "        vertical-align: middle;\n",
       "    }\n",
       "\n",
       "    .dataframe tbody tr th {\n",
       "        vertical-align: top;\n",
       "    }\n",
       "\n",
       "    .dataframe thead th {\n",
       "        text-align: right;\n",
       "    }\n",
       "</style>\n",
       "<table border=\"1\" class=\"dataframe\">\n",
       "  <thead>\n",
       "    <tr style=\"text-align: right;\">\n",
       "      <th></th>\n",
       "      <th>MSC</th>\n",
       "      <th>Call Attempts</th>\n",
       "      <th>Call success</th>\n",
       "      <th>Call Answer</th>\n",
       "      <th>traffic</th>\n",
       "    </tr>\n",
       "    <tr>\n",
       "      <th>Date</th>\n",
       "      <th></th>\n",
       "      <th></th>\n",
       "      <th></th>\n",
       "      <th></th>\n",
       "      <th></th>\n",
       "    </tr>\n",
       "  </thead>\n",
       "  <tbody>\n",
       "    <tr>\n",
       "      <th>2015-01-10 00:00:00</th>\n",
       "      <td>MSC_1</td>\n",
       "      <td>1000</td>\n",
       "      <td>922</td>\n",
       "      <td>702</td>\n",
       "      <td>1198.923158</td>\n",
       "    </tr>\n",
       "    <tr>\n",
       "      <th>2015-01-10 01:00:00</th>\n",
       "      <td>MSC_1</td>\n",
       "      <td>993</td>\n",
       "      <td>899</td>\n",
       "      <td>728</td>\n",
       "      <td>775.090052</td>\n",
       "    </tr>\n",
       "    <tr>\n",
       "      <th>2015-01-10 02:00:00</th>\n",
       "      <td>MSC_1</td>\n",
       "      <td>850</td>\n",
       "      <td>779</td>\n",
       "      <td>671</td>\n",
       "      <td>776.387334</td>\n",
       "    </tr>\n",
       "    <tr>\n",
       "      <th>2015-01-10 03:00:00</th>\n",
       "      <td>MSC_1</td>\n",
       "      <td>821</td>\n",
       "      <td>776</td>\n",
       "      <td>675</td>\n",
       "      <td>879.424597</td>\n",
       "    </tr>\n",
       "    <tr>\n",
       "      <th>2015-01-10 04:00:00</th>\n",
       "      <td>MSC_1</td>\n",
       "      <td>900</td>\n",
       "      <td>892</td>\n",
       "      <td>795</td>\n",
       "      <td>1424.728238</td>\n",
       "    </tr>\n",
       "  </tbody>\n",
       "</table>\n",
       "</div>"
      ],
      "text/plain": [
       "                       MSC  Call Attempts  Call success  Call Answer  \\\n",
       "Date                                                                   \n",
       "2015-01-10 00:00:00  MSC_1           1000           922          702   \n",
       "2015-01-10 01:00:00  MSC_1            993           899          728   \n",
       "2015-01-10 02:00:00  MSC_1            850           779          671   \n",
       "2015-01-10 03:00:00  MSC_1            821           776          675   \n",
       "2015-01-10 04:00:00  MSC_1            900           892          795   \n",
       "\n",
       "                         traffic  \n",
       "Date                              \n",
       "2015-01-10 00:00:00  1198.923158  \n",
       "2015-01-10 01:00:00   775.090052  \n",
       "2015-01-10 02:00:00   776.387334  \n",
       "2015-01-10 03:00:00   879.424597  \n",
       "2015-01-10 04:00:00  1424.728238  "
      ]
     },
     "execution_count": 11,
     "metadata": {},
     "output_type": "execute_result"
    }
   ],
   "source": [
    "df = pd.read_csv('data/msc_traffic_0110', index_col='Date')\n",
    "df.head()"
   ]
  },
  {
   "cell_type": "code",
   "execution_count": 12,
   "metadata": {},
   "outputs": [
    {
     "data": {
      "text/plain": [
       "Index(['MSC', 'Call Attempts', 'Call success', 'Call Answer', 'traffic'], dtype='object')"
      ]
     },
     "execution_count": 12,
     "metadata": {},
     "output_type": "execute_result"
    }
   ],
   "source": [
    "df.columns"
   ]
  },
  {
   "cell_type": "code",
   "execution_count": 13,
   "metadata": {},
   "outputs": [
    {
     "data": {
      "text/plain": [
       "Index(['2015-01-10 00:00:00', '2015-01-10 01:00:00'], dtype='object', name='Date')"
      ]
     },
     "execution_count": 13,
     "metadata": {},
     "output_type": "execute_result"
    }
   ],
   "source": [
    "df.index[0:2]"
   ]
  },
  {
   "cell_type": "code",
   "execution_count": 14,
   "metadata": {},
   "outputs": [
    {
     "data": {
      "text/plain": [
       "MSC               object\n",
       "Call Attempts      int64\n",
       "Call success       int64\n",
       "Call Answer        int64\n",
       "traffic          float64\n",
       "dtype: object"
      ]
     },
     "execution_count": 14,
     "metadata": {},
     "output_type": "execute_result"
    }
   ],
   "source": [
    "df.dtypes"
   ]
  },
  {
   "cell_type": "code",
   "execution_count": 15,
   "metadata": {},
   "outputs": [
    {
     "data": {
      "text/plain": [
       "DatetimeIndex(['2015-01-10 00:00:00', '2015-01-10 01:00:00'], dtype='datetime64[ns]', name='Date', freq=None)"
      ]
     },
     "execution_count": 15,
     "metadata": {},
     "output_type": "execute_result"
    }
   ],
   "source": [
    "df = pd.read_csv('data/msc_traffic_0110', index_col='Date', parse_dates=['Date'])\n",
    "df.index[0:2]"
   ]
  },
  {
   "cell_type": "code",
   "execution_count": 16,
   "metadata": {},
   "outputs": [
    {
     "data": {
      "text/plain": [
       "Date\n",
       "2015-01-10 00:00:00    1000\n",
       "2015-01-10 01:00:00     993\n",
       "Name: Call Attempts, dtype: int64"
      ]
     },
     "execution_count": 16,
     "metadata": {},
     "output_type": "execute_result"
    }
   ],
   "source": [
    "df['Call Attempts'][0:2]"
   ]
  },
  {
   "cell_type": "code",
   "execution_count": 17,
   "metadata": {},
   "outputs": [
    {
     "data": {
      "text/html": [
       "<div>\n",
       "<style scoped>\n",
       "    .dataframe tbody tr th:only-of-type {\n",
       "        vertical-align: middle;\n",
       "    }\n",
       "\n",
       "    .dataframe tbody tr th {\n",
       "        vertical-align: top;\n",
       "    }\n",
       "\n",
       "    .dataframe thead th {\n",
       "        text-align: right;\n",
       "    }\n",
       "</style>\n",
       "<table border=\"1\" class=\"dataframe\">\n",
       "  <thead>\n",
       "    <tr style=\"text-align: right;\">\n",
       "      <th></th>\n",
       "      <th>MSC</th>\n",
       "      <th>Call Attempts</th>\n",
       "      <th>Call success</th>\n",
       "      <th>Call Answer</th>\n",
       "      <th>traffic</th>\n",
       "    </tr>\n",
       "    <tr>\n",
       "      <th>Date</th>\n",
       "      <th></th>\n",
       "      <th></th>\n",
       "      <th></th>\n",
       "      <th></th>\n",
       "      <th></th>\n",
       "    </tr>\n",
       "  </thead>\n",
       "  <tbody>\n",
       "    <tr>\n",
       "      <th>2015-01-10</th>\n",
       "      <td>MSC_1</td>\n",
       "      <td>1000</td>\n",
       "      <td>922</td>\n",
       "      <td>702</td>\n",
       "      <td>1198.923158</td>\n",
       "    </tr>\n",
       "    <tr>\n",
       "      <th>2015-01-10</th>\n",
       "      <td>MSC_2</td>\n",
       "      <td>1504</td>\n",
       "      <td>1399</td>\n",
       "      <td>1292</td>\n",
       "      <td>2580.083498</td>\n",
       "    </tr>\n",
       "  </tbody>\n",
       "</table>\n",
       "</div>"
      ],
      "text/plain": [
       "              MSC  Call Attempts  Call success  Call Answer      traffic\n",
       "Date                                                                    \n",
       "2015-01-10  MSC_1           1000           922          702  1198.923158\n",
       "2015-01-10  MSC_2           1504          1399         1292  2580.083498"
      ]
     },
     "execution_count": 17,
     "metadata": {},
     "output_type": "execute_result"
    }
   ],
   "source": [
    "df.loc['2015-01-10 00:00:00']"
   ]
  },
  {
   "cell_type": "code",
   "execution_count": 18,
   "metadata": {},
   "outputs": [
    {
     "data": {
      "text/plain": [
       "MSC               object\n",
       "Call Attempts      int64\n",
       "Call success       int64\n",
       "Call Answer        int64\n",
       "traffic          float64\n",
       "dtype: object"
      ]
     },
     "execution_count": 18,
     "metadata": {},
     "output_type": "execute_result"
    }
   ],
   "source": [
    "df.dtypes"
   ]
  },
  {
   "cell_type": "code",
   "execution_count": 19,
   "metadata": {},
   "outputs": [
    {
     "data": {
      "text/plain": [
       "159941.1626508716"
      ]
     },
     "execution_count": 19,
     "metadata": {},
     "output_type": "execute_result"
    }
   ],
   "source": [
    "#pd.options.display.float_format = '{0:.2f}'.format\n",
    "df['traffic'].sum()\n",
    "#print('{0:.2f}'.format(a))\n"
   ]
  },
  {
   "cell_type": "code",
   "execution_count": 20,
   "metadata": {},
   "outputs": [
    {
     "data": {
      "text/plain": [
       "MSC\n",
       "MSC_1    85296.429342\n",
       "MSC_2    74644.733309\n",
       "Name: traffic, dtype: float64"
      ]
     },
     "execution_count": 20,
     "metadata": {},
     "output_type": "execute_result"
    }
   ],
   "source": [
    "df.groupby(['MSC'])['traffic'].sum()"
   ]
  },
  {
   "cell_type": "code",
   "execution_count": 31,
   "metadata": {},
   "outputs": [
    {
     "data": {
      "text/plain": [
       "array(['MSC_1', 'MSC_2'], dtype=object)"
      ]
     },
     "execution_count": 31,
     "metadata": {},
     "output_type": "execute_result"
    }
   ],
   "source": [
    "x = df['MSC']\n",
    "np.unique(x.values)"
   ]
  },
  {
   "cell_type": "code",
   "execution_count": 42,
   "metadata": {},
   "outputs": [
    {
     "data": {
      "text/html": [
       "<div>\n",
       "<style scoped>\n",
       "    .dataframe tbody tr th:only-of-type {\n",
       "        vertical-align: middle;\n",
       "    }\n",
       "\n",
       "    .dataframe tbody tr th {\n",
       "        vertical-align: top;\n",
       "    }\n",
       "\n",
       "    .dataframe thead th {\n",
       "        text-align: right;\n",
       "    }\n",
       "</style>\n",
       "<table border=\"1\" class=\"dataframe\">\n",
       "  <thead>\n",
       "    <tr style=\"text-align: right;\">\n",
       "      <th></th>\n",
       "      <th>MSC</th>\n",
       "      <th>Call Attempts</th>\n",
       "      <th>Call success</th>\n",
       "      <th>Call Answer</th>\n",
       "      <th>traffic</th>\n",
       "    </tr>\n",
       "    <tr>\n",
       "      <th>MSC</th>\n",
       "      <th></th>\n",
       "      <th></th>\n",
       "      <th></th>\n",
       "      <th></th>\n",
       "      <th></th>\n",
       "    </tr>\n",
       "  </thead>\n",
       "  <tbody>\n",
       "    <tr>\n",
       "      <th>MSC_1</th>\n",
       "      <td>1</td>\n",
       "      <td>24</td>\n",
       "      <td>24</td>\n",
       "      <td>24</td>\n",
       "      <td>24</td>\n",
       "    </tr>\n",
       "    <tr>\n",
       "      <th>MSC_2</th>\n",
       "      <td>1</td>\n",
       "      <td>24</td>\n",
       "      <td>24</td>\n",
       "      <td>24</td>\n",
       "      <td>24</td>\n",
       "    </tr>\n",
       "  </tbody>\n",
       "</table>\n",
       "</div>"
      ],
      "text/plain": [
       "       MSC  Call Attempts  Call success  Call Answer  traffic\n",
       "MSC                                                          \n",
       "MSC_1    1             24            24           24       24\n",
       "MSC_2    1             24            24           24       24"
      ]
     },
     "execution_count": 42,
     "metadata": {},
     "output_type": "execute_result"
    }
   ],
   "source": [
    "y=df.groupby(['MSC'])\n",
    "y.nunique()"
   ]
  },
  {
   "cell_type": "code",
   "execution_count": 35,
   "metadata": {},
   "outputs": [
    {
     "data": {
      "text/html": [
       "<div>\n",
       "<style scoped>\n",
       "    .dataframe tbody tr th:only-of-type {\n",
       "        vertical-align: middle;\n",
       "    }\n",
       "\n",
       "    .dataframe tbody tr th {\n",
       "        vertical-align: top;\n",
       "    }\n",
       "\n",
       "    .dataframe thead th {\n",
       "        text-align: right;\n",
       "    }\n",
       "</style>\n",
       "<table border=\"1\" class=\"dataframe\">\n",
       "  <thead>\n",
       "    <tr style=\"text-align: right;\">\n",
       "      <th></th>\n",
       "      <th>Call Attempts</th>\n",
       "      <th>Call success</th>\n",
       "      <th>Call Answer</th>\n",
       "      <th>traffic</th>\n",
       "    </tr>\n",
       "    <tr>\n",
       "      <th>MSC</th>\n",
       "      <th></th>\n",
       "      <th></th>\n",
       "      <th></th>\n",
       "      <th></th>\n",
       "    </tr>\n",
       "  </thead>\n",
       "  <tbody>\n",
       "    <tr>\n",
       "      <th>MSC_1</th>\n",
       "      <td>69975</td>\n",
       "      <td>66854</td>\n",
       "      <td>56048</td>\n",
       "      <td>85296.429342</td>\n",
       "    </tr>\n",
       "    <tr>\n",
       "      <th>MSC_2</th>\n",
       "      <td>60972</td>\n",
       "      <td>58046</td>\n",
       "      <td>47914</td>\n",
       "      <td>74644.733309</td>\n",
       "    </tr>\n",
       "  </tbody>\n",
       "</table>\n",
       "</div>"
      ],
      "text/plain": [
       "       Call Attempts  Call success  Call Answer       traffic\n",
       "MSC                                                          \n",
       "MSC_1          69975         66854        56048  85296.429342\n",
       "MSC_2          60972         58046        47914  74644.733309"
      ]
     },
     "execution_count": 35,
     "metadata": {},
     "output_type": "execute_result"
    }
   ],
   "source": [
    "df.groupby(['MSC']).sum()"
   ]
  },
  {
   "cell_type": "code",
   "execution_count": null,
   "metadata": {},
   "outputs": [],
   "source": []
  }
 ],
 "metadata": {
  "kernelspec": {
   "display_name": "Python 3",
   "language": "python",
   "name": "python3"
  },
  "language_info": {
   "codemirror_mode": {
    "name": "ipython",
    "version": 3
   },
   "file_extension": ".py",
   "mimetype": "text/x-python",
   "name": "python",
   "nbconvert_exporter": "python",
   "pygments_lexer": "ipython3",
   "version": "3.6.4"
  }
 },
 "nbformat": 4,
 "nbformat_minor": 2
}
