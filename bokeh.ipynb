{
 "cells": [
  {
   "cell_type": "code",
   "execution_count": 1,
   "metadata": {},
   "outputs": [
    {
     "data": {
      "text/html": [
       "\n",
       "    <div class=\"bk-root\">\n",
       "        <a href=\"https://bokeh.pydata.org\" target=\"_blank\" class=\"bk-logo bk-logo-small bk-logo-notebook\"></a>\n",
       "        <span id=\"a5ad1410-e85e-42ab-a9c1-50323ad08866\">Loading BokehJS ...</span>\n",
       "    </div>"
      ]
     },
     "metadata": {},
     "output_type": "display_data"
    },
    {
     "data": {
      "application/javascript": [
       "\n",
       "(function(root) {\n",
       "  function now() {\n",
       "    return new Date();\n",
       "  }\n",
       "\n",
       "  var force = true;\n",
       "\n",
       "  if (typeof (root._bokeh_onload_callbacks) === \"undefined\" || force === true) {\n",
       "    root._bokeh_onload_callbacks = [];\n",
       "    root._bokeh_is_loading = undefined;\n",
       "  }\n",
       "\n",
       "  var JS_MIME_TYPE = 'application/javascript';\n",
       "  var HTML_MIME_TYPE = 'text/html';\n",
       "  var EXEC_MIME_TYPE = 'application/vnd.bokehjs_exec.v0+json';\n",
       "  var CLASS_NAME = 'output_bokeh rendered_html';\n",
       "\n",
       "  /**\n",
       "   * Render data to the DOM node\n",
       "   */\n",
       "  function render(props, node) {\n",
       "    var script = document.createElement(\"script\");\n",
       "    node.appendChild(script);\n",
       "  }\n",
       "\n",
       "  /**\n",
       "   * Handle when an output is cleared or removed\n",
       "   */\n",
       "  function handleClearOutput(event, handle) {\n",
       "    var cell = handle.cell;\n",
       "\n",
       "    var id = cell.output_area._bokeh_element_id;\n",
       "    var server_id = cell.output_area._bokeh_server_id;\n",
       "    // Clean up Bokeh references\n",
       "    if (id !== undefined) {\n",
       "      Bokeh.index[id].model.document.clear();\n",
       "      delete Bokeh.index[id];\n",
       "    }\n",
       "\n",
       "    if (server_id !== undefined) {\n",
       "      // Clean up Bokeh references\n",
       "      var cmd = \"from bokeh.io.state import curstate; print(curstate().uuid_to_server['\" + server_id + \"'].get_sessions()[0].document.roots[0]._id)\";\n",
       "      cell.notebook.kernel.execute(cmd, {\n",
       "        iopub: {\n",
       "          output: function(msg) {\n",
       "            var element_id = msg.content.text.trim();\n",
       "            Bokeh.index[element_id].model.document.clear();\n",
       "            delete Bokeh.index[element_id];\n",
       "          }\n",
       "        }\n",
       "      });\n",
       "      // Destroy server and session\n",
       "      var cmd = \"import bokeh.io.notebook as ion; ion.destroy_server('\" + server_id + \"')\";\n",
       "      cell.notebook.kernel.execute(cmd);\n",
       "    }\n",
       "  }\n",
       "\n",
       "  /**\n",
       "   * Handle when a new output is added\n",
       "   */\n",
       "  function handleAddOutput(event, handle) {\n",
       "    var output_area = handle.output_area;\n",
       "    var output = handle.output;\n",
       "\n",
       "    // limit handleAddOutput to display_data with EXEC_MIME_TYPE content only\n",
       "    if ((output.output_type != \"display_data\") || (!output.data.hasOwnProperty(EXEC_MIME_TYPE))) {\n",
       "      return\n",
       "    }\n",
       "\n",
       "    var toinsert = output_area.element.find(`.${CLASS_NAME.split(' ')[0]}`);\n",
       "\n",
       "    if (output.metadata[EXEC_MIME_TYPE][\"id\"] !== undefined) {\n",
       "      toinsert[0].firstChild.textContent = output.data[JS_MIME_TYPE];\n",
       "      // store reference to embed id on output_area\n",
       "      output_area._bokeh_element_id = output.metadata[EXEC_MIME_TYPE][\"id\"];\n",
       "    }\n",
       "    if (output.metadata[EXEC_MIME_TYPE][\"server_id\"] !== undefined) {\n",
       "      var bk_div = document.createElement(\"div\");\n",
       "      bk_div.innerHTML = output.data[HTML_MIME_TYPE];\n",
       "      var script_attrs = bk_div.children[0].attributes;\n",
       "      for (var i = 0; i < script_attrs.length; i++) {\n",
       "        toinsert[0].firstChild.setAttribute(script_attrs[i].name, script_attrs[i].value);\n",
       "      }\n",
       "      // store reference to server id on output_area\n",
       "      output_area._bokeh_server_id = output.metadata[EXEC_MIME_TYPE][\"server_id\"];\n",
       "    }\n",
       "  }\n",
       "\n",
       "  function register_renderer(events, OutputArea) {\n",
       "\n",
       "    function append_mime(data, metadata, element) {\n",
       "      // create a DOM node to render to\n",
       "      var toinsert = this.create_output_subarea(\n",
       "        metadata,\n",
       "        CLASS_NAME,\n",
       "        EXEC_MIME_TYPE\n",
       "      );\n",
       "      this.keyboard_manager.register_events(toinsert);\n",
       "      // Render to node\n",
       "      var props = {data: data, metadata: metadata[EXEC_MIME_TYPE]};\n",
       "      render(props, toinsert[0]);\n",
       "      element.append(toinsert);\n",
       "      return toinsert\n",
       "    }\n",
       "\n",
       "    /* Handle when an output is cleared or removed */\n",
       "    events.on('clear_output.CodeCell', handleClearOutput);\n",
       "    events.on('delete.Cell', handleClearOutput);\n",
       "\n",
       "    /* Handle when a new output is added */\n",
       "    events.on('output_added.OutputArea', handleAddOutput);\n",
       "\n",
       "    /**\n",
       "     * Register the mime type and append_mime function with output_area\n",
       "     */\n",
       "    OutputArea.prototype.register_mime_type(EXEC_MIME_TYPE, append_mime, {\n",
       "      /* Is output safe? */\n",
       "      safe: true,\n",
       "      /* Index of renderer in `output_area.display_order` */\n",
       "      index: 0\n",
       "    });\n",
       "  }\n",
       "\n",
       "  // register the mime type if in Jupyter Notebook environment and previously unregistered\n",
       "  if (root.Jupyter !== undefined) {\n",
       "    var events = require('base/js/events');\n",
       "    var OutputArea = require('notebook/js/outputarea').OutputArea;\n",
       "\n",
       "    if (OutputArea.prototype.mime_types().indexOf(EXEC_MIME_TYPE) == -1) {\n",
       "      register_renderer(events, OutputArea);\n",
       "    }\n",
       "  }\n",
       "\n",
       "  \n",
       "  if (typeof (root._bokeh_timeout) === \"undefined\" || force === true) {\n",
       "    root._bokeh_timeout = Date.now() + 5000;\n",
       "    root._bokeh_failed_load = false;\n",
       "  }\n",
       "\n",
       "  var NB_LOAD_WARNING = {'data': {'text/html':\n",
       "     \"<div style='background-color: #fdd'>\\n\"+\n",
       "     \"<p>\\n\"+\n",
       "     \"BokehJS does not appear to have successfully loaded. If loading BokehJS from CDN, this \\n\"+\n",
       "     \"may be due to a slow or bad network connection. Possible fixes:\\n\"+\n",
       "     \"</p>\\n\"+\n",
       "     \"<ul>\\n\"+\n",
       "     \"<li>re-rerun `output_notebook()` to attempt to load from CDN again, or</li>\\n\"+\n",
       "     \"<li>use INLINE resources instead, as so:</li>\\n\"+\n",
       "     \"</ul>\\n\"+\n",
       "     \"<code>\\n\"+\n",
       "     \"from bokeh.resources import INLINE\\n\"+\n",
       "     \"output_notebook(resources=INLINE)\\n\"+\n",
       "     \"</code>\\n\"+\n",
       "     \"</div>\"}};\n",
       "\n",
       "  function display_loaded() {\n",
       "    var el = document.getElementById(\"a5ad1410-e85e-42ab-a9c1-50323ad08866\");\n",
       "    if (el != null) {\n",
       "      el.textContent = \"BokehJS is loading...\";\n",
       "    }\n",
       "    if (root.Bokeh !== undefined) {\n",
       "      if (el != null) {\n",
       "        el.textContent = \"BokehJS \" + root.Bokeh.version + \" successfully loaded.\";\n",
       "      }\n",
       "    } else if (Date.now() < root._bokeh_timeout) {\n",
       "      setTimeout(display_loaded, 100)\n",
       "    }\n",
       "  }\n",
       "\n",
       "\n",
       "  function run_callbacks() {\n",
       "    try {\n",
       "      root._bokeh_onload_callbacks.forEach(function(callback) { callback() });\n",
       "    }\n",
       "    finally {\n",
       "      delete root._bokeh_onload_callbacks\n",
       "    }\n",
       "    console.info(\"Bokeh: all callbacks have finished\");\n",
       "  }\n",
       "\n",
       "  function load_libs(js_urls, callback) {\n",
       "    root._bokeh_onload_callbacks.push(callback);\n",
       "    if (root._bokeh_is_loading > 0) {\n",
       "      console.log(\"Bokeh: BokehJS is being loaded, scheduling callback at\", now());\n",
       "      return null;\n",
       "    }\n",
       "    if (js_urls == null || js_urls.length === 0) {\n",
       "      run_callbacks();\n",
       "      return null;\n",
       "    }\n",
       "    console.log(\"Bokeh: BokehJS not loaded, scheduling load and callback at\", now());\n",
       "    root._bokeh_is_loading = js_urls.length;\n",
       "    for (var i = 0; i < js_urls.length; i++) {\n",
       "      var url = js_urls[i];\n",
       "      var s = document.createElement('script');\n",
       "      s.src = url;\n",
       "      s.async = false;\n",
       "      s.onreadystatechange = s.onload = function() {\n",
       "        root._bokeh_is_loading--;\n",
       "        if (root._bokeh_is_loading === 0) {\n",
       "          console.log(\"Bokeh: all BokehJS libraries loaded\");\n",
       "          run_callbacks()\n",
       "        }\n",
       "      };\n",
       "      s.onerror = function() {\n",
       "        console.warn(\"failed to load library \" + url);\n",
       "      };\n",
       "      console.log(\"Bokeh: injecting script tag for BokehJS library: \", url);\n",
       "      document.getElementsByTagName(\"head\")[0].appendChild(s);\n",
       "    }\n",
       "  };var element = document.getElementById(\"a5ad1410-e85e-42ab-a9c1-50323ad08866\");\n",
       "  if (element == null) {\n",
       "    console.log(\"Bokeh: ERROR: autoload.js configured with elementid 'a5ad1410-e85e-42ab-a9c1-50323ad08866' but no matching script tag was found. \")\n",
       "    return false;\n",
       "  }\n",
       "\n",
       "  var js_urls = [\"https://cdn.pydata.org/bokeh/release/bokeh-0.12.10.min.js\", \"https://cdn.pydata.org/bokeh/release/bokeh-widgets-0.12.10.min.js\", \"https://cdn.pydata.org/bokeh/release/bokeh-tables-0.12.10.min.js\", \"https://cdn.pydata.org/bokeh/release/bokeh-gl-0.12.10.min.js\"];\n",
       "\n",
       "  var inline_js = [\n",
       "    function(Bokeh) {\n",
       "      Bokeh.set_log_level(\"info\");\n",
       "    },\n",
       "    \n",
       "    function(Bokeh) {\n",
       "      \n",
       "    },\n",
       "    function(Bokeh) {\n",
       "      console.log(\"Bokeh: injecting CSS: https://cdn.pydata.org/bokeh/release/bokeh-0.12.10.min.css\");\n",
       "      Bokeh.embed.inject_css(\"https://cdn.pydata.org/bokeh/release/bokeh-0.12.10.min.css\");\n",
       "      console.log(\"Bokeh: injecting CSS: https://cdn.pydata.org/bokeh/release/bokeh-widgets-0.12.10.min.css\");\n",
       "      Bokeh.embed.inject_css(\"https://cdn.pydata.org/bokeh/release/bokeh-widgets-0.12.10.min.css\");\n",
       "      console.log(\"Bokeh: injecting CSS: https://cdn.pydata.org/bokeh/release/bokeh-tables-0.12.10.min.css\");\n",
       "      Bokeh.embed.inject_css(\"https://cdn.pydata.org/bokeh/release/bokeh-tables-0.12.10.min.css\");\n",
       "    }\n",
       "  ];\n",
       "\n",
       "  function run_inline_js() {\n",
       "    \n",
       "    if ((root.Bokeh !== undefined) || (force === true)) {\n",
       "      for (var i = 0; i < inline_js.length; i++) {\n",
       "        inline_js[i].call(root, root.Bokeh);\n",
       "      }if (force === true) {\n",
       "        display_loaded();\n",
       "      }} else if (Date.now() < root._bokeh_timeout) {\n",
       "      setTimeout(run_inline_js, 100);\n",
       "    } else if (!root._bokeh_failed_load) {\n",
       "      console.log(\"Bokeh: BokehJS failed to load within specified timeout.\");\n",
       "      root._bokeh_failed_load = true;\n",
       "    } else if (force !== true) {\n",
       "      var cell = $(document.getElementById(\"a5ad1410-e85e-42ab-a9c1-50323ad08866\")).parents('.cell').data().cell;\n",
       "      cell.output_area.append_execute_result(NB_LOAD_WARNING)\n",
       "    }\n",
       "\n",
       "  }\n",
       "\n",
       "  if (root._bokeh_is_loading === 0) {\n",
       "    console.log(\"Bokeh: BokehJS loaded, going straight to plotting\");\n",
       "    run_inline_js();\n",
       "  } else {\n",
       "    load_libs(js_urls, function() {\n",
       "      console.log(\"Bokeh: BokehJS plotting callback run at\", now());\n",
       "      run_inline_js();\n",
       "    });\n",
       "  }\n",
       "}(window));"
      ],
      "application/vnd.bokehjs_load.v0+json": "\n(function(root) {\n  function now() {\n    return new Date();\n  }\n\n  var force = true;\n\n  if (typeof (root._bokeh_onload_callbacks) === \"undefined\" || force === true) {\n    root._bokeh_onload_callbacks = [];\n    root._bokeh_is_loading = undefined;\n  }\n\n  \n\n  \n  if (typeof (root._bokeh_timeout) === \"undefined\" || force === true) {\n    root._bokeh_timeout = Date.now() + 5000;\n    root._bokeh_failed_load = false;\n  }\n\n  var NB_LOAD_WARNING = {'data': {'text/html':\n     \"<div style='background-color: #fdd'>\\n\"+\n     \"<p>\\n\"+\n     \"BokehJS does not appear to have successfully loaded. If loading BokehJS from CDN, this \\n\"+\n     \"may be due to a slow or bad network connection. Possible fixes:\\n\"+\n     \"</p>\\n\"+\n     \"<ul>\\n\"+\n     \"<li>re-rerun `output_notebook()` to attempt to load from CDN again, or</li>\\n\"+\n     \"<li>use INLINE resources instead, as so:</li>\\n\"+\n     \"</ul>\\n\"+\n     \"<code>\\n\"+\n     \"from bokeh.resources import INLINE\\n\"+\n     \"output_notebook(resources=INLINE)\\n\"+\n     \"</code>\\n\"+\n     \"</div>\"}};\n\n  function display_loaded() {\n    var el = document.getElementById(\"a5ad1410-e85e-42ab-a9c1-50323ad08866\");\n    if (el != null) {\n      el.textContent = \"BokehJS is loading...\";\n    }\n    if (root.Bokeh !== undefined) {\n      if (el != null) {\n        el.textContent = \"BokehJS \" + root.Bokeh.version + \" successfully loaded.\";\n      }\n    } else if (Date.now() < root._bokeh_timeout) {\n      setTimeout(display_loaded, 100)\n    }\n  }\n\n\n  function run_callbacks() {\n    try {\n      root._bokeh_onload_callbacks.forEach(function(callback) { callback() });\n    }\n    finally {\n      delete root._bokeh_onload_callbacks\n    }\n    console.info(\"Bokeh: all callbacks have finished\");\n  }\n\n  function load_libs(js_urls, callback) {\n    root._bokeh_onload_callbacks.push(callback);\n    if (root._bokeh_is_loading > 0) {\n      console.log(\"Bokeh: BokehJS is being loaded, scheduling callback at\", now());\n      return null;\n    }\n    if (js_urls == null || js_urls.length === 0) {\n      run_callbacks();\n      return null;\n    }\n    console.log(\"Bokeh: BokehJS not loaded, scheduling load and callback at\", now());\n    root._bokeh_is_loading = js_urls.length;\n    for (var i = 0; i < js_urls.length; i++) {\n      var url = js_urls[i];\n      var s = document.createElement('script');\n      s.src = url;\n      s.async = false;\n      s.onreadystatechange = s.onload = function() {\n        root._bokeh_is_loading--;\n        if (root._bokeh_is_loading === 0) {\n          console.log(\"Bokeh: all BokehJS libraries loaded\");\n          run_callbacks()\n        }\n      };\n      s.onerror = function() {\n        console.warn(\"failed to load library \" + url);\n      };\n      console.log(\"Bokeh: injecting script tag for BokehJS library: \", url);\n      document.getElementsByTagName(\"head\")[0].appendChild(s);\n    }\n  };var element = document.getElementById(\"a5ad1410-e85e-42ab-a9c1-50323ad08866\");\n  if (element == null) {\n    console.log(\"Bokeh: ERROR: autoload.js configured with elementid 'a5ad1410-e85e-42ab-a9c1-50323ad08866' but no matching script tag was found. \")\n    return false;\n  }\n\n  var js_urls = [\"https://cdn.pydata.org/bokeh/release/bokeh-0.12.10.min.js\", \"https://cdn.pydata.org/bokeh/release/bokeh-widgets-0.12.10.min.js\", \"https://cdn.pydata.org/bokeh/release/bokeh-tables-0.12.10.min.js\", \"https://cdn.pydata.org/bokeh/release/bokeh-gl-0.12.10.min.js\"];\n\n  var inline_js = [\n    function(Bokeh) {\n      Bokeh.set_log_level(\"info\");\n    },\n    \n    function(Bokeh) {\n      \n    },\n    function(Bokeh) {\n      console.log(\"Bokeh: injecting CSS: https://cdn.pydata.org/bokeh/release/bokeh-0.12.10.min.css\");\n      Bokeh.embed.inject_css(\"https://cdn.pydata.org/bokeh/release/bokeh-0.12.10.min.css\");\n      console.log(\"Bokeh: injecting CSS: https://cdn.pydata.org/bokeh/release/bokeh-widgets-0.12.10.min.css\");\n      Bokeh.embed.inject_css(\"https://cdn.pydata.org/bokeh/release/bokeh-widgets-0.12.10.min.css\");\n      console.log(\"Bokeh: injecting CSS: https://cdn.pydata.org/bokeh/release/bokeh-tables-0.12.10.min.css\");\n      Bokeh.embed.inject_css(\"https://cdn.pydata.org/bokeh/release/bokeh-tables-0.12.10.min.css\");\n    }\n  ];\n\n  function run_inline_js() {\n    \n    if ((root.Bokeh !== undefined) || (force === true)) {\n      for (var i = 0; i < inline_js.length; i++) {\n        inline_js[i].call(root, root.Bokeh);\n      }if (force === true) {\n        display_loaded();\n      }} else if (Date.now() < root._bokeh_timeout) {\n      setTimeout(run_inline_js, 100);\n    } else if (!root._bokeh_failed_load) {\n      console.log(\"Bokeh: BokehJS failed to load within specified timeout.\");\n      root._bokeh_failed_load = true;\n    } else if (force !== true) {\n      var cell = $(document.getElementById(\"a5ad1410-e85e-42ab-a9c1-50323ad08866\")).parents('.cell').data().cell;\n      cell.output_area.append_execute_result(NB_LOAD_WARNING)\n    }\n\n  }\n\n  if (root._bokeh_is_loading === 0) {\n    console.log(\"Bokeh: BokehJS loaded, going straight to plotting\");\n    run_inline_js();\n  } else {\n    load_libs(js_urls, function() {\n      console.log(\"Bokeh: BokehJS plotting callback run at\", now());\n      run_inline_js();\n    });\n  }\n}(window));"
     },
     "metadata": {},
     "output_type": "display_data"
    }
   ],
   "source": [
    "from bokeh.plotting import output_notebook\n",
    "output_notebook()"
   ]
  },
  {
   "cell_type": "code",
   "execution_count": 2,
   "metadata": {
    "collapsed": true
   },
   "outputs": [],
   "source": [
    "import pandas as pd"
   ]
  },
  {
   "cell_type": "code",
   "execution_count": 3,
   "metadata": {
    "collapsed": true
   },
   "outputs": [],
   "source": [
    "df = pd.read_csv('data/lnkd.csv', parse_dates=['Date'])"
   ]
  },
  {
   "cell_type": "code",
   "execution_count": 6,
   "metadata": {},
   "outputs": [],
   "source": [
    "from bokeh.plotting import figure, show"
   ]
  },
  {
   "cell_type": "code",
   "execution_count": 7,
   "metadata": {},
   "outputs": [
    {
     "data": {
      "text/html": [
       "\n",
       "<div class=\"bk-root\">\n",
       "    <div class=\"bk-plotdiv\" id=\"3d86344e-9bfb-4301-a7d0-a5352852aedb\"></div>\n",
       "</div>"
      ]
     },
     "metadata": {},
     "output_type": "display_data"
    },
    {
     "data": {
      "application/javascript": [
       "(function(root) {\n",
       "  function embed_document(root) {\n",
       "    var docs_json = {\"0f0ee8ee-8738-4809-9964-b91d2779dc9e\":{\"roots\":{\"references\":[{\"attributes\":{},\"id\":\"3fb7ad98-0eb7-4d0a-891e-5ffd34af0295\",\"type\":\"YearsTicker\"},{\"attributes\":{\"bottom_units\":\"screen\",\"fill_alpha\":{\"value\":0.5},\"fill_color\":{\"value\":\"lightgrey\"},\"left_units\":\"screen\",\"level\":\"overlay\",\"line_alpha\":{\"value\":1.0},\"line_color\":{\"value\":\"black\"},\"line_dash\":[4,4],\"line_width\":{\"value\":2},\"plot\":null,\"render_mode\":\"css\",\"right_units\":\"screen\",\"top_units\":\"screen\"},\"id\":\"03265bb7-10b1-465e-ae27-d868c285885c\",\"type\":\"BoxAnnotation\"},{\"attributes\":{\"months\":[0,6]},\"id\":\"04c67325-c749-4023-8914-ffbc84203a30\",\"type\":\"MonthsTicker\"},{\"attributes\":{\"months\":[0,4,8]},\"id\":\"36efca52-8e0e-45d0-987a-11621e144bd8\",\"type\":\"MonthsTicker\"},{\"attributes\":{\"months\":[0,2,4,6,8,10]},\"id\":\"73a6f63f-2dcf-4384-ba34-28475b640d68\",\"type\":\"MonthsTicker\"},{\"attributes\":{\"days\":[1,8,15,22]},\"id\":\"a474e38c-ce46-4b2e-a5fb-f188aca8808f\",\"type\":\"DaysTicker\"},{\"attributes\":{\"base\":24,\"mantissas\":[1,2,4,6,8,12],\"max_interval\":43200000.0,\"min_interval\":3600000.0,\"num_minor_ticks\":0},\"id\":\"96ca4f36-9651-4ef5-a527-13922b185cc5\",\"type\":\"AdaptiveTicker\"},{\"attributes\":{\"callback\":null,\"column_names\":[\"x\",\"y\"],\"data\":{\"x\":{\"__ndarray__\":\"AACARmmNdUIAAMDgFo11QgAAAHvEjHVCAADASc2LdUIAAADkeot1QgAAQH4oi3VCAACAGNaKdUIAAMCyg4p1QgAAgIGMiXVCAAAAtueIdUIAAEBQlYh1QgAAgOpCiHVCAABAuUuHdUIAAIBT+YZ1QgAAwO2mhnVCAAAAiFSGdUIAAEAiAoZ1QgAAAPEKhXVCAABAi7iEdUIAAIAlZoR1QgAAwL8ThHVCAAAAWsGDdUIAAMAoyoJ1QgAAAMN3gnVCAABAXSWCdUIAAID30oF1QgAAwJGAgXVCAACAYImAdUIAAMD6NoB1QgAAAJXkf3VCAABAL5J/dUIAAIDJP391QgAAQJhIfnVCAACAMvZ9dUIAAMDMo311QgAAAGdRfXVCAABAAf98dUIAAADQB3x1QgAAQGq1e3VCAACABGN7dUIAAMCeEHt1QgAAADm+enVCAADAB8d5dUIAAACidHl1QgAAQDwieXVCAACA1s94dUIAAMBwfXh1QgAAgD+Gd3VCAADA2TN3dUIAAAB04XZ1QgAAQA6PdnVCAACAqDx2dUIAAEB3RXV1QgAAgBHzdHVCAADAq6B0dUIAAABGTnR1QgAAQOD7c3VCAAAArwRzdUIAAEBJsnJ1QgAAgONfcnVCAADAfQ1ydUIAAAAYu3F1QgAAwObDcHVCAAAAgXFwdUIAAEAbH3B1QgAAgLXMb3VCAACAHoNudUIAAMC4MG51QgAAAFPebXVCAABA7YttdUIAAICHOW11QgAAQFZCbHVCAACA8O9rdUIAAMCKnWt1QgAAACVLa3VCAABAv/hqdUIAAACOAWp1QgAAQCivaXVCAACAwlxpdUIAAMBcCml1QgAAAPe3aHVCAADAxcBndUIAAABgbmd1QgAAQPobZ3VCAACAlMlmdUIAAMAud2Z1QgAAgP1/ZXVCAADAly1ldUIAAAAy22R1QgAAQMyIZHVCAACAZjZkdUIAAEA1P2N1QgAAgM/sYnVCAADAaZpidUIAAAAESGJ1QgAAQJ71YXVCAAAAbf5gdUIAAEAHrGB1QgAAgKFZYHVCAADAOwdgdUIAAADWtF91QgAAwKS9XnVCAAAAP2tedUIAAEDZGF51QgAAgHPGXXVCAADADXRddUIAAIDcfFx1QgAAwHYqXHVCAAAAEdhbdUIAAECrhVt1QgAAQBQ8WnVCAACArulZdUIAAMBIl1l1QgAAAONEWXVCAABAffJYdUIAAABM+1d1QgAAQOaoV3VCAACAgFZXdUIAAMAaBFd1QgAAALWxVnVCAADAg7pVdUIAAAAeaFV1QgAAQLgVVXVCAACAUsNUdUIAAMDscFR1QgAAgLt5U3VCAADAVSdTdUIAAADw1FJ1QgAAQIqCUnVCAACAJDBSdUIAAEDzOFF1QgAAgI3mUHVCAADAJ5RQdUIAAADCQVB1QgAAACv4TnVCAABAxaVOdUIAAIBfU051QgAAwPkATnVCAAAAlK5NdUIAAMBit0x1QgAAAP1kTHVCAABAlxJMdUIAAIAxwEt1QgAAwMttS3VCAACAmnZKdUIAAMA0JEp1QgAAAM/RSXVCAABAaX9JdUIAAIADLUl1QgAAQNI1SHVCAACAbONHdUIAAMAGkUd1QgAAAKE+R3VCAABAO+xGdUIAAAAK9UV1QgAAQKSiRXVCAACAPlBFdUIAAMDY/UR1QgAAAHOrRHVCAADAQbRDdUIAAADcYUN1QgAAQHYPQ3VCAACAEL1CdUIAAMCqakJ1QgAAgHlzQXVCAADAEyFBdUIAAACuzkB1QgAAQEh8QHVCAACA4ilAdUIAAECxMj91QgAAgEvgPnVCAADA5Y0+dUIAAACAOz51QgAAQBrpPXVCAAAA6fE8dUIAAECDnzx1QgAAgB1NPHVCAADAt/o7dUI=\",\"dtype\":\"float64\",\"shape\":[178]},\"y\":{\"__ndarray__\":\"H4XrUbh+aECuR+F6FH5oQAAAAAAAaGhAZmZmZmZmaEBSuB6F62loQEjhehSuZ2hAKVyPwvVgaECkcD0K12NoQM3MzMzMZGhAPQrXo3BdaEDXo3A9CjdoQOF6FK5HMWhAFK5H4Xo0aEAzMzMzMytoQNejcD0KL2hAmpmZmZnhZ0ApXI/C9dBnQK5H4XoU7mdAAAAAAADgZ0C4HoXrUeBnQArXo3A96mdApHA9CtfDZ0AzMzMzM3NnQI/C9Shch2dAAAAAAACQZ0CPwvUoXJ9nQDMzMzMzs2dAAAAAAACwZ0Bcj8L1KJRnQOF6FK5HqWdAmpmZmZmpZ0AzMzMzM7tnQKRwPQrXw2dAzczMzMzMZ0DNzMzMzMxnQFyPwvUozGdAZmZmZmbOZ0BI4XoUrtdnQFK4HoXr0WdA16NwPQrPZ0B7FK5H4cpnQB+F61G41mdA9ihcj8LlZ0AAAAAAAPhnQB+F61G4BmhAj8L1KFwHaEBmZmZmZv5nQKRwPQrX42dApHA9CtfbZ0DhehSuRwloQGZmZmZmBmhA4XoUrkchaEDhehSuRxloQI/C9ShcD2hAzczMzMwMaEAAAAAAABBoQGZmZmZmBmhAzczMzMwMaEB7FK5H4RJoQBSuR+F6HGhAhetRuB4VaECamZmZmRloQEjhehSuF2hAMzMzMzMbaEBSuB6F6xloQOF6FK5HGWhAmpmZmZkZaECPwvUoXBdoQAAAAAAAGGhAmpmZmZkJaEApXI/C9QhoQAAAAAAAEGhAzczMzMz8Z0DNzMzMzPxnQArXo3A9+mdAcT0K16P4Z0AAAAAAAPBnQOxRuB6F62dAzczMzMzsZ0AAAAAAAOBnQFK4HoXr4WdA7FG4HoXzZ0CamZmZmflnQAAAAAAAAGhAzczMzMz8Z0C4HoXrUfhnQM3MzMzMBGhAuB6F61EAaEC4HoXrUQhoQHE9CtejEGhAexSuR+EiaECPwvUoXBdoQHE9CtejKGhAmpmZmZkJaECamZmZmRFoQK5H4XoU/mdAZmZmZma+Z0AK16NwPbJnQJqZmZmZsWdA7FG4HoW7Z0AzMzMzM7NnQArXo3A9smdAUrgeheupZ0DsUbgehbtnQJqZmZmZyWdAcT0K16PIZ0CuR+F6FM5nQGZmZmZmxmdAZmZmZmbOZ0C4HoXrUcBnQAAAAAAAsGdAAAAAAACoZ0B7FK5H4bJnQAAAAAAAsGdArkfhehSuZ0DsUbgehcNnQGZmZmZmzmdACtejcD3KZ0DhehSuR9lnQFK4HoXr2WdAmpmZmZnZZ0DD9Shcj+pnQOF6FK5H6WdAXI/C9Sj0Z0AfhetRuAZoQMP1KFyPYmBAcT0K16MQYUAzMzMzM7tgQGZmZmZmtmBAZmZmZmb2YEAK16NwPeJgQAAAAAAAEGFAKVyPwvUgYUAAAAAAABBhQOxRuB6Fa2BAAAAAAAAoYECkcD0K1ztgQMP1KFyPEmBAmpmZmZlJX0CkcD0K12NfQI/C9ShcT19AFK5H4XoMYEA9CtejcB1gQNejcD0KH2BAw/UoXI/CX0CamZmZmblfQHE9CtejGGBA9ihcj8IdYEBmZmZmZmZeQBSuR+F6dF5A16NwPQrHXkDD9ShcjyJfQArXo3A9Ol9AMzMzMzMbYECkcD0K11NfQHE9CtejwF5AZmZmZma2XUBSuB6F66FeQB+F61G4Hl5AzczMzMzcXUA9CtejcB1eQBSuR+F6VF1AexSuR+HaXEAAAAAAAIBdQNejcD0KJ11AzczMzMxsXUAfhetRuE5cQFyPwvUobFtAMzMzMzNTW0Bcj8L1KBxbQOxRuB6FG1xAAAAAAACwXEDsUbgehWtcQKRwPQrX01xAuB6F61HoXEBmZmZmZpZcQIXrUbgedVxAUrgeheuBW0A=\",\"dtype\":\"float64\",\"shape\":[178]}}},\"id\":\"88b4533e-d7b6-4ae5-a997-5ee74ffe7c87\",\"type\":\"ColumnDataSource\"},{\"attributes\":{\"days\":[1,2,3,4,5,6,7,8,9,10,11,12,13,14,15,16,17,18,19,20,21,22,23,24,25,26,27,28,29,30,31]},\"id\":\"89900a55-a879-47cb-b7fe-53f908a7d25d\",\"type\":\"DaysTicker\"},{\"attributes\":{\"days\":[1,4,7,10,13,16,19,22,25,28]},\"id\":\"c3a99c39-eb81-4e0e-862b-fbaf2820b535\",\"type\":\"DaysTicker\"},{\"attributes\":{},\"id\":\"08411e48-6bc9-4a29-a399-9529e5765c92\",\"type\":\"DatetimeTickFormatter\"},{\"attributes\":{\"plot\":null,\"text\":\"\"},\"id\":\"eb44633c-5f0b-493c-a594-9423b7b91f59\",\"type\":\"Title\"},{\"attributes\":{\"base\":60,\"mantissas\":[1,2,5,10,15,20,30],\"max_interval\":1800000.0,\"min_interval\":1000.0,\"num_minor_ticks\":0},\"id\":\"5a0eeb15-0dfc-4979-b8e2-ac6a05f84484\",\"type\":\"AdaptiveTicker\"},{\"attributes\":{},\"id\":\"426c5795-7682-49dd-9d95-38ab88f8bab6\",\"type\":\"HelpTool\"},{\"attributes\":{\"dimension\":1,\"plot\":{\"id\":\"db25ce10-4166-41d5-a76c-2285cacd0d70\",\"subtype\":\"Figure\",\"type\":\"Plot\"},\"ticker\":{\"id\":\"bc8e4937-f95d-4a48-a9f7-e6490d81db34\",\"type\":\"BasicTicker\"}},\"id\":\"afcfc8b7-012e-4992-b33e-69f8d4110fe2\",\"type\":\"Grid\"},{\"attributes\":{\"months\":[0,1,2,3,4,5,6,7,8,9,10,11]},\"id\":\"971bbc1c-4f9c-4b24-b79a-aa2e7380b46a\",\"type\":\"MonthsTicker\"},{\"attributes\":{},\"id\":\"0b820b0d-6af6-45df-9bbc-20133763de33\",\"type\":\"SaveTool\"},{\"attributes\":{\"days\":[1,15]},\"id\":\"1f501c9a-3e9b-474c-b5e7-4db914fdb0f4\",\"type\":\"DaysTicker\"},{\"attributes\":{\"callback\":null},\"id\":\"cbbed559-b7f5-40b6-acbe-c82725076d85\",\"type\":\"DataRange1d\"},{\"attributes\":{\"overlay\":{\"id\":\"03265bb7-10b1-465e-ae27-d868c285885c\",\"type\":\"BoxAnnotation\"}},\"id\":\"6f505a43-5522-4768-8aca-8c87e28de2eb\",\"type\":\"BoxZoomTool\"},{\"attributes\":{},\"id\":\"85554d7c-8232-4570-8c9f-ef78eede43a0\",\"type\":\"BasicTickFormatter\"},{\"attributes\":{},\"id\":\"3304453e-622d-4034-b4e1-e9bf712d76c3\",\"type\":\"LinearScale\"},{\"attributes\":{\"active_drag\":\"auto\",\"active_inspect\":\"auto\",\"active_scroll\":\"auto\",\"active_tap\":\"auto\",\"tools\":[{\"id\":\"672f9812-5c5c-4f69-b1d1-10a98afb38cf\",\"type\":\"PanTool\"},{\"id\":\"55ee4b1f-3e44-4693-bd8d-d81ca56c78e2\",\"type\":\"WheelZoomTool\"},{\"id\":\"6f505a43-5522-4768-8aca-8c87e28de2eb\",\"type\":\"BoxZoomTool\"},{\"id\":\"0b820b0d-6af6-45df-9bbc-20133763de33\",\"type\":\"SaveTool\"},{\"id\":\"00be0b3f-938e-4321-8082-eb6b622c3633\",\"type\":\"ResetTool\"},{\"id\":\"426c5795-7682-49dd-9d95-38ab88f8bab6\",\"type\":\"HelpTool\"}]},\"id\":\"7e62af6f-bf48-4364-8efd-189eac8448fb\",\"type\":\"Toolbar\"},{\"attributes\":{},\"id\":\"c2beb33f-bbf0-4b38-a785-a4d95fe20b18\",\"type\":\"LinearScale\"},{\"attributes\":{\"line_color\":{\"value\":\"#1f77b4\"},\"x\":{\"field\":\"x\"},\"y\":{\"field\":\"y\"}},\"id\":\"2d4d9028-066c-4e68-8cae-49f2dac72747\",\"type\":\"Line\"},{\"attributes\":{\"below\":[{\"id\":\"b305c6bc-344e-48bd-b6cd-1dea9cbc20ea\",\"type\":\"DatetimeAxis\"}],\"left\":[{\"id\":\"b37f2380-b3f9-401b-b7da-1fc091700f9c\",\"type\":\"LinearAxis\"}],\"renderers\":[{\"id\":\"b305c6bc-344e-48bd-b6cd-1dea9cbc20ea\",\"type\":\"DatetimeAxis\"},{\"id\":\"e520cdaa-5218-47c4-9864-cef6b5ac5f5d\",\"type\":\"Grid\"},{\"id\":\"b37f2380-b3f9-401b-b7da-1fc091700f9c\",\"type\":\"LinearAxis\"},{\"id\":\"afcfc8b7-012e-4992-b33e-69f8d4110fe2\",\"type\":\"Grid\"},{\"id\":\"03265bb7-10b1-465e-ae27-d868c285885c\",\"type\":\"BoxAnnotation\"},{\"id\":\"e2d94643-a9ee-4191-9fa2-fcd2293a1198\",\"type\":\"GlyphRenderer\"}],\"title\":{\"id\":\"eb44633c-5f0b-493c-a594-9423b7b91f59\",\"type\":\"Title\"},\"toolbar\":{\"id\":\"7e62af6f-bf48-4364-8efd-189eac8448fb\",\"type\":\"Toolbar\"},\"x_range\":{\"id\":\"dd0f3fc8-587a-49fb-b5ce-e948994282e2\",\"type\":\"DataRange1d\"},\"x_scale\":{\"id\":\"3304453e-622d-4034-b4e1-e9bf712d76c3\",\"type\":\"LinearScale\"},\"y_range\":{\"id\":\"cbbed559-b7f5-40b6-acbe-c82725076d85\",\"type\":\"DataRange1d\"},\"y_scale\":{\"id\":\"c2beb33f-bbf0-4b38-a785-a4d95fe20b18\",\"type\":\"LinearScale\"}},\"id\":\"db25ce10-4166-41d5-a76c-2285cacd0d70\",\"subtype\":\"Figure\",\"type\":\"Plot\"},{\"attributes\":{\"formatter\":{\"id\":\"08411e48-6bc9-4a29-a399-9529e5765c92\",\"type\":\"DatetimeTickFormatter\"},\"plot\":{\"id\":\"db25ce10-4166-41d5-a76c-2285cacd0d70\",\"subtype\":\"Figure\",\"type\":\"Plot\"},\"ticker\":{\"id\":\"c9c204fc-085f-429b-91e5-001d9c307a1f\",\"type\":\"DatetimeTicker\"}},\"id\":\"b305c6bc-344e-48bd-b6cd-1dea9cbc20ea\",\"type\":\"DatetimeAxis\"},{\"attributes\":{},\"id\":\"55ee4b1f-3e44-4693-bd8d-d81ca56c78e2\",\"type\":\"WheelZoomTool\"},{\"attributes\":{\"num_minor_ticks\":5,\"tickers\":[{\"id\":\"83a3c17d-30e2-4206-9e6d-8a9d52bf14e5\",\"type\":\"AdaptiveTicker\"},{\"id\":\"5a0eeb15-0dfc-4979-b8e2-ac6a05f84484\",\"type\":\"AdaptiveTicker\"},{\"id\":\"96ca4f36-9651-4ef5-a527-13922b185cc5\",\"type\":\"AdaptiveTicker\"},{\"id\":\"89900a55-a879-47cb-b7fe-53f908a7d25d\",\"type\":\"DaysTicker\"},{\"id\":\"c3a99c39-eb81-4e0e-862b-fbaf2820b535\",\"type\":\"DaysTicker\"},{\"id\":\"a474e38c-ce46-4b2e-a5fb-f188aca8808f\",\"type\":\"DaysTicker\"},{\"id\":\"1f501c9a-3e9b-474c-b5e7-4db914fdb0f4\",\"type\":\"DaysTicker\"},{\"id\":\"971bbc1c-4f9c-4b24-b79a-aa2e7380b46a\",\"type\":\"MonthsTicker\"},{\"id\":\"73a6f63f-2dcf-4384-ba34-28475b640d68\",\"type\":\"MonthsTicker\"},{\"id\":\"36efca52-8e0e-45d0-987a-11621e144bd8\",\"type\":\"MonthsTicker\"},{\"id\":\"04c67325-c749-4023-8914-ffbc84203a30\",\"type\":\"MonthsTicker\"},{\"id\":\"3fb7ad98-0eb7-4d0a-891e-5ffd34af0295\",\"type\":\"YearsTicker\"}]},\"id\":\"c9c204fc-085f-429b-91e5-001d9c307a1f\",\"type\":\"DatetimeTicker\"},{\"attributes\":{\"callback\":null},\"id\":\"dd0f3fc8-587a-49fb-b5ce-e948994282e2\",\"type\":\"DataRange1d\"},{\"attributes\":{},\"id\":\"bc8e4937-f95d-4a48-a9f7-e6490d81db34\",\"type\":\"BasicTicker\"},{\"attributes\":{\"formatter\":{\"id\":\"85554d7c-8232-4570-8c9f-ef78eede43a0\",\"type\":\"BasicTickFormatter\"},\"plot\":{\"id\":\"db25ce10-4166-41d5-a76c-2285cacd0d70\",\"subtype\":\"Figure\",\"type\":\"Plot\"},\"ticker\":{\"id\":\"bc8e4937-f95d-4a48-a9f7-e6490d81db34\",\"type\":\"BasicTicker\"}},\"id\":\"b37f2380-b3f9-401b-b7da-1fc091700f9c\",\"type\":\"LinearAxis\"},{\"attributes\":{},\"id\":\"672f9812-5c5c-4f69-b1d1-10a98afb38cf\",\"type\":\"PanTool\"},{\"attributes\":{\"line_alpha\":{\"value\":0.1},\"line_color\":{\"value\":\"#1f77b4\"},\"x\":{\"field\":\"x\"},\"y\":{\"field\":\"y\"}},\"id\":\"bc678c4f-4032-4ecf-a14c-b763fb88dbb9\",\"type\":\"Line\"},{\"attributes\":{\"plot\":{\"id\":\"db25ce10-4166-41d5-a76c-2285cacd0d70\",\"subtype\":\"Figure\",\"type\":\"Plot\"},\"ticker\":{\"id\":\"c9c204fc-085f-429b-91e5-001d9c307a1f\",\"type\":\"DatetimeTicker\"}},\"id\":\"e520cdaa-5218-47c4-9864-cef6b5ac5f5d\",\"type\":\"Grid\"},{\"attributes\":{\"mantissas\":[1,2,5],\"max_interval\":500.0,\"num_minor_ticks\":0},\"id\":\"83a3c17d-30e2-4206-9e6d-8a9d52bf14e5\",\"type\":\"AdaptiveTicker\"},{\"attributes\":{\"data_source\":{\"id\":\"88b4533e-d7b6-4ae5-a997-5ee74ffe7c87\",\"type\":\"ColumnDataSource\"},\"glyph\":{\"id\":\"2d4d9028-066c-4e68-8cae-49f2dac72747\",\"type\":\"Line\"},\"hover_glyph\":null,\"muted_glyph\":null,\"nonselection_glyph\":{\"id\":\"bc678c4f-4032-4ecf-a14c-b763fb88dbb9\",\"type\":\"Line\"},\"selection_glyph\":null,\"view\":{\"id\":\"2fe8b482-b445-4ad0-a73a-fc86436c6673\",\"type\":\"CDSView\"}},\"id\":\"e2d94643-a9ee-4191-9fa2-fcd2293a1198\",\"type\":\"GlyphRenderer\"},{\"attributes\":{},\"id\":\"00be0b3f-938e-4321-8082-eb6b622c3633\",\"type\":\"ResetTool\"},{\"attributes\":{\"source\":{\"id\":\"88b4533e-d7b6-4ae5-a997-5ee74ffe7c87\",\"type\":\"ColumnDataSource\"}},\"id\":\"2fe8b482-b445-4ad0-a73a-fc86436c6673\",\"type\":\"CDSView\"}],\"root_ids\":[\"db25ce10-4166-41d5-a76c-2285cacd0d70\"]},\"title\":\"Bokeh Application\",\"version\":\"0.12.10\"}};\n",
       "    var render_items = [{\"docid\":\"0f0ee8ee-8738-4809-9964-b91d2779dc9e\",\"elementid\":\"3d86344e-9bfb-4301-a7d0-a5352852aedb\",\"modelid\":\"db25ce10-4166-41d5-a76c-2285cacd0d70\"}];\n",
       "\n",
       "    root.Bokeh.embed.embed_items(docs_json, render_items);\n",
       "  }\n",
       "\n",
       "  if (root.Bokeh !== undefined) {\n",
       "    embed_document(root);\n",
       "  } else {\n",
       "    var attempts = 0;\n",
       "    var timer = setInterval(function(root) {\n",
       "      if (root.Bokeh !== undefined) {\n",
       "        embed_document(root);\n",
       "        clearInterval(timer);\n",
       "      }\n",
       "      attempts++;\n",
       "      if (attempts > 100) {\n",
       "        console.log(\"Bokeh: ERROR: Unable to embed document because BokehJS library is missing\")\n",
       "        clearInterval(timer);\n",
       "      }\n",
       "    }, 10, root)\n",
       "  }\n",
       "})(window);"
      ],
      "application/vnd.bokehjs_exec.v0+json": ""
     },
     "metadata": {
      "application/vnd.bokehjs_exec.v0+json": {
       "id": "db25ce10-4166-41d5-a76c-2285cacd0d70"
      }
     },
     "output_type": "display_data"
    }
   ],
   "source": [
    "fig = figure(x_axis_type='datetime')\n",
    "fig.line(df['Date'], df['Close'])\n",
    "show(fig)"
   ]
  },
  {
   "cell_type": "code",
   "execution_count": 9,
   "metadata": {},
   "outputs": [],
   "source": [
    "from bokeh.layouts import gridplot"
   ]
  },
  {
   "cell_type": "code",
   "execution_count": 10,
   "metadata": {
    "collapsed": true
   },
   "outputs": [],
   "source": [
    "import numpy as np"
   ]
  },
  {
   "cell_type": "code",
   "execution_count": 12,
   "metadata": {},
   "outputs": [
    {
     "data": {
      "text/html": [
       "\n",
       "<div class=\"bk-root\">\n",
       "    <div class=\"bk-plotdiv\" id=\"caf9e08c-d31f-4f0e-bd8a-b231c6ee5708\"></div>\n",
       "</div>"
      ]
     },
     "metadata": {},
     "output_type": "display_data"
    },
    {
     "data": {
      "application/javascript": [
       "(function(root) {\n",
       "  function embed_document(root) {\n",
       "    var docs_json = {\"577cbf5e-7702-476d-9b61-809fe3a00a97\":{\"roots\":{\"references\":[{\"attributes\":{\"plot\":null,\"text\":\"sinc(x)\"},\"id\":\"e1d87b45-3a95-4e61-9851-ab3e5e859efc\",\"type\":\"Title\"},{\"attributes\":{\"active_drag\":\"auto\",\"active_inspect\":\"auto\",\"active_scroll\":\"auto\",\"active_tap\":\"auto\",\"tools\":[{\"id\":\"9b095373-3cbf-4005-845a-149ddfa925e6\",\"type\":\"PanTool\"},{\"id\":\"eb1f6454-a185-424f-8d87-d5d189d7e915\",\"type\":\"WheelZoomTool\"},{\"id\":\"0992498d-ec98-4fca-9d26-64c3ac5895ad\",\"type\":\"BoxZoomTool\"},{\"id\":\"3fa2c12c-be6d-453c-8803-24c1c93a804b\",\"type\":\"SaveTool\"},{\"id\":\"556bc429-3f90-4c35-82ce-626170974e89\",\"type\":\"ResetTool\"},{\"id\":\"388a6cfb-6ebe-43ea-b8a1-dbce26e62384\",\"type\":\"HelpTool\"}]},\"id\":\"97ab42df-193d-4cee-9647-59aa812f6787\",\"type\":\"Toolbar\"},{\"attributes\":{},\"id\":\"b628b471-82ec-4599-a31a-b94da8b965c6\",\"type\":\"LinearScale\"},{\"attributes\":{\"sizing_mode\":\"scale_width\",\"toolbar_location\":\"above\",\"tools\":[{\"id\":\"b3ecdadd-9a1b-434d-bb79-f4484016bffb\",\"type\":\"PanTool\"},{\"id\":\"0e538f4b-86f6-4e8a-9b46-f7bf289fca4b\",\"type\":\"WheelZoomTool\"},{\"id\":\"b1a5d728-baa4-4e80-94d6-988b32aeaa8b\",\"type\":\"BoxZoomTool\"},{\"id\":\"c3209a12-0b24-4963-9297-278dddeea2a2\",\"type\":\"SaveTool\"},{\"id\":\"fd5b33f7-f149-4687-97ae-d714d006ce63\",\"type\":\"ResetTool\"},{\"id\":\"cee5ae7e-b7a7-4f2e-aaa3-9e615c2ad8ab\",\"type\":\"HelpTool\"},{\"id\":\"9b095373-3cbf-4005-845a-149ddfa925e6\",\"type\":\"PanTool\"},{\"id\":\"eb1f6454-a185-424f-8d87-d5d189d7e915\",\"type\":\"WheelZoomTool\"},{\"id\":\"0992498d-ec98-4fca-9d26-64c3ac5895ad\",\"type\":\"BoxZoomTool\"},{\"id\":\"3fa2c12c-be6d-453c-8803-24c1c93a804b\",\"type\":\"SaveTool\"},{\"id\":\"556bc429-3f90-4c35-82ce-626170974e89\",\"type\":\"ResetTool\"},{\"id\":\"388a6cfb-6ebe-43ea-b8a1-dbce26e62384\",\"type\":\"HelpTool\"}]},\"id\":\"94a0d003-adc4-461e-b2b0-1bf0643d76f3\",\"type\":\"ToolbarBox\"},{\"attributes\":{},\"id\":\"c7dcb055-25e8-4e9a-9f2b-1bd86c388282\",\"type\":\"BasicTicker\"},{\"attributes\":{\"below\":[{\"id\":\"1f549c10-a9ef-42d7-b3f9-e320a0cf381c\",\"type\":\"LinearAxis\"}],\"left\":[{\"id\":\"dc2874da-5e69-4e56-8f69-28cd1bd998e3\",\"type\":\"LinearAxis\"}],\"plot_height\":300,\"plot_width\":300,\"renderers\":[{\"id\":\"1f549c10-a9ef-42d7-b3f9-e320a0cf381c\",\"type\":\"LinearAxis\"},{\"id\":\"e4b83439-a3f2-4411-b23d-51e8898536a4\",\"type\":\"Grid\"},{\"id\":\"dc2874da-5e69-4e56-8f69-28cd1bd998e3\",\"type\":\"LinearAxis\"},{\"id\":\"2815a957-7072-4b76-b6c5-671fba72d13e\",\"type\":\"Grid\"},{\"id\":\"052c2c70-877a-4395-a04e-2f96b580890d\",\"type\":\"BoxAnnotation\"},{\"id\":\"c2d5b6c6-b934-4c27-be48-c11bfabfb97d\",\"type\":\"GlyphRenderer\"}],\"title\":{\"id\":\"e1d87b45-3a95-4e61-9851-ab3e5e859efc\",\"type\":\"Title\"},\"toolbar\":{\"id\":\"97ab42df-193d-4cee-9647-59aa812f6787\",\"type\":\"Toolbar\"},\"toolbar_location\":null,\"x_range\":{\"id\":\"4ac011fe-1340-4392-a92d-60976d2fa038\",\"type\":\"DataRange1d\"},\"x_scale\":{\"id\":\"1d270926-b158-4359-a78e-f2298dbf1c40\",\"type\":\"LinearScale\"},\"y_range\":{\"id\":\"4663c3f1-318b-4e87-83ca-9ad82aaac1f2\",\"type\":\"DataRange1d\"},\"y_scale\":{\"id\":\"b628b471-82ec-4599-a31a-b94da8b965c6\",\"type\":\"LinearScale\"}},\"id\":\"2e29d983-f281-4dff-a570-873cf21ec0b3\",\"subtype\":\"Figure\",\"type\":\"Plot\"},{\"attributes\":{\"dimension\":1,\"plot\":{\"id\":\"e7a8feed-e0dd-4e4f-9588-a1b4e63c92c7\",\"subtype\":\"Figure\",\"type\":\"Plot\"},\"ticker\":{\"id\":\"e37e0476-8bd9-49c7-b424-29e189f2bb2a\",\"type\":\"BasicTicker\"}},\"id\":\"977cdbd7-ab67-4f21-b72a-0d2370fbc271\",\"type\":\"Grid\"},{\"attributes\":{\"plot\":{\"id\":\"2e29d983-f281-4dff-a570-873cf21ec0b3\",\"subtype\":\"Figure\",\"type\":\"Plot\"},\"ticker\":{\"id\":\"c7dcb055-25e8-4e9a-9f2b-1bd86c388282\",\"type\":\"BasicTicker\"}},\"id\":\"e4b83439-a3f2-4411-b23d-51e8898536a4\",\"type\":\"Grid\"},{\"attributes\":{\"line_color\":{\"value\":\"#1f77b4\"},\"x\":{\"field\":\"x\"},\"y\":{\"field\":\"y\"}},\"id\":\"a434bd74-84a0-4fd5-9144-80dc115b6d88\",\"type\":\"Line\"},{\"attributes\":{\"bottom_units\":\"screen\",\"fill_alpha\":{\"value\":0.5},\"fill_color\":{\"value\":\"lightgrey\"},\"left_units\":\"screen\",\"level\":\"overlay\",\"line_alpha\":{\"value\":1.0},\"line_color\":{\"value\":\"black\"},\"line_dash\":[4,4],\"line_width\":{\"value\":2},\"plot\":null,\"render_mode\":\"css\",\"right_units\":\"screen\",\"top_units\":\"screen\"},\"id\":\"ee01333d-ea06-4770-a47a-6ad5163a1144\",\"type\":\"BoxAnnotation\"},{\"attributes\":{\"callback\":null,\"column_names\":[\"x\",\"y\"],\"data\":{\"x\":{\"__ndarray__\":\"AAAAAAAAFMBDYt7OkJgTwIbEvJ0hMRPAyiabbLLJEsANiXk7Q2ISwFDrVwrU+hHAk0022WSTEcDXrxSo9SsRwBoS83aGxBDAXXTRRRddEMBArV8pUOsPwMdxHMdxHA/ATjbZZJNNDsDU+pUCtX4NwFq/UqDWrwzA4YMPPvjgC8BoSMzbGRILwO4MiXk7QwrAdNFFF110CcD7lQK1fqUIwIFav1Kg1gfACB988MEHB8CO4ziO4zgGwBWo9SsFagXAm2yyySabBMAiMW9nSMwDwKj1KwVq/QLAL7rooosuAsC1fqVArV8BwDxDYt7OkADAhA8++OCD/7+SmLczJOb9v54hMW9nSPy/qqqqqqqq+r+4MyTm7Qz5v8S8nSExb/e/0kUXXXTR9b/ezpCYtzP0v+xXCtT6lfK/+OCDDz748L8I1PqVArXuvyjm7QyJeeu/QPjggw8+6L9YCtT6lQLlv3Acx3Ecx+G/IF100UUX3b9QgVq/UqDWv4ClQK1fKdC/YJNNNtlkw78Ab2dIzNupvwBvZ0jM26k/YJNNNtlkwz+ApUCtXynQP1CBWr9SoNY/EF100UUX3T9wHMdxHMfhP1gK1PqVAuU/QPjggw8+6D8g5u0MiXnrPwjU+pUCte4/+OCDDz748D/sVwrU+pXyP9zOkJi3M/Q/0EUXXXTR9T/EvJ0hMW/3P7gzJObtDPk/rKqqqqqq+j+cITFvZ0j8P5CYtzMk5v0/hA8++OCD/z88Q2LezpAAQLR+pUCtXwFALrrooosuAkCo9SsFav0CQCIxb2dIzANAmmyyySabBEAUqPUrBWoFQI7jOI7jOAZACB988MEHB0CAWr9SoNYHQPyVArV+pQhAdNFFF110CUDsDIl5O0MKQGhIzNsZEgtA4IMPPvjgC0Bcv1Kg1q8MQNT6lQK1fg1ATDbZZJNNDkDIcRzHcRwPQECtXylQ6w9AXHTRRRddEEAaEvN2hsQQQNavFKj1KxFAlE022WSTEUBQ61cK1PoRQAyJeTtDYhJAyiabbLLJEkCGxLydITETQERi3s6QmBNAAAAAAAAAFEA=\",\"dtype\":\"float64\",\"shape\":[100]},\"y\":{\"__ndarray__\":\"0s01rq94hjw2A+SsxcKUP6lrDwa3I6Q/XT3tvZZDrD8fuzD2PO6wP+TgQCVZILI/HDAZWIGGsT/Kw1zNvDWuP2vD7ZbbC6Y/afhcB41ylj8LfozDWrxkv5b9ZICmqpy/psXCErOYqr8f4RReyGayv6Zp/4Yo57W/sXDslFlbt7/yVzOg2n62v+Du3UkHRLO/zAB/uSOxq7+wRbQXSpKav8eB6+E3wHs/7gqP62cKpT/nUHrAQNuyP64sjmsi3rk/c6TFVJa+vj/d1tTSd2nAP9IDj1zJqb8//gwi0tIYuz9FU/SjNEazP/f5NMTpVqE/+LUBhsp1j7/kLjiot3uxv29ksGuxvL6/G8ZGmMgrxb9diNUNxHjJv0pD7kGNpcu/aBwXbLkty7/LDPHnW7THv+BDpMqnDcG/2A3RMKgUrb+qz51bA4ClPyMmpZRJZcQ/GmvFyImO0j/xHTefgFnbPwWKYuRcDuI/jRCuEVEu5j8dlTtNpNDpP/OgyElVv+w/5hKxqCLO7j+my4LFq93vP6bLgsWr3e8/5hKxqCLO7j/zoMhJVb/sPx2VO02k0Ok/lxCuEVEu5j8FimLkXA7iP/EdN5+AWds/GmvFyImO0j9IJqWUSWXEP6rPnVsDgKU/2A3RMKgUrb/gQ6TKpw3Bv8UM8edbtMe/ZhwXbLkty79KQ+5BjaXLv12I1Q3EeMm/E8ZGmMgrxb95ZLBrsby+v+8uOKi3e7G/+LUBhsp1j7/3+TTE6VahPz1T9KM0RrM/+gwi0tIYuz/SA49cyam/P93W1NJ3acA/eaTFVJa+vj+3LI5rIt65P+dQesBA27I/7gqP62cKpT+iguvhN8B7P7BFtBdKkpq/zAB/uSOxq7/S7t1JB0Szv/JXM6Dafra/sXDslFlbt7+eaf+GKOe1vx/hFF7IZrK/uMXCErOYqr+W/WSApqqcvwt+jMNavGS/H/hcB41ylj9rw+2W2wumP7bDXM28Na4/ITAZWIGGsT/k4EAlWSCyPyK7MPY87rA/XT3tvZZDrD+paw8GtyOkP/cC5KzFwpQ/0s01rq94hjw=\",\"dtype\":\"float64\",\"shape\":[100]}}},\"id\":\"f4d40dc6-5d5b-46ec-ac02-b05a84e3d7f7\",\"type\":\"ColumnDataSource\"},{\"attributes\":{},\"id\":\"b3ecdadd-9a1b-434d-bb79-f4484016bffb\",\"type\":\"PanTool\"},{\"attributes\":{},\"id\":\"fd5b33f7-f149-4687-97ae-d714d006ce63\",\"type\":\"ResetTool\"},{\"attributes\":{},\"id\":\"0e538f4b-86f6-4e8a-9b46-f7bf289fca4b\",\"type\":\"WheelZoomTool\"},{\"attributes\":{\"overlay\":{\"id\":\"ee01333d-ea06-4770-a47a-6ad5163a1144\",\"type\":\"BoxAnnotation\"}},\"id\":\"b1a5d728-baa4-4e80-94d6-988b32aeaa8b\",\"type\":\"BoxZoomTool\"},{\"attributes\":{},\"id\":\"c3209a12-0b24-4963-9297-278dddeea2a2\",\"type\":\"SaveTool\"},{\"attributes\":{},\"id\":\"cee5ae7e-b7a7-4f2e-aaa3-9e615c2ad8ab\",\"type\":\"HelpTool\"},{\"attributes\":{\"formatter\":{\"id\":\"7d6323c6-83a7-4de1-bade-9c59a5c8b17f\",\"type\":\"BasicTickFormatter\"},\"plot\":{\"id\":\"2e29d983-f281-4dff-a570-873cf21ec0b3\",\"subtype\":\"Figure\",\"type\":\"Plot\"},\"ticker\":{\"id\":\"c7dcb055-25e8-4e9a-9f2b-1bd86c388282\",\"type\":\"BasicTicker\"}},\"id\":\"1f549c10-a9ef-42d7-b3f9-e320a0cf381c\",\"type\":\"LinearAxis\"},{\"attributes\":{\"children\":[{\"id\":\"94a0d003-adc4-461e-b2b0-1bf0643d76f3\",\"type\":\"ToolbarBox\"},{\"id\":\"463e36af-dc1f-40d7-8c5d-5e563041a656\",\"type\":\"Column\"}]},\"id\":\"4cbd4f0a-83f5-4318-b2d2-34016d7dd73d\",\"type\":\"Column\"},{\"attributes\":{\"line_color\":{\"value\":\"#1f77b4\"},\"x\":{\"field\":\"x\"},\"y\":{\"field\":\"y\"}},\"id\":\"f2267436-dae2-4bbe-9a4b-958ea6a0fc41\",\"type\":\"Line\"},{\"attributes\":{\"children\":[{\"id\":\"e7a8feed-e0dd-4e4f-9588-a1b4e63c92c7\",\"subtype\":\"Figure\",\"type\":\"Plot\"},{\"id\":\"2e29d983-f281-4dff-a570-873cf21ec0b3\",\"subtype\":\"Figure\",\"type\":\"Plot\"}]},\"id\":\"21fff93d-2335-4099-a078-ab82016308c5\",\"type\":\"Row\"},{\"attributes\":{\"line_alpha\":{\"value\":0.1},\"line_color\":{\"value\":\"#1f77b4\"},\"x\":{\"field\":\"x\"},\"y\":{\"field\":\"y\"}},\"id\":\"02945ea0-5d04-41f3-834c-0416b0b2353c\",\"type\":\"Line\"},{\"attributes\":{\"callback\":null,\"column_names\":[\"x\",\"y\"],\"data\":{\"x\":{\"__ndarray__\":\"AAAAAAAAFMBDYt7OkJgTwIbEvJ0hMRPAyiabbLLJEsANiXk7Q2ISwFDrVwrU+hHAk0022WSTEcDXrxSo9SsRwBoS83aGxBDAXXTRRRddEMBArV8pUOsPwMdxHMdxHA/ATjbZZJNNDsDU+pUCtX4NwFq/UqDWrwzA4YMPPvjgC8BoSMzbGRILwO4MiXk7QwrAdNFFF110CcD7lQK1fqUIwIFav1Kg1gfACB988MEHB8CO4ziO4zgGwBWo9SsFagXAm2yyySabBMAiMW9nSMwDwKj1KwVq/QLAL7rooosuAsC1fqVArV8BwDxDYt7OkADAhA8++OCD/7+SmLczJOb9v54hMW9nSPy/qqqqqqqq+r+4MyTm7Qz5v8S8nSExb/e/0kUXXXTR9b/ezpCYtzP0v+xXCtT6lfK/+OCDDz748L8I1PqVArXuvyjm7QyJeeu/QPjggw8+6L9YCtT6lQLlv3Acx3Ecx+G/IF100UUX3b9QgVq/UqDWv4ClQK1fKdC/YJNNNtlkw78Ab2dIzNupvwBvZ0jM26k/YJNNNtlkwz+ApUCtXynQP1CBWr9SoNY/EF100UUX3T9wHMdxHMfhP1gK1PqVAuU/QPjggw8+6D8g5u0MiXnrPwjU+pUCte4/+OCDDz748D/sVwrU+pXyP9zOkJi3M/Q/0EUXXXTR9T/EvJ0hMW/3P7gzJObtDPk/rKqqqqqq+j+cITFvZ0j8P5CYtzMk5v0/hA8++OCD/z88Q2LezpAAQLR+pUCtXwFALrrooosuAkCo9SsFav0CQCIxb2dIzANAmmyyySabBEAUqPUrBWoFQI7jOI7jOAZACB988MEHB0CAWr9SoNYHQPyVArV+pQhAdNFFF110CUDsDIl5O0MKQGhIzNsZEgtA4IMPPvjgC0Bcv1Kg1q8MQNT6lQK1fg1ATDbZZJNNDkDIcRzHcRwPQECtXylQ6w9AXHTRRRddEEAaEvN2hsQQQNavFKj1KxFAlE022WSTEUBQ61cK1PoRQAyJeTtDYhJAyiabbLLJEkCGxLydITETQERi3s6QmBNAAAAAAAAAFEA=\",\"dtype\":\"float64\",\"shape\":[100]},\"y\":{\"__ndarray__\":\"M5ng9YGv7j+d54yBynHvP7uw9goD4u8/WYyUswb/7z8/sQHDicjvPzKKmmwaP+8/4LxgXB9k7j8+JO8O1DntP12ZCP5Cw+s/w9j1sD0E6j9HlmjFUgHoP4mJ5QrCv+U/wRS/z25F4z85AGGD0JjgP0qdDqzDgds/ayLWAx2K1T+nT7i1f7TOP/N6QGOjBMI/uFFoxwSXpD/23toTQBqvvyAsqliWnsS/RnIPa2ag0L8bHOd8HcbWv8HNv11lsNy/hAK7Eucn4b9UQbKo1crjvzDk/AcdOua/kUw2lWJv6L96EWsX42Tqvz5aEsKBFey///6zjNV87b8Lamm1NJfuv9iQL1C+Ye+/dhoXymHa7788pbdM5P/vv3Ij1vPj0e+/VwDezNhQ778/VJKdE37uvzzQKHW6W+2/LxXEEMPs678I1O8h6zTqvzuNR4uuOOi/f6HCrDv95b+Swy/eZYjjvy6EKTuW4OC/b4hi0HUZ3L+ovTP5aSjWv1vH1QEV+8+/tDwiw99Rw7+z5g3t+9ipv7PmDe372Kk/tDwiw99Rwz9bx9UBFfvPP6i9M/lpKNY/YIhi0HUZ3D8uhCk7luDgP5LDL95liOM/f6HCrDv95T82jUeLrjjoPwjU7yHrNOo/LxXEEMPs6z880Ch1ulvtPz5Ukp0Tfu4/VgDezNhQ7z9yI9bz49HvPzylt0zk/+8/dhoXymHa7z/ZkC9QvmHvPwxqabU0l+4///6zjNV87T8+WhLCgRXsP30RaxfjZOo/k0w2lWJv6D8w5PwHHTrmP1RBsqjVyuM/iAK7Eucn4T/Izb9dZbDcPxsc53wdxtY/RnIPa2ag0D8wLKpYlp7EP7be2hNAGq8/uFFoxwSXpL/UekBjowTCv6dPuLV/tM6/ZCLWAx2K1b9YnQ6sw4HbvzkAYYPQmOC/uxS/z25F47+MieUKwr/lv0eWaMVSAei/vtj1sD0E6r9dmQj+QsPrvzsk7w7UOe2/47xgXB9k7r8yippsGj/vvz+xAcOJyO+/WYyUswb/77+7sPYKA+Lvv5znjIHKce+/M5ng9YGv7r8=\",\"dtype\":\"float64\",\"shape\":[100]}}},\"id\":\"57d1dd09-6613-4911-98ac-7c9cff97102e\",\"type\":\"ColumnDataSource\"},{\"attributes\":{},\"id\":\"8383f105-095f-4056-8e01-d0982a220796\",\"type\":\"BasicTickFormatter\"},{\"attributes\":{\"data_source\":{\"id\":\"57d1dd09-6613-4911-98ac-7c9cff97102e\",\"type\":\"ColumnDataSource\"},\"glyph\":{\"id\":\"f2267436-dae2-4bbe-9a4b-958ea6a0fc41\",\"type\":\"Line\"},\"hover_glyph\":null,\"muted_glyph\":null,\"nonselection_glyph\":{\"id\":\"02945ea0-5d04-41f3-834c-0416b0b2353c\",\"type\":\"Line\"},\"selection_glyph\":null,\"view\":{\"id\":\"dca57ff6-26b4-4f6f-86e0-344a5bb039d6\",\"type\":\"CDSView\"}},\"id\":\"81ebc9d6-09e4-459c-89a8-5d3df7b1523b\",\"type\":\"GlyphRenderer\"},{\"attributes\":{},\"id\":\"1d270926-b158-4359-a78e-f2298dbf1c40\",\"type\":\"LinearScale\"},{\"attributes\":{},\"id\":\"7d6323c6-83a7-4de1-bade-9c59a5c8b17f\",\"type\":\"BasicTickFormatter\"},{\"attributes\":{},\"id\":\"734ef3b8-2dc4-4823-a449-8714de219ab2\",\"type\":\"BasicTickFormatter\"},{\"attributes\":{\"source\":{\"id\":\"f4d40dc6-5d5b-46ec-ac02-b05a84e3d7f7\",\"type\":\"ColumnDataSource\"}},\"id\":\"3cd90b5c-4d48-4577-8d3e-fb8f6a6d50d4\",\"type\":\"CDSView\"},{\"attributes\":{\"source\":{\"id\":\"57d1dd09-6613-4911-98ac-7c9cff97102e\",\"type\":\"ColumnDataSource\"}},\"id\":\"dca57ff6-26b4-4f6f-86e0-344a5bb039d6\",\"type\":\"CDSView\"},{\"attributes\":{},\"id\":\"8a057c06-5c4e-4f63-9bc5-72dfae66369e\",\"type\":\"BasicTickFormatter\"},{\"attributes\":{},\"id\":\"388a6cfb-6ebe-43ea-b8a1-dbce26e62384\",\"type\":\"HelpTool\"},{\"attributes\":{\"bottom_units\":\"screen\",\"fill_alpha\":{\"value\":0.5},\"fill_color\":{\"value\":\"lightgrey\"},\"left_units\":\"screen\",\"level\":\"overlay\",\"line_alpha\":{\"value\":1.0},\"line_color\":{\"value\":\"black\"},\"line_dash\":[4,4],\"line_width\":{\"value\":2},\"plot\":null,\"render_mode\":\"css\",\"right_units\":\"screen\",\"top_units\":\"screen\"},\"id\":\"052c2c70-877a-4395-a04e-2f96b580890d\",\"type\":\"BoxAnnotation\"},{\"attributes\":{},\"id\":\"3fa2c12c-be6d-453c-8803-24c1c93a804b\",\"type\":\"SaveTool\"},{\"attributes\":{\"below\":[{\"id\":\"2b9d4a86-4f40-4f18-94c3-cb5c6c69fd7d\",\"type\":\"LinearAxis\"}],\"left\":[{\"id\":\"db8df54d-99d9-44a2-8536-5bcb5b72ba0e\",\"type\":\"LinearAxis\"}],\"plot_height\":300,\"plot_width\":300,\"renderers\":[{\"id\":\"2b9d4a86-4f40-4f18-94c3-cb5c6c69fd7d\",\"type\":\"LinearAxis\"},{\"id\":\"b481babe-18f3-4912-967b-ae489d690c76\",\"type\":\"Grid\"},{\"id\":\"db8df54d-99d9-44a2-8536-5bcb5b72ba0e\",\"type\":\"LinearAxis\"},{\"id\":\"977cdbd7-ab67-4f21-b72a-0d2370fbc271\",\"type\":\"Grid\"},{\"id\":\"ee01333d-ea06-4770-a47a-6ad5163a1144\",\"type\":\"BoxAnnotation\"},{\"id\":\"81ebc9d6-09e4-459c-89a8-5d3df7b1523b\",\"type\":\"GlyphRenderer\"}],\"title\":{\"id\":\"234e9c33-dcd8-45b7-8e67-c36b26d8083f\",\"type\":\"Title\"},\"toolbar\":{\"id\":\"18cedb9b-af35-498a-bfef-6a1d3dbee3ff\",\"type\":\"Toolbar\"},\"toolbar_location\":null,\"x_range\":{\"id\":\"4ac011fe-1340-4392-a92d-60976d2fa038\",\"type\":\"DataRange1d\"},\"x_scale\":{\"id\":\"b9772eec-a6c9-49e0-bfae-f6dba6b4517d\",\"type\":\"LinearScale\"},\"y_range\":{\"id\":\"4663c3f1-318b-4e87-83ca-9ad82aaac1f2\",\"type\":\"DataRange1d\"},\"y_scale\":{\"id\":\"c9813631-d1ca-4084-90e9-c18fd9d3a30a\",\"type\":\"LinearScale\"}},\"id\":\"e7a8feed-e0dd-4e4f-9588-a1b4e63c92c7\",\"subtype\":\"Figure\",\"type\":\"Plot\"},{\"attributes\":{},\"id\":\"eb1f6454-a185-424f-8d87-d5d189d7e915\",\"type\":\"WheelZoomTool\"},{\"attributes\":{\"overlay\":{\"id\":\"052c2c70-877a-4395-a04e-2f96b580890d\",\"type\":\"BoxAnnotation\"}},\"id\":\"0992498d-ec98-4fca-9d26-64c3ac5895ad\",\"type\":\"BoxZoomTool\"},{\"attributes\":{\"plot\":null,\"text\":\"sin(x)\"},\"id\":\"234e9c33-dcd8-45b7-8e67-c36b26d8083f\",\"type\":\"Title\"},{\"attributes\":{\"data_source\":{\"id\":\"f4d40dc6-5d5b-46ec-ac02-b05a84e3d7f7\",\"type\":\"ColumnDataSource\"},\"glyph\":{\"id\":\"a434bd74-84a0-4fd5-9144-80dc115b6d88\",\"type\":\"Line\"},\"hover_glyph\":null,\"muted_glyph\":null,\"nonselection_glyph\":{\"id\":\"123e887a-ca0a-4b2f-a0e7-e67ae6af7b27\",\"type\":\"Line\"},\"selection_glyph\":null,\"view\":{\"id\":\"3cd90b5c-4d48-4577-8d3e-fb8f6a6d50d4\",\"type\":\"CDSView\"}},\"id\":\"c2d5b6c6-b934-4c27-be48-c11bfabfb97d\",\"type\":\"GlyphRenderer\"},{\"attributes\":{},\"id\":\"9b095373-3cbf-4005-845a-149ddfa925e6\",\"type\":\"PanTool\"},{\"attributes\":{\"callback\":null},\"id\":\"4ac011fe-1340-4392-a92d-60976d2fa038\",\"type\":\"DataRange1d\"},{\"attributes\":{},\"id\":\"556bc429-3f90-4c35-82ce-626170974e89\",\"type\":\"ResetTool\"},{\"attributes\":{\"formatter\":{\"id\":\"8a057c06-5c4e-4f63-9bc5-72dfae66369e\",\"type\":\"BasicTickFormatter\"},\"plot\":{\"id\":\"e7a8feed-e0dd-4e4f-9588-a1b4e63c92c7\",\"subtype\":\"Figure\",\"type\":\"Plot\"},\"ticker\":{\"id\":\"e37e0476-8bd9-49c7-b424-29e189f2bb2a\",\"type\":\"BasicTicker\"}},\"id\":\"db8df54d-99d9-44a2-8536-5bcb5b72ba0e\",\"type\":\"LinearAxis\"},{\"attributes\":{\"children\":[{\"id\":\"21fff93d-2335-4099-a078-ab82016308c5\",\"type\":\"Row\"}]},\"id\":\"463e36af-dc1f-40d7-8c5d-5e563041a656\",\"type\":\"Column\"},{\"attributes\":{},\"id\":\"e37e0476-8bd9-49c7-b424-29e189f2bb2a\",\"type\":\"BasicTicker\"},{\"attributes\":{\"active_drag\":\"auto\",\"active_inspect\":\"auto\",\"active_scroll\":\"auto\",\"active_tap\":\"auto\",\"tools\":[{\"id\":\"b3ecdadd-9a1b-434d-bb79-f4484016bffb\",\"type\":\"PanTool\"},{\"id\":\"0e538f4b-86f6-4e8a-9b46-f7bf289fca4b\",\"type\":\"WheelZoomTool\"},{\"id\":\"b1a5d728-baa4-4e80-94d6-988b32aeaa8b\",\"type\":\"BoxZoomTool\"},{\"id\":\"c3209a12-0b24-4963-9297-278dddeea2a2\",\"type\":\"SaveTool\"},{\"id\":\"fd5b33f7-f149-4687-97ae-d714d006ce63\",\"type\":\"ResetTool\"},{\"id\":\"cee5ae7e-b7a7-4f2e-aaa3-9e615c2ad8ab\",\"type\":\"HelpTool\"}]},\"id\":\"18cedb9b-af35-498a-bfef-6a1d3dbee3ff\",\"type\":\"Toolbar\"},{\"attributes\":{},\"id\":\"b9772eec-a6c9-49e0-bfae-f6dba6b4517d\",\"type\":\"LinearScale\"},{\"attributes\":{\"dimension\":1,\"plot\":{\"id\":\"2e29d983-f281-4dff-a570-873cf21ec0b3\",\"subtype\":\"Figure\",\"type\":\"Plot\"},\"ticker\":{\"id\":\"74a252a8-698c-48d2-a59c-284d68a4df1d\",\"type\":\"BasicTicker\"}},\"id\":\"2815a957-7072-4b76-b6c5-671fba72d13e\",\"type\":\"Grid\"},{\"attributes\":{\"callback\":null},\"id\":\"4663c3f1-318b-4e87-83ca-9ad82aaac1f2\",\"type\":\"DataRange1d\"},{\"attributes\":{\"line_alpha\":{\"value\":0.1},\"line_color\":{\"value\":\"#1f77b4\"},\"x\":{\"field\":\"x\"},\"y\":{\"field\":\"y\"}},\"id\":\"123e887a-ca0a-4b2f-a0e7-e67ae6af7b27\",\"type\":\"Line\"},{\"attributes\":{},\"id\":\"c9813631-d1ca-4084-90e9-c18fd9d3a30a\",\"type\":\"LinearScale\"},{\"attributes\":{},\"id\":\"74a252a8-698c-48d2-a59c-284d68a4df1d\",\"type\":\"BasicTicker\"},{\"attributes\":{\"formatter\":{\"id\":\"734ef3b8-2dc4-4823-a449-8714de219ab2\",\"type\":\"BasicTickFormatter\"},\"plot\":{\"id\":\"e7a8feed-e0dd-4e4f-9588-a1b4e63c92c7\",\"subtype\":\"Figure\",\"type\":\"Plot\"},\"ticker\":{\"id\":\"afff2d42-be7c-42d3-ab65-b42da5ad92e4\",\"type\":\"BasicTicker\"}},\"id\":\"2b9d4a86-4f40-4f18-94c3-cb5c6c69fd7d\",\"type\":\"LinearAxis\"},{\"attributes\":{\"formatter\":{\"id\":\"8383f105-095f-4056-8e01-d0982a220796\",\"type\":\"BasicTickFormatter\"},\"plot\":{\"id\":\"2e29d983-f281-4dff-a570-873cf21ec0b3\",\"subtype\":\"Figure\",\"type\":\"Plot\"},\"ticker\":{\"id\":\"74a252a8-698c-48d2-a59c-284d68a4df1d\",\"type\":\"BasicTicker\"}},\"id\":\"dc2874da-5e69-4e56-8f69-28cd1bd998e3\",\"type\":\"LinearAxis\"},{\"attributes\":{},\"id\":\"afff2d42-be7c-42d3-ab65-b42da5ad92e4\",\"type\":\"BasicTicker\"},{\"attributes\":{\"plot\":{\"id\":\"e7a8feed-e0dd-4e4f-9588-a1b4e63c92c7\",\"subtype\":\"Figure\",\"type\":\"Plot\"},\"ticker\":{\"id\":\"afff2d42-be7c-42d3-ab65-b42da5ad92e4\",\"type\":\"BasicTicker\"}},\"id\":\"b481babe-18f3-4912-967b-ae489d690c76\",\"type\":\"Grid\"}],\"root_ids\":[\"4cbd4f0a-83f5-4318-b2d2-34016d7dd73d\"]},\"title\":\"Bokeh Application\",\"version\":\"0.12.10\"}};\n",
       "    var render_items = [{\"docid\":\"577cbf5e-7702-476d-9b61-809fe3a00a97\",\"elementid\":\"caf9e08c-d31f-4f0e-bd8a-b231c6ee5708\",\"modelid\":\"4cbd4f0a-83f5-4318-b2d2-34016d7dd73d\"}];\n",
       "\n",
       "    root.Bokeh.embed.embed_items(docs_json, render_items);\n",
       "  }\n",
       "\n",
       "  if (root.Bokeh !== undefined) {\n",
       "    embed_document(root);\n",
       "  } else {\n",
       "    var attempts = 0;\n",
       "    var timer = setInterval(function(root) {\n",
       "      if (root.Bokeh !== undefined) {\n",
       "        embed_document(root);\n",
       "        clearInterval(timer);\n",
       "      }\n",
       "      attempts++;\n",
       "      if (attempts > 100) {\n",
       "        console.log(\"Bokeh: ERROR: Unable to embed document because BokehJS library is missing\")\n",
       "        clearInterval(timer);\n",
       "      }\n",
       "    }, 10, root)\n",
       "  }\n",
       "})(window);"
      ],
      "application/vnd.bokehjs_exec.v0+json": ""
     },
     "metadata": {
      "application/vnd.bokehjs_exec.v0+json": {
       "id": "4cbd4f0a-83f5-4318-b2d2-34016d7dd73d"
      }
     },
     "output_type": "display_data"
    }
   ],
   "source": [
    "xs = np.linspace(-5, 5, 100)\n",
    "fig1 = figure(title='sin(x)', plot_width=300, plot_height=300)\n",
    "fig1.line(xs, np.sin(xs))\n",
    "fig2 = figure(x_range=fig1.x_range, y_range=fig1.y_range, title='sinc(x)', plot_width=300, plot_height=300)\n",
    "fig2.line(xs, np.sinc(xs))\n",
    "gp = gridplot([[fig1, fig2]])\n",
    "show(gp)"
   ]
  },
  {
   "cell_type": "code",
   "execution_count": null,
   "metadata": {
    "collapsed": true
   },
   "outputs": [],
   "source": []
  }
 ],
 "metadata": {
  "kernelspec": {
   "display_name": "Python 3",
   "language": "python",
   "name": "python3"
  },
  "language_info": {
   "codemirror_mode": {
    "name": "ipython",
    "version": 3
   },
   "file_extension": ".py",
   "mimetype": "text/x-python",
   "name": "python",
   "nbconvert_exporter": "python",
   "pygments_lexer": "ipython3",
   "version": "3.6.3"
  }
 },
 "nbformat": 4,
 "nbformat_minor": 2
}
