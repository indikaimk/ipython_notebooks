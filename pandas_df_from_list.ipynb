{
 "cells": [
  {
   "cell_type": "code",
   "execution_count": 12,
   "metadata": {},
   "outputs": [],
   "source": [
    "import pandas as pd"
   ]
  },
  {
   "cell_type": "code",
   "execution_count": 13,
   "metadata": {},
   "outputs": [
    {
     "name": "stdout",
     "output_type": "stream",
     "text": [
      "<class 'list'>\n"
     ]
    }
   ],
   "source": [
    "list = [{\"a\":\"Tue, 25 Jun 2019 12:59:33 -0700\", \"b\":\"10\"}, {\"a\":\"Sun, 23 Jun 2019 14:51:00 -0700\", \"b\":\"20\"}]\n",
    "print(list.__class__)"
   ]
  },
  {
   "cell_type": "code",
   "execution_count": 14,
   "metadata": {},
   "outputs": [
    {
     "name": "stdout",
     "output_type": "stream",
     "text": [
      "[{'a': 'Tue, 25 Jun 2019 12:59:33 -0700', 'b': '10'}, {'a': 'Sun, 23 Jun 2019 14:51:00 -0700', 'b': '20'}]\n"
     ]
    }
   ],
   "source": [
    "print(list)"
   ]
  },
  {
   "cell_type": "code",
   "execution_count": 15,
   "metadata": {},
   "outputs": [
    {
     "name": "stdout",
     "output_type": "stream",
     "text": [
      "                                 a   b\n",
      "0  Tue, 25 Jun 2019 12:59:33 -0700  10\n",
      "1  Sun, 23 Jun 2019 14:51:00 -0700  20\n"
     ]
    }
   ],
   "source": [
    "df = pd.DataFrame(list)\n",
    "print(df)"
   ]
  },
  {
   "cell_type": "code",
   "execution_count": 16,
   "metadata": {},
   "outputs": [
    {
     "data": {
      "text/plain": [
       "a    object\n",
       "b    object\n",
       "dtype: object"
      ]
     },
     "execution_count": 16,
     "metadata": {},
     "output_type": "execute_result"
    }
   ],
   "source": [
    "df.dtypes"
   ]
  },
  {
   "cell_type": "code",
   "execution_count": 22,
   "metadata": {},
   "outputs": [
    {
     "name": "stdout",
     "output_type": "stream",
     "text": [
      "                           a    b\n",
      "0 2019-07-14 07:46:01.177050  100\n",
      "1 2019-05-01 00:00:00.000000  200\n",
      "a    datetime64[ns]\n",
      "b             int64\n",
      "dtype: object\n"
     ]
    }
   ],
   "source": [
    "#creating a DataFrame with a list containing datetime objects\n",
    "import datetime\n",
    "d1 = datetime.datetime.now()\n",
    "d2 = datetime.datetime(2019, 5, 1)\n",
    "d_list = [{\"a\": d1, \"b\":100}, {\"a\": d2, \"b\":200}]\n",
    "df2 = pd.DataFrame(d_list)\n",
    "print(df2)\n",
    "print(df2.dtypes)"
   ]
  },
  {
   "cell_type": "code",
   "execution_count": null,
   "metadata": {},
   "outputs": [],
   "source": []
  }
 ],
 "metadata": {
  "kernelspec": {
   "display_name": "Python 3",
   "language": "python",
   "name": "python3"
  },
  "language_info": {
   "codemirror_mode": {
    "name": "ipython",
    "version": 3
   },
   "file_extension": ".py",
   "mimetype": "text/x-python",
   "name": "python",
   "nbconvert_exporter": "python",
   "pygments_lexer": "ipython3",
   "version": "3.7.3"
  }
 },
 "nbformat": 4,
 "nbformat_minor": 2
}
